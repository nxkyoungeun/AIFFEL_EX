{
 "cells": [
  {
   "cell_type": "markdown",
   "id": "22d3f52a",
   "metadata": {},
   "source": [
    "# [E-06]MovieReviewAnalysis"
   ]
  },
  {
   "cell_type": "markdown",
   "id": "05f8f52a",
   "metadata": {},
   "source": [
    "## 데이터 준비와 확인"
   ]
  },
  {
   "cell_type": "code",
   "execution_count": 1,
   "id": "fe3eeb20",
   "metadata": {},
   "outputs": [
    {
     "data": {
      "text/html": [
       "<div>\n",
       "<style scoped>\n",
       "    .dataframe tbody tr th:only-of-type {\n",
       "        vertical-align: middle;\n",
       "    }\n",
       "\n",
       "    .dataframe tbody tr th {\n",
       "        vertical-align: top;\n",
       "    }\n",
       "\n",
       "    .dataframe thead th {\n",
       "        text-align: right;\n",
       "    }\n",
       "</style>\n",
       "<table border=\"1\" class=\"dataframe\">\n",
       "  <thead>\n",
       "    <tr style=\"text-align: right;\">\n",
       "      <th></th>\n",
       "      <th>id</th>\n",
       "      <th>document</th>\n",
       "      <th>label</th>\n",
       "    </tr>\n",
       "  </thead>\n",
       "  <tbody>\n",
       "    <tr>\n",
       "      <th>0</th>\n",
       "      <td>9976970</td>\n",
       "      <td>아 더빙.. 진짜 짜증나네요 목소리</td>\n",
       "      <td>0</td>\n",
       "    </tr>\n",
       "    <tr>\n",
       "      <th>1</th>\n",
       "      <td>3819312</td>\n",
       "      <td>흠...포스터보고 초딩영화줄....오버연기조차 가볍지 않구나</td>\n",
       "      <td>1</td>\n",
       "    </tr>\n",
       "    <tr>\n",
       "      <th>2</th>\n",
       "      <td>10265843</td>\n",
       "      <td>너무재밓었다그래서보는것을추천한다</td>\n",
       "      <td>0</td>\n",
       "    </tr>\n",
       "    <tr>\n",
       "      <th>3</th>\n",
       "      <td>9045019</td>\n",
       "      <td>교도소 이야기구먼 ..솔직히 재미는 없다..평점 조정</td>\n",
       "      <td>0</td>\n",
       "    </tr>\n",
       "    <tr>\n",
       "      <th>4</th>\n",
       "      <td>6483659</td>\n",
       "      <td>사이몬페그의 익살스런 연기가 돋보였던 영화!스파이더맨에서 늙어보이기만 했던 커스틴 ...</td>\n",
       "      <td>1</td>\n",
       "    </tr>\n",
       "  </tbody>\n",
       "</table>\n",
       "</div>"
      ],
      "text/plain": [
       "         id                                           document  label\n",
       "0   9976970                                아 더빙.. 진짜 짜증나네요 목소리      0\n",
       "1   3819312                  흠...포스터보고 초딩영화줄....오버연기조차 가볍지 않구나      1\n",
       "2  10265843                                  너무재밓었다그래서보는것을추천한다      0\n",
       "3   9045019                      교도소 이야기구먼 ..솔직히 재미는 없다..평점 조정      0\n",
       "4   6483659  사이몬페그의 익살스런 연기가 돋보였던 영화!스파이더맨에서 늙어보이기만 했던 커스틴 ...      1"
      ]
     },
     "execution_count": 1,
     "metadata": {},
     "output_type": "execute_result"
    }
   ],
   "source": [
    "import pandas as pd\n",
    "\n",
    "train_data = pd.read_table('~/aiffel/sentiment_classification/data/ratings_train.txt')\n",
    "test_data = pd.read_table('~/aiffel/sentiment_classification/data/ratings_test.txt')\n",
    "\n",
    "train_data.head()"
   ]
  },
  {
   "cell_type": "markdown",
   "id": "24994fa2",
   "metadata": {},
   "source": [
    "## 데이터로더 구성"
   ]
  },
  {
   "cell_type": "code",
   "execution_count": 2,
   "id": "3d2cca99",
   "metadata": {},
   "outputs": [],
   "source": [
    "from konlpy.tag import Mecab\n",
    "import numpy as np\n",
    "from collections import Counter\n",
    "\n",
    "tokenizer = Mecab()\n",
    "stopwords = ['의','가','이','은','들','는','좀','잘','걍','과','도','를','으로','자','에','와','한','하다']\n",
    "\n",
    "def load_data(train_data, test_data, num_words=10000):\n",
    "    train_data.drop_duplicates(subset=['document'], inplace=True)\n",
    "    train_data = train_data.dropna(how = 'any') \n",
    "    test_data.drop_duplicates(subset=['document'], inplace=True)\n",
    "    test_data = test_data.dropna(how = 'any') \n",
    "    \n",
    "    X_train = []\n",
    "    for sentence in train_data['document']:\n",
    "        temp_X = tokenizer.morphs(sentence) # 토큰화\n",
    "        temp_X = [word for word in temp_X if not word in stopwords] # 불용어 제거\n",
    "        X_train.append(temp_X)\n",
    "\n",
    "    X_test = []\n",
    "    for sentence in test_data['document']:\n",
    "        temp_X = tokenizer.morphs(sentence) # 토큰화\n",
    "        temp_X = [word for word in temp_X if not word in stopwords] # 불용어 제거\n",
    "        X_test.append(temp_X)\n",
    "    \n",
    "    # 사전 word_to_index 구성\n",
    "    words = np.concatenate(X_train).tolist()\n",
    "    counter = Counter(words)\n",
    "    counter = counter.most_common(10000-4)\n",
    "    vocab = ['<PAD>', '<BOS>', '<UNK>', '<UNUSED>'] + [key for key, _ in counter]\n",
    "    word_to_index = {word:index for index, word in enumerate(vocab)}   \n",
    "        \n",
    "    def wordlist_to_indexlist(wordlist):\n",
    "        return [word_to_index[word] if word in word_to_index else word_to_index['<UNK>'] for word in wordlist]\n",
    "        \n",
    "    X_train = list(map(wordlist_to_indexlist, X_train))\n",
    "    X_test = list(map(wordlist_to_indexlist, X_test))\n",
    "        \n",
    "    return X_train, np.array(list(train_data['label'])), X_test, np.array(list(test_data['label'])), word_to_index\n",
    "    \n",
    "X_train, y_train, X_test, y_test, word_to_index = load_data(train_data, test_data)"
   ]
  },
  {
   "cell_type": "code",
   "execution_count": 3,
   "id": "eb2fe861",
   "metadata": {},
   "outputs": [],
   "source": [
    "index_to_word = {index:word for word, index in word_to_index.items()}"
   ]
  },
  {
   "cell_type": "code",
   "execution_count": 4,
   "id": "7cff2dc4",
   "metadata": {},
   "outputs": [],
   "source": [
    "# 문장 1개를 활용할 딕셔너리와 함께 주면, 단어 인덱스 리스트 벡터로 변환해 주는 함수입니다. \n",
    "# 단, 모든 문장은 <BOS>로 시작하는 것으로 합니다. \n",
    "def get_encoded_sentence(sentence, word_to_index):\n",
    "    return [word_to_index['<BOS>']]+[word_to_index[word] if word in word_to_index else word_to_index['<UNK>'] for word in sentence.split()]\n",
    "\n",
    "# 여러 개의 문장 리스트를 한꺼번에 단어 인덱스 리스트 벡터로 encode해 주는 함수입니다. \n",
    "def get_encoded_sentences(sentences, word_to_index):\n",
    "    return [get_encoded_sentence(sentence, word_to_index) for sentence in sentences]\n",
    "\n",
    "# 숫자 벡터로 encode된 문장을 원래대로 decode하는 함수입니다. \n",
    "def get_decoded_sentence(encoded_sentence, index_to_word):\n",
    "    return ' '.join(index_to_word[index] if index in index_to_word else '<UNK>' for index in encoded_sentence[1:])  #[1:]를 통해 <BOS>를 제외\n",
    "\n",
    "# 여러 개의 숫자 벡터로 encode된 문장을 한꺼번에 원래대로 decode하는 함수입니다. \n",
    "def get_decoded_sentences(encoded_sentences, index_to_word):\n",
    "    return [get_decoded_sentence(encoded_sentence, index_to_word) for encoded_sentence in encoded_sentences]"
   ]
  },
  {
   "cell_type": "markdown",
   "id": "7d96de64",
   "metadata": {},
   "source": [
    "## 모델 구성을 위한 데이터 분석 및 가공"
   ]
  },
  {
   "cell_type": "code",
   "execution_count": 5,
   "id": "1b40c5d2",
   "metadata": {},
   "outputs": [
    {
     "name": "stdout",
     "output_type": "stream",
     "text": [
      "[32, 74, 919, 4, 4, 39, 228, 20, 33, 748]\n",
      "라벨:  0\n",
      "1번째 리뷰 문장 길이:  10\n",
      "2번째 리뷰 문장 길이:  17\n"
     ]
    }
   ],
   "source": [
    "print(X_train[0])  # 1번째 리뷰데이터\n",
    "print('라벨: ', y_train[0])  # 1번째 리뷰데이터의 라벨\n",
    "print('1번째 리뷰 문장 길이: ', len(X_train[0]))\n",
    "print('2번째 리뷰 문장 길이: ', len(X_train[1]))"
   ]
  },
  {
   "cell_type": "code",
   "execution_count": 6,
   "id": "ba32ac53",
   "metadata": {},
   "outputs": [
    {
     "name": "stdout",
     "output_type": "stream",
     "text": [
      "문장길이 평균 :  15.96940191154864\n",
      "문장길이 최대 :  116\n",
      "문장길이 표준편차 :  12.843571191092\n",
      "pad_sequences maxlen :  41\n",
      "전체 문장의 93.43%가 maxlen 설정값 이내에 포함됩니다. \n"
     ]
    }
   ],
   "source": [
    "# 텍스트데이터 문장길이의 리스트를 생성한 후\n",
    "total_data_text = list(X_train) + list(X_test)\n",
    "# 문장길이의 평균값, 최대값, 표준편차를 계산해 본다.\n",
    "num_tokens = [len(tokens) for tokens in total_data_text]\n",
    "num_tokens = np.array(num_tokens)\n",
    "# 데이터셋 내 문장 길이 분포 \n",
    "print('문장길이 평균 : ', np.mean(num_tokens))\n",
    "print('문장길이 최대 : ', np.max(num_tokens))\n",
    "print('문장길이 표준편차 : ', np.std(num_tokens))\n",
    "\n",
    "# 적절한 최대 문장 길이 지정\n",
    "# 예를들어, 최대 길이를 (평균 + 2*표준편차)로 한다면,  \n",
    "max_tokens = np.mean(num_tokens) + 2 * np.std(num_tokens)\n",
    "maxlen = int(max_tokens)\n",
    "print('pad_sequences maxlen : ', maxlen)\n",
    "print('전체 문장의 {:.2f}%가 maxlen 설정값 이내에 포함됩니다. '.format(np.sum(num_tokens < max_tokens) / len(num_tokens) * 100))\n"
   ]
  },
  {
   "cell_type": "code",
   "execution_count": 7,
   "id": "9b664b41",
   "metadata": {},
   "outputs": [
    {
     "name": "stdout",
     "output_type": "stream",
     "text": [
      "(146182, 41)\n"
     ]
    }
   ],
   "source": [
    "# keras.preprocessing.sequence.pad_sequences 을 활용한 패딩 추가\n",
    "\n",
    "import tensorflow as tf\n",
    "\n",
    "X_train = tf.keras.preprocessing.sequence.pad_sequences(X_train,\n",
    "                                                        value=word_to_index[\"<PAD>\"],\n",
    "                                                        padding='post', # 혹은 'pre'\n",
    "                                                        maxlen=maxlen)\n",
    "\n",
    "X_test = tf.keras.preprocessing.sequence.pad_sequences(X_test,\n",
    "                                                       value=word_to_index[\"<PAD>\"],\n",
    "                                                       padding='post', # 혹은 'pre'\n",
    "                                                       maxlen=maxlen)\n",
    "\n",
    "print(X_train.shape)"
   ]
  },
  {
   "cell_type": "markdown",
   "id": "efa6309e",
   "metadata": {},
   "source": [
    "## 1. RNN 모델"
   ]
  },
  {
   "cell_type": "markdown",
   "id": "4dbad4de",
   "metadata": {},
   "source": [
    "### 모델 구성 및 validation set 구성"
   ]
  },
  {
   "cell_type": "code",
   "execution_count": 8,
   "id": "b4b96308",
   "metadata": {},
   "outputs": [
    {
     "name": "stdout",
     "output_type": "stream",
     "text": [
      "Model: \"sequential\"\n",
      "_________________________________________________________________\n",
      "Layer (type)                 Output Shape              Param #   \n",
      "=================================================================\n",
      "embedding (Embedding)        (None, None, 16)          160000    \n",
      "_________________________________________________________________\n",
      "lstm (LSTM)                  (None, 8)                 800       \n",
      "_________________________________________________________________\n",
      "dense (Dense)                (None, 8)                 72        \n",
      "_________________________________________________________________\n",
      "dense_1 (Dense)              (None, 1)                 9         \n",
      "=================================================================\n",
      "Total params: 160,881\n",
      "Trainable params: 160,881\n",
      "Non-trainable params: 0\n",
      "_________________________________________________________________\n"
     ]
    }
   ],
   "source": [
    "vocab_size = 10000    # 어휘 사전의 크기입니다(10,000개의 단어)\n",
    "word_vector_dim = 16  # 워드 벡터의 차원 수 (변경 가능한 하이퍼파라미터)\n",
    "\n",
    "model_RNN = tf.keras.Sequential()\n",
    "model_RNN.add(tf.keras.layers.Embedding(vocab_size, \n",
    "                                        word_vector_dim, \n",
    "                                        input_shape=(None,)))\n",
    "model_RNN.add(tf.keras.layers.LSTM(8))\n",
    "model_RNN.add(tf.keras.layers.Dense(8, activation='relu'))\n",
    "model_RNN.add(tf.keras.layers.Dense(1, activation='sigmoid'))\n",
    "\n",
    "model_RNN.summary()"
   ]
  },
  {
   "cell_type": "markdown",
   "id": "86cc4b64",
   "metadata": {},
   "source": [
    "### Google Word2vec 사용 Embed모델"
   ]
  },
  {
   "cell_type": "code",
   "execution_count": 11,
   "id": "3b03157f",
   "metadata": {},
   "outputs": [
    {
     "name": "stdout",
     "output_type": "stream",
     "text": [
      "Model: \"sequential_2\"\n",
      "_________________________________________________________________\n",
      "Layer (type)                 Output Shape              Param #   \n",
      "=================================================================\n",
      "embedding_1 (Embedding)      (None, None, 300)         3000000   \n",
      "_________________________________________________________________\n",
      "lstm_1 (LSTM)                (None, 8)                 9888      \n",
      "_________________________________________________________________\n",
      "dense_2 (Dense)              (None, 8)                 72        \n",
      "_________________________________________________________________\n",
      "dense_3 (Dense)              (None, 1)                 9         \n",
      "=================================================================\n",
      "Total params: 3,009,969\n",
      "Trainable params: 3,009,969\n",
      "Non-trainable params: 0\n",
      "_________________________________________________________________\n"
     ]
    }
   ],
   "source": [
    "import os\n",
    "from gensim.models import KeyedVectors\n",
    "from tensorflow.keras.initializers import Constant\n",
    "\n",
    "word2vec_path = os.getenv('HOME')+'/aiffel/sentiment_classification/data/GoogleNews-vectors-negative300.bin.gz'\n",
    "word2vec = KeyedVectors.load_word2vec_format(word2vec_path, binary=True)\n",
    "\n",
    "# embedding matrix 생성\n",
    "vocab_size = 10000    # 어휘 사전의 크기입니다(10,000개의 단어)\n",
    "word_vector_dim = 300  # 워드 벡터의 차원수 (변경가능한 하이퍼파라미터)\n",
    "\n",
    "embedding_matrix = np.random.rand(vocab_size, word_vector_dim)\n",
    "\n",
    "# embedding_matrix에 Word2Vec 워드벡터를 단어 하나씩마다 차례차례 카피한다.\n",
    "for i in range(4,vocab_size):\n",
    "    if index_to_word[i] in word2vec:\n",
    "        embedding_matrix[i] = word2vec[index_to_word[i]]\n",
    "        \n",
    "vocab_size = 10000    # 어휘 사전의 크기입니다(10,000개의 단어)\n",
    "word_vector_dim = 300  # 워드 벡터의 차원 수 (변경 가능한 하이퍼파라미터)\n",
    "\n",
    "model_embed_RNN = tf.keras.Sequential()\n",
    "model_embed_RNN.add(tf.keras.layers.Embedding(vocab_size, \n",
    "                                        word_vector_dim, \n",
    "                                        embeddings_initializer=Constant(embedding_matrix), \n",
    "                                        input_shape=(None,)))\n",
    "model_embed_RNN.add(tf.keras.layers.LSTM(8))\n",
    "model_embed_RNN.add(tf.keras.layers.Dense(8, activation='relu'))\n",
    "model_embed_RNN.add(tf.keras.layers.Dense(1, activation='sigmoid'))\n",
    "\n",
    "model_embed_RNN.summary()"
   ]
  },
  {
   "cell_type": "code",
   "execution_count": 12,
   "id": "fb959bd2",
   "metadata": {},
   "outputs": [
    {
     "name": "stdout",
     "output_type": "stream",
     "text": [
      "(146182, 41)\n",
      "(86182, 41)\n",
      "(86182,)\n",
      "(60000, 41)\n",
      "(60000,)\n"
     ]
    }
   ],
   "source": [
    "# validation set 구성\n",
    "\n",
    "# 3:2의 비율로 train 과 valid 데이터를 나눠준다.\n",
    "# validation set 60000건 분리\n",
    "X_val = X_train[:60000]   \n",
    "y_val = y_train[:60000]\n",
    "\n",
    "# validation set을 제외한 나머지 86182건\n",
    "partial_X_train = X_train[60000:]  \n",
    "partial_y_train = y_train[60000:]\n",
    "\n",
    "print(X_train.shape)\n",
    "print(partial_X_train.shape)\n",
    "print(partial_y_train.shape)\n",
    "print(X_val.shape)\n",
    "print(y_val.shape)"
   ]
  },
  {
   "cell_type": "markdown",
   "id": "b4d23630",
   "metadata": {},
   "source": [
    "### 모델 훈련 개시"
   ]
  },
  {
   "cell_type": "code",
   "execution_count": 13,
   "id": "a8a0e505",
   "metadata": {},
   "outputs": [
    {
     "name": "stdout",
     "output_type": "stream",
     "text": [
      "Epoch 1/20\n",
      "169/169 [==============================] - 5s 9ms/step - loss: 0.6161 - accuracy: 0.6641 - val_loss: 0.5211 - val_accuracy: 0.8274\n",
      "Epoch 2/20\n",
      "169/169 [==============================] - 1s 7ms/step - loss: 0.4885 - accuracy: 0.8396 - val_loss: 0.4801 - val_accuracy: 0.8373\n",
      "Epoch 3/20\n",
      "169/169 [==============================] - 1s 7ms/step - loss: 0.4417 - accuracy: 0.8552 - val_loss: 0.4616 - val_accuracy: 0.8336\n",
      "Epoch 4/20\n",
      "169/169 [==============================] - 1s 6ms/step - loss: 0.3965 - accuracy: 0.8626 - val_loss: 0.4057 - val_accuracy: 0.8323\n",
      "Epoch 5/20\n",
      "169/169 [==============================] - 1s 6ms/step - loss: 0.3273 - accuracy: 0.8695 - val_loss: 0.3784 - val_accuracy: 0.8377\n",
      "Epoch 6/20\n",
      "169/169 [==============================] - 1s 6ms/step - loss: 0.3073 - accuracy: 0.8775 - val_loss: 0.3751 - val_accuracy: 0.8405\n",
      "Epoch 7/20\n",
      "169/169 [==============================] - 1s 7ms/step - loss: 0.2964 - accuracy: 0.8816 - val_loss: 0.3727 - val_accuracy: 0.8400\n",
      "Epoch 8/20\n",
      "169/169 [==============================] - 1s 6ms/step - loss: 0.2900 - accuracy: 0.8844 - val_loss: 0.3760 - val_accuracy: 0.8364\n",
      "Epoch 9/20\n",
      "169/169 [==============================] - 1s 6ms/step - loss: 0.2845 - accuracy: 0.8861 - val_loss: 0.3749 - val_accuracy: 0.8385\n",
      "Epoch 10/20\n",
      "169/169 [==============================] - 1s 6ms/step - loss: 0.2765 - accuracy: 0.8898 - val_loss: 0.3872 - val_accuracy: 0.8393\n",
      "Epoch 11/20\n",
      "169/169 [==============================] - 1s 7ms/step - loss: 0.2696 - accuracy: 0.8933 - val_loss: 0.3887 - val_accuracy: 0.8363\n",
      "Epoch 12/20\n",
      "169/169 [==============================] - 1s 7ms/step - loss: 0.2638 - accuracy: 0.8932 - val_loss: 0.4004 - val_accuracy: 0.8398\n",
      "Epoch 13/20\n",
      "169/169 [==============================] - 1s 6ms/step - loss: 0.2584 - accuracy: 0.8949 - val_loss: 0.4116 - val_accuracy: 0.8393\n",
      "Epoch 14/20\n",
      "169/169 [==============================] - 1s 6ms/step - loss: 0.2498 - accuracy: 0.8978 - val_loss: 0.4245 - val_accuracy: 0.8368\n",
      "Epoch 15/20\n",
      "169/169 [==============================] - 1s 6ms/step - loss: 0.2416 - accuracy: 0.8995 - val_loss: 0.4350 - val_accuracy: 0.8360\n",
      "Epoch 16/20\n",
      "169/169 [==============================] - 1s 7ms/step - loss: 0.2354 - accuracy: 0.9006 - val_loss: 0.4360 - val_accuracy: 0.8361\n",
      "Epoch 17/20\n",
      "169/169 [==============================] - 1s 6ms/step - loss: 0.2276 - accuracy: 0.9028 - val_loss: 0.4489 - val_accuracy: 0.8366\n",
      "Epoch 18/20\n",
      "169/169 [==============================] - 1s 6ms/step - loss: 0.2245 - accuracy: 0.9024 - val_loss: 0.4653 - val_accuracy: 0.8345\n",
      "Epoch 19/20\n",
      "169/169 [==============================] - 1s 6ms/step - loss: 0.2171 - accuracy: 0.9052 - val_loss: 0.4698 - val_accuracy: 0.8346\n",
      "Epoch 20/20\n",
      "169/169 [==============================] - 1s 7ms/step - loss: 0.2122 - accuracy: 0.9061 - val_loss: 0.4888 - val_accuracy: 0.8352\n"
     ]
    }
   ],
   "source": [
    "model_RNN.compile(optimizer='adam',\n",
    "              loss='binary_crossentropy',\n",
    "              metrics=['accuracy'])\n",
    "              \n",
    "epochs=20 \n",
    "\n",
    "history = model_RNN.fit(partial_X_train,\n",
    "                    partial_y_train,\n",
    "                    epochs=epochs,\n",
    "                    batch_size=512,\n",
    "                    validation_data=(X_val, y_val),\n",
    "                    verbose=1)"
   ]
  },
  {
   "cell_type": "code",
   "execution_count": 14,
   "id": "90afacaa",
   "metadata": {},
   "outputs": [
    {
     "name": "stdout",
     "output_type": "stream",
     "text": [
      "1537/1537 - 3s - loss: 0.4900 - accuracy: 0.8321\n",
      "[0.48997342586517334, 0.832068681716919]\n"
     ]
    }
   ],
   "source": [
    "results = model_RNN.evaluate(X_test, y_test, verbose=2)\n",
    "\n",
    "print(results)"
   ]
  },
  {
   "cell_type": "markdown",
   "id": "2f617e99",
   "metadata": {},
   "source": [
    "### Embed 모델 훈련"
   ]
  },
  {
   "cell_type": "code",
   "execution_count": 15,
   "id": "20290d96",
   "metadata": {},
   "outputs": [
    {
     "name": "stdout",
     "output_type": "stream",
     "text": [
      "Epoch 1/20\n",
      "169/169 [==============================] - 3s 11ms/step - loss: 0.5747 - accuracy: 0.6938 - val_loss: 0.4768 - val_accuracy: 0.7878\n",
      "Epoch 2/20\n",
      "169/169 [==============================] - 1s 8ms/step - loss: 0.3818 - accuracy: 0.8393 - val_loss: 0.3726 - val_accuracy: 0.8395\n",
      "Epoch 3/20\n",
      "169/169 [==============================] - 1s 8ms/step - loss: 0.3307 - accuracy: 0.8654 - val_loss: 0.3637 - val_accuracy: 0.8443\n",
      "Epoch 4/20\n",
      "169/169 [==============================] - 1s 8ms/step - loss: 0.3065 - accuracy: 0.8776 - val_loss: 0.3599 - val_accuracy: 0.8466\n",
      "Epoch 5/20\n",
      "169/169 [==============================] - 1s 8ms/step - loss: 0.2881 - accuracy: 0.8869 - val_loss: 0.3633 - val_accuracy: 0.8458\n",
      "Epoch 6/20\n",
      "169/169 [==============================] - 1s 8ms/step - loss: 0.2753 - accuracy: 0.8936 - val_loss: 0.3639 - val_accuracy: 0.8447\n",
      "Epoch 7/20\n",
      "169/169 [==============================] - 1s 8ms/step - loss: 0.2604 - accuracy: 0.9012 - val_loss: 0.3835 - val_accuracy: 0.8441\n",
      "Epoch 8/20\n",
      "169/169 [==============================] - 1s 8ms/step - loss: 0.2495 - accuracy: 0.9054 - val_loss: 0.3891 - val_accuracy: 0.8407\n",
      "Epoch 9/20\n",
      "169/169 [==============================] - 1s 8ms/step - loss: 0.2389 - accuracy: 0.9106 - val_loss: 0.4002 - val_accuracy: 0.8420\n",
      "Epoch 10/20\n",
      "169/169 [==============================] - 1s 8ms/step - loss: 0.2289 - accuracy: 0.9155 - val_loss: 0.4011 - val_accuracy: 0.8397\n",
      "Epoch 11/20\n",
      "169/169 [==============================] - 1s 8ms/step - loss: 0.2206 - accuracy: 0.9185 - val_loss: 0.4141 - val_accuracy: 0.8390\n",
      "Epoch 12/20\n",
      "169/169 [==============================] - 1s 8ms/step - loss: 0.2128 - accuracy: 0.9223 - val_loss: 0.4276 - val_accuracy: 0.8383\n",
      "Epoch 13/20\n",
      "169/169 [==============================] - 1s 8ms/step - loss: 0.2063 - accuracy: 0.9255 - val_loss: 0.4328 - val_accuracy: 0.8367\n",
      "Epoch 14/20\n",
      "169/169 [==============================] - 1s 8ms/step - loss: 0.2000 - accuracy: 0.9285 - val_loss: 0.4363 - val_accuracy: 0.8334\n",
      "Epoch 15/20\n",
      "169/169 [==============================] - 1s 8ms/step - loss: 0.1927 - accuracy: 0.9317 - val_loss: 0.4727 - val_accuracy: 0.8316\n",
      "Epoch 16/20\n",
      "169/169 [==============================] - 1s 8ms/step - loss: 0.1879 - accuracy: 0.9340 - val_loss: 0.4668 - val_accuracy: 0.8336\n",
      "Epoch 17/20\n",
      "169/169 [==============================] - 1s 8ms/step - loss: 0.1834 - accuracy: 0.9360 - val_loss: 0.4571 - val_accuracy: 0.8327\n",
      "Epoch 18/20\n",
      "169/169 [==============================] - 1s 8ms/step - loss: 0.1754 - accuracy: 0.9396 - val_loss: 0.4842 - val_accuracy: 0.8327\n",
      "Epoch 19/20\n",
      "169/169 [==============================] - 1s 8ms/step - loss: 0.1719 - accuracy: 0.9407 - val_loss: 0.4866 - val_accuracy: 0.8288\n",
      "Epoch 20/20\n",
      "169/169 [==============================] - 1s 8ms/step - loss: 0.1671 - accuracy: 0.9431 - val_loss: 0.4915 - val_accuracy: 0.8304\n"
     ]
    }
   ],
   "source": [
    "model_embed_RNN.compile(optimizer='adam',\n",
    "              loss='binary_crossentropy',\n",
    "              metrics=['accuracy'])\n",
    "              \n",
    "epochs=20  # 몇 epoch를 훈련하면 좋을지 결과를 보면서 바꾸어 봅시다. \n",
    "\n",
    "Embed_history = model_embed_RNN.fit(partial_X_train,\n",
    "                    partial_y_train,\n",
    "                    epochs=epochs,\n",
    "                    batch_size=512,\n",
    "                    validation_data=(X_val, y_val),\n",
    "                    verbose=1)"
   ]
  },
  {
   "cell_type": "code",
   "execution_count": 16,
   "id": "55f113c5",
   "metadata": {},
   "outputs": [
    {
     "name": "stdout",
     "output_type": "stream",
     "text": [
      "1537/1537 - 3s - loss: 0.5000 - accuracy: 0.8261\n",
      "[0.5000221133232117, 0.8260675072669983]\n"
     ]
    }
   ],
   "source": [
    "results = model_embed_RNN.evaluate(X_test,  y_test, verbose=2)\n",
    "\n",
    "print(results)"
   ]
  },
  {
   "cell_type": "markdown",
   "id": "72ff79ae",
   "metadata": {},
   "source": [
    "### Loss & Accuracy 그래프 시각화"
   ]
  },
  {
   "cell_type": "code",
   "execution_count": 17,
   "id": "7a51ba1d",
   "metadata": {
    "scrolled": true
   },
   "outputs": [
    {
     "name": "stdout",
     "output_type": "stream",
     "text": [
      "dict_keys(['loss', 'accuracy', 'val_loss', 'val_accuracy'])\n"
     ]
    }
   ],
   "source": [
    "history_dict = history.history\n",
    "print(history_dict.keys()) # epoch에 따른 그래프를 그려볼 수 있는 항목들"
   ]
  },
  {
   "cell_type": "code",
   "execution_count": 18,
   "id": "763dcf66",
   "metadata": {},
   "outputs": [
    {
     "data": {
      "image/png": "[encoded data removed]",
      "text/plain": [
       "<Figure size 432x288 with 1 Axes>"
      ]
     },
     "metadata": {
      "needs_background": "light"
     },
     "output_type": "display_data"
    }
   ],
   "source": [
    "import matplotlib.pyplot as plt\n",
    "\n",
    "acc = history_dict['accuracy']\n",
    "val_acc = history_dict['val_accuracy']\n",
    "loss = history_dict['loss']\n",
    "val_loss = history_dict['val_loss']\n",
    "\n",
    "epochs = range(1, len(acc) + 1)\n",
    "\n",
    "plt.plot(epochs, loss, 'bo', label='Training loss')   # \"bo\"는 \"파란색 점\"\n",
    "plt.plot(epochs, val_loss, 'b', label='Validation loss')   # b는 \"파란 실선\"\n",
    "plt.title('Training and validation loss')\n",
    "plt.xlabel('Epochs')\n",
    "plt.ylabel('Loss')\n",
    "plt.legend()\n",
    "\n",
    "plt.show()"
   ]
  },
  {
   "cell_type": "code",
   "execution_count": 19,
   "id": "789d0584",
   "metadata": {},
   "outputs": [
    {
     "data": {
      "image/png": "[encoded data removed]",
      "text/plain": [
       "<Figure size 432x288 with 1 Axes>"
      ]
     },
     "metadata": {
      "needs_background": "light"
     },
     "output_type": "display_data"
    }
   ],
   "source": [
    "plt.clf()   # 그림을 초기화\n",
    "\n",
    "plt.plot(epochs, acc, 'bo', label='Training acc')\n",
    "plt.plot(epochs, val_acc, 'b', label='Validation acc')\n",
    "plt.title('Training and validation accuracy')\n",
    "plt.xlabel('Epochs')\n",
    "plt.ylabel('Accuracy')\n",
    "plt.legend()\n",
    "\n",
    "plt.show()"
   ]
  },
  {
   "cell_type": "markdown",
   "id": "726b7cce",
   "metadata": {},
   "source": [
    "### Embedding 모델 Loss & Accuracy 그래프"
   ]
  },
  {
   "cell_type": "code",
   "execution_count": 20,
   "id": "e96268e0",
   "metadata": {},
   "outputs": [
    {
     "name": "stdout",
     "output_type": "stream",
     "text": [
      "dict_keys(['loss', 'accuracy', 'val_loss', 'val_accuracy'])\n"
     ]
    }
   ],
   "source": [
    "Embed_history_dict = Embed_history.history\n",
    "print(Embed_history_dict.keys()) # epoch에 따른 그래프를 그려볼 수 있는 항목들"
   ]
  },
  {
   "cell_type": "code",
   "execution_count": 21,
   "id": "add4623b",
   "metadata": {},
   "outputs": [
    {
     "data": {
      "image/png": "[encoded data removed]",
      "text/plain": [
       "<Figure size 432x288 with 1 Axes>"
      ]
     },
     "metadata": {
      "needs_background": "light"
     },
     "output_type": "display_data"
    }
   ],
   "source": [
    "acc = Embed_history_dict['accuracy']\n",
    "val_acc = Embed_history_dict['val_accuracy']\n",
    "loss = Embed_history_dict['loss']\n",
    "val_loss = Embed_history_dict['val_loss']\n",
    "\n",
    "epochs = range(1, len(acc) + 1)\n",
    "\n",
    "plt.plot(epochs, loss, 'bo', label='Training loss')   # \"bo\"는 \"파란색 점\"\n",
    "plt.plot(epochs, val_loss, 'b', label='Validation loss')   # b는 \"파란 실선\"\n",
    "plt.title('Training and validation loss')\n",
    "plt.xlabel('Epochs')\n",
    "plt.ylabel('Loss')\n",
    "plt.legend()\n",
    "\n",
    "plt.show()"
   ]
  },
  {
   "cell_type": "code",
   "execution_count": 22,
   "id": "e94da241",
   "metadata": {},
   "outputs": [
    {
     "data": {
      "image/png": "[encoded data removed]",
      "text/plain": [
       "<Figure size 432x288 with 1 Axes>"
      ]
     },
     "metadata": {
      "needs_background": "light"
     },
     "output_type": "display_data"
    }
   ],
   "source": [
    "plt.clf()   # 그림을 초기화\n",
    "\n",
    "plt.plot(epochs, acc, 'bo', label='Training acc')\n",
    "plt.plot(epochs, val_acc, 'b', label='Validation acc')\n",
    "plt.title('Training and validation accuracy')\n",
    "plt.xlabel('Epochs')\n",
    "plt.ylabel('Accuracy')\n",
    "plt.legend()\n",
    "\n",
    "plt.show()"
   ]
  },
  {
   "cell_type": "markdown",
   "id": "9ea7c700",
   "metadata": {},
   "source": [
    "### 학습된 Embedding 레이어 분석"
   ]
  },
  {
   "cell_type": "code",
   "execution_count": 23,
   "id": "cede4080",
   "metadata": {},
   "outputs": [
    {
     "name": "stdout",
     "output_type": "stream",
     "text": [
      "(10000, 300)\n"
     ]
    }
   ],
   "source": [
    "embedding_layer = model_embed_RNN.layers[0]\n",
    "weights = embedding_layer.get_weights()[0]\n",
    "print(weights.shape)    # shape: (vocab_size, embedding_dim)"
   ]
  },
  {
   "cell_type": "code",
   "execution_count": 24,
   "id": "4ec444c3",
   "metadata": {},
   "outputs": [],
   "source": [
    "# 학습한 Embedding 파라미터 파일에 써서 저장\n",
    "import os\n",
    "\n",
    "word_vector_dim = 300\n",
    "\n",
    "Embed_RNN_file_path = os.getenv('HOME')+'/aiffel/sentiment_classification/data/embed_rnn_file.txt'\n",
    "f = open(Embed_RNN_file_path, 'w')\n",
    "f.write('{} {}\\n'.format(vocab_size-4, word_vector_dim))  # 몇개의 벡터를 얼마 사이즈로 기재할지 타이틀을 씁니다.\n",
    "\n",
    "# 단어 개수(에서 특수문자 4개는 제외하고)만큼의 워드 벡터를 파일에 기록합니다. \n",
    "vectors = model_embed_RNN.get_weights()[0]\n",
    "for i in range(4,vocab_size):\n",
    "    f.write('{} {}\\n'.format(index_to_word[i], ' '.join(map(str, list(vectors[i, :])))))\n",
    "f.close()"
   ]
  },
  {
   "cell_type": "code",
   "execution_count": 25,
   "id": "1f5023bb",
   "metadata": {
    "scrolled": true
   },
   "outputs": [
    {
     "data": {
      "text/plain": [
       "[('great', 0.6663508415222168),\n",
       " ('life', 0.5919533967971802),\n",
       " ('good', 0.5662117600440979),\n",
       " ('♡', 0.5207350254058838),\n",
       " ('we', 0.5185503959655762),\n",
       " ('Good', 0.5130147933959961),\n",
       " ('It', 0.4926430583000183),\n",
       " ('bad', 0.49219048023223877),\n",
       " ('that', 0.4761202037334442),\n",
       " ('very', 0.4659924805164337)]"
      ]
     },
     "execution_count": 25,
     "metadata": {},
     "output_type": "execute_result"
    }
   ],
   "source": [
    "# 파라미터 확인\n",
    "from gensim.models.keyedvectors import Word2VecKeyedVectors\n",
    "\n",
    "word_vectors = Word2VecKeyedVectors.load_word2vec_format(Embed_RNN_file_path, binary=False)\n",
    "word_vectors.similar_by_word(\"love\")"
   ]
  },
  {
   "cell_type": "markdown",
   "id": "94337d4f",
   "metadata": {},
   "source": [
    "## 2. 1DConv 모델"
   ]
  },
  {
   "cell_type": "code",
   "execution_count": 26,
   "id": "9cab0f65",
   "metadata": {},
   "outputs": [
    {
     "name": "stdout",
     "output_type": "stream",
     "text": [
      "Model: \"sequential_3\"\n",
      "_________________________________________________________________\n",
      "Layer (type)                 Output Shape              Param #   \n",
      "=================================================================\n",
      "embedding_2 (Embedding)      (None, None, 16)          160000    \n",
      "_________________________________________________________________\n",
      "conv1d (Conv1D)              (None, None, 16)          1808      \n",
      "_________________________________________________________________\n",
      "max_pooling1d (MaxPooling1D) (None, None, 16)          0         \n",
      "_________________________________________________________________\n",
      "conv1d_1 (Conv1D)            (None, None, 16)          1808      \n",
      "_________________________________________________________________\n",
      "global_max_pooling1d (Global (None, 16)                0         \n",
      "_________________________________________________________________\n",
      "dense_4 (Dense)              (None, 8)                 136       \n",
      "_________________________________________________________________\n",
      "dense_5 (Dense)              (None, 1)                 9         \n",
      "=================================================================\n",
      "Total params: 163,761\n",
      "Trainable params: 163,761\n",
      "Non-trainable params: 0\n",
      "_________________________________________________________________\n"
     ]
    }
   ],
   "source": [
    "# 모델 구성\n",
    "vocab_size = 10000    # 어휘 사전의 크기입니다(10,000개의 단어)\n",
    "word_vector_dim = 16  # 워드 벡터의 차원 수 (변경 가능한 하이퍼파라미터)\n",
    "\n",
    "model_1DC = tf.keras.Sequential()\n",
    "model_1DC.add(tf.keras.layers.Embedding(vocab_size, \n",
    "                                        word_vector_dim,  \n",
    "                                        input_shape=(None,)))\n",
    "model_1DC.add(tf.keras.layers.Conv1D(16, 7, activation='relu'))\n",
    "model_1DC.add(tf.keras.layers.MaxPooling1D(5))\n",
    "model_1DC.add(tf.keras.layers.Conv1D(16, 7, activation='relu'))\n",
    "model_1DC.add(tf.keras.layers.GlobalMaxPooling1D())\n",
    "model_1DC.add(tf.keras.layers.Dense(8, activation='relu'))\n",
    "model_1DC.add(tf.keras.layers.Dense(1, activation='sigmoid'))\n",
    "\n",
    "model_1DC.summary()"
   ]
  },
  {
   "cell_type": "markdown",
   "id": "cc0d3076",
   "metadata": {},
   "source": [
    "### Google Word2vec 사용 Embed모델"
   ]
  },
  {
   "cell_type": "code",
   "execution_count": 27,
   "id": "686cc33e",
   "metadata": {},
   "outputs": [
    {
     "name": "stdout",
     "output_type": "stream",
     "text": [
      "Model: \"sequential_4\"\n",
      "_________________________________________________________________\n",
      "Layer (type)                 Output Shape              Param #   \n",
      "=================================================================\n",
      "embedding_3 (Embedding)      (None, 41, 300)           3000000   \n",
      "_________________________________________________________________\n",
      "conv1d_2 (Conv1D)            (None, 35, 16)            33616     \n",
      "_________________________________________________________________\n",
      "max_pooling1d_1 (MaxPooling1 (None, 7, 16)             0         \n",
      "_________________________________________________________________\n",
      "conv1d_3 (Conv1D)            (None, 1, 16)             1808      \n",
      "_________________________________________________________________\n",
      "global_max_pooling1d_1 (Glob (None, 16)                0         \n",
      "_________________________________________________________________\n",
      "dense_6 (Dense)              (None, 8)                 136       \n",
      "_________________________________________________________________\n",
      "dense_7 (Dense)              (None, 1)                 9         \n",
      "=================================================================\n",
      "Total params: 3,035,569\n",
      "Trainable params: 3,035,569\n",
      "Non-trainable params: 0\n",
      "_________________________________________________________________\n"
     ]
    }
   ],
   "source": [
    "word2vec_path = os.getenv('HOME')+'/aiffel/sentiment_classification/data/GoogleNews-vectors-negative300.bin.gz'\n",
    "word2vec = KeyedVectors.load_word2vec_format(word2vec_path, binary=True)\n",
    "\n",
    "# embedding matrix 생성\n",
    "vocab_size = 10000    # 어휘 사전의 크기입니다(10,000개의 단어)\n",
    "word_vector_dim = 300  # 워드 벡터의 차원수 (변경가능한 하이퍼파라미터)\n",
    "\n",
    "embedding_matrix = np.random.rand(vocab_size, word_vector_dim)\n",
    "\n",
    "# embedding_matrix에 Word2Vec 워드벡터를 단어 하나씩마다 차례차례 카피한다.\n",
    "for i in range(4,vocab_size):\n",
    "    if index_to_word[i] in word2vec:\n",
    "        embedding_matrix[i] = word2vec[index_to_word[i]]\n",
    "        \n",
    "vocab_size = 10000    # 어휘 사전의 크기입니다(10,000개의 단어)\n",
    "word_vector_dim = 300  # 워드 벡터의 차원 수 (변경 가능한 하이퍼파라미터)\n",
    "\n",
    "model_embed_1DC = tf.keras.Sequential()\n",
    "model_embed_1DC.add(tf.keras.layers.Embedding(vocab_size, \n",
    "                                              word_vector_dim, \n",
    "                                              embeddings_initializer=Constant(embedding_matrix), \n",
    "                                              input_length=maxlen, \n",
    "                                              trainable=True))\n",
    "model_embed_1DC.add(tf.keras.layers.Conv1D(16, 7, activation='relu'))\n",
    "model_embed_1DC.add(tf.keras.layers.MaxPooling1D(5))\n",
    "model_embed_1DC.add(tf.keras.layers.Conv1D(16, 7, activation='relu'))\n",
    "model_embed_1DC.add(tf.keras.layers.GlobalMaxPooling1D())\n",
    "model_embed_1DC.add(tf.keras.layers.Dense(8, activation='relu'))\n",
    "model_embed_1DC.add(tf.keras.layers.Dense(1, activation='sigmoid'))\n",
    "\n",
    "model_embed_1DC.summary()"
   ]
  },
  {
   "cell_type": "code",
   "execution_count": 28,
   "id": "e300ae8d",
   "metadata": {},
   "outputs": [],
   "source": [
    "# validation set 구성\n",
    "\n",
    "# 3:2의 비율로 train 과 valid 데이터를 나눠준다.\n",
    "# validation set 60000건 분리\n",
    "X_val = X_train[:60000]   \n",
    "y_val = y_train[:60000]\n",
    "\n",
    "# validation set을 제외한 나머지 86182건\n",
    "partial_X_train = X_train[60000:]  \n",
    "partial_y_train = y_train[60000:]"
   ]
  },
  {
   "cell_type": "code",
   "execution_count": 30,
   "id": "edff737f",
   "metadata": {},
   "outputs": [
    {
     "name": "stdout",
     "output_type": "stream",
     "text": [
      "Epoch 1/20\n",
      "169/169 [==============================] - 2s 7ms/step - loss: 0.0283 - accuracy: 0.9915 - val_loss: 1.0844 - val_accuracy: 0.8095\n",
      "Epoch 2/20\n",
      "169/169 [==============================] - 1s 6ms/step - loss: 0.0234 - accuracy: 0.9932 - val_loss: 1.1196 - val_accuracy: 0.8090\n",
      "Epoch 3/20\n",
      "169/169 [==============================] - 1s 6ms/step - loss: 0.0212 - accuracy: 0.9935 - val_loss: 1.1785 - val_accuracy: 0.8060\n",
      "Epoch 4/20\n",
      "169/169 [==============================] - 1s 5ms/step - loss: 0.0192 - accuracy: 0.9944 - val_loss: 1.2323 - val_accuracy: 0.8062\n",
      "Epoch 5/20\n",
      "169/169 [==============================] - 1s 6ms/step - loss: 0.0186 - accuracy: 0.9942 - val_loss: 1.2563 - val_accuracy: 0.8052\n",
      "Epoch 6/20\n",
      "169/169 [==============================] - 1s 6ms/step - loss: 0.0207 - accuracy: 0.9932 - val_loss: 1.3655 - val_accuracy: 0.8076\n",
      "Epoch 7/20\n",
      "169/169 [==============================] - 1s 6ms/step - loss: 0.0246 - accuracy: 0.9915 - val_loss: 1.3358 - val_accuracy: 0.8029\n",
      "Epoch 8/20\n",
      "169/169 [==============================] - 1s 6ms/step - loss: 0.0248 - accuracy: 0.9915 - val_loss: 1.3073 - val_accuracy: 0.8060\n",
      "Epoch 9/20\n",
      "169/169 [==============================] - 1s 6ms/step - loss: 0.0194 - accuracy: 0.9936 - val_loss: 1.3308 - val_accuracy: 0.8034\n",
      "Epoch 10/20\n",
      "169/169 [==============================] - 1s 6ms/step - loss: 0.0163 - accuracy: 0.9947 - val_loss: 1.4213 - val_accuracy: 0.8042\n",
      "Epoch 11/20\n",
      "169/169 [==============================] - 1s 5ms/step - loss: 0.0137 - accuracy: 0.9957 - val_loss: 1.4587 - val_accuracy: 0.8041\n",
      "Epoch 12/20\n",
      "169/169 [==============================] - 1s 6ms/step - loss: 0.0121 - accuracy: 0.9964 - val_loss: 1.5217 - val_accuracy: 0.8039\n",
      "Epoch 13/20\n",
      "169/169 [==============================] - 1s 6ms/step - loss: 0.0114 - accuracy: 0.9962 - val_loss: 1.5139 - val_accuracy: 0.8023\n",
      "Epoch 14/20\n",
      "169/169 [==============================] - 1s 6ms/step - loss: 0.0109 - accuracy: 0.9964 - val_loss: 1.6051 - val_accuracy: 0.8027\n",
      "Epoch 15/20\n",
      "169/169 [==============================] - 1s 5ms/step - loss: 0.0107 - accuracy: 0.9964 - val_loss: 1.6185 - val_accuracy: 0.8027\n",
      "Epoch 16/20\n",
      "169/169 [==============================] - 1s 6ms/step - loss: 0.0113 - accuracy: 0.9963 - val_loss: 1.6543 - val_accuracy: 0.8015\n",
      "Epoch 17/20\n",
      "169/169 [==============================] - 1s 5ms/step - loss: 0.0123 - accuracy: 0.9957 - val_loss: 1.6904 - val_accuracy: 0.7994\n",
      "Epoch 18/20\n",
      "169/169 [==============================] - 1s 6ms/step - loss: 0.0268 - accuracy: 0.9903 - val_loss: 1.3690 - val_accuracy: 0.8033\n",
      "Epoch 19/20\n",
      "169/169 [==============================] - 1s 5ms/step - loss: 0.0283 - accuracy: 0.9898 - val_loss: 1.4075 - val_accuracy: 0.8033\n",
      "Epoch 20/20\n",
      "169/169 [==============================] - 1s 6ms/step - loss: 0.0172 - accuracy: 0.9938 - val_loss: 1.5560 - val_accuracy: 0.8030\n",
      "1537/1537 - 2s - loss: 1.5784 - accuracy: 0.7993\n",
      "[1.5783631801605225, 0.7993367910385132]\n"
     ]
    }
   ],
   "source": [
    "# 모델 학습\n",
    "model_1DC.compile(optimizer='adam',\n",
    "              loss='binary_crossentropy',\n",
    "              metrics=['accuracy'])\n",
    "              \n",
    "epochs=20 \n",
    "\n",
    "history = model_1DC.fit(partial_X_train,\n",
    "                    partial_y_train,\n",
    "                    epochs=epochs,\n",
    "                    batch_size=512,\n",
    "                    validation_data=(X_val, y_val),\n",
    "                    verbose=1)\n",
    "\n",
    "results = model_1DC.evaluate(X_test, y_test, verbose=2)\n",
    "\n",
    "print(results)"
   ]
  },
  {
   "cell_type": "markdown",
   "id": "f0940780",
   "metadata": {},
   "source": [
    "### Embed 모델 훈련"
   ]
  },
  {
   "cell_type": "code",
   "execution_count": 31,
   "id": "13f9ee58",
   "metadata": {},
   "outputs": [
    {
     "name": "stdout",
     "output_type": "stream",
     "text": [
      "Epoch 1/20\n",
      "169/169 [==============================] - 3s 12ms/step - loss: 0.6758 - accuracy: 0.5562 - val_loss: 0.5907 - val_accuracy: 0.6756\n",
      "Epoch 2/20\n",
      "169/169 [==============================] - 2s 9ms/step - loss: 0.4694 - accuracy: 0.7791 - val_loss: 0.4498 - val_accuracy: 0.7873\n",
      "Epoch 3/20\n",
      "169/169 [==============================] - 2s 9ms/step - loss: 0.3666 - accuracy: 0.8399 - val_loss: 0.3894 - val_accuracy: 0.8272\n",
      "Epoch 4/20\n",
      "169/169 [==============================] - 2s 9ms/step - loss: 0.3276 - accuracy: 0.8617 - val_loss: 0.4211 - val_accuracy: 0.8126\n",
      "Epoch 5/20\n",
      "169/169 [==============================] - 2s 9ms/step - loss: 0.3023 - accuracy: 0.8761 - val_loss: 0.3789 - val_accuracy: 0.8351\n",
      "Epoch 6/20\n",
      "169/169 [==============================] - 2s 9ms/step - loss: 0.2697 - accuracy: 0.8939 - val_loss: 0.3817 - val_accuracy: 0.8363\n",
      "Epoch 7/20\n",
      "169/169 [==============================] - 2s 9ms/step - loss: 0.2486 - accuracy: 0.9040 - val_loss: 0.3935 - val_accuracy: 0.8333\n",
      "Epoch 8/20\n",
      "169/169 [==============================] - 2s 9ms/step - loss: 0.2285 - accuracy: 0.9135 - val_loss: 0.4208 - val_accuracy: 0.8270\n",
      "Epoch 9/20\n",
      "169/169 [==============================] - 2s 9ms/step - loss: 0.2049 - accuracy: 0.9243 - val_loss: 0.4308 - val_accuracy: 0.8266\n",
      "Epoch 10/20\n",
      "169/169 [==============================] - 2s 9ms/step - loss: 0.1849 - accuracy: 0.9343 - val_loss: 0.4419 - val_accuracy: 0.8259\n",
      "Epoch 11/20\n",
      "169/169 [==============================] - 2s 9ms/step - loss: 0.1754 - accuracy: 0.9366 - val_loss: 0.4939 - val_accuracy: 0.8146\n",
      "Epoch 12/20\n",
      "169/169 [==============================] - 2s 9ms/step - loss: 0.1580 - accuracy: 0.9437 - val_loss: 0.4977 - val_accuracy: 0.8169\n",
      "Epoch 13/20\n",
      "169/169 [==============================] - 2s 9ms/step - loss: 0.1486 - accuracy: 0.9475 - val_loss: 0.5177 - val_accuracy: 0.8149\n",
      "Epoch 14/20\n",
      "169/169 [==============================] - 2s 9ms/step - loss: 0.1352 - accuracy: 0.9529 - val_loss: 0.5629 - val_accuracy: 0.8090\n",
      "Epoch 15/20\n",
      "169/169 [==============================] - 2s 9ms/step - loss: 0.1170 - accuracy: 0.9619 - val_loss: 0.5601 - val_accuracy: 0.8129\n",
      "Epoch 16/20\n",
      "169/169 [==============================] - 2s 9ms/step - loss: 0.1103 - accuracy: 0.9635 - val_loss: 0.5855 - val_accuracy: 0.8120\n",
      "Epoch 17/20\n",
      "169/169 [==============================] - 2s 9ms/step - loss: 0.0998 - accuracy: 0.9672 - val_loss: 0.6494 - val_accuracy: 0.7999\n",
      "Epoch 18/20\n",
      "169/169 [==============================] - 2s 9ms/step - loss: 0.0960 - accuracy: 0.9680 - val_loss: 0.6598 - val_accuracy: 0.8059\n",
      "Epoch 19/20\n",
      "169/169 [==============================] - 2s 9ms/step - loss: 0.0837 - accuracy: 0.9737 - val_loss: 0.6823 - val_accuracy: 0.8067\n",
      "Epoch 20/20\n",
      "169/169 [==============================] - 2s 9ms/step - loss: 0.0878 - accuracy: 0.9704 - val_loss: 0.7158 - val_accuracy: 0.8005\n",
      "1537/1537 - 3s - loss: 0.7165 - accuracy: 0.7986\n",
      "[0.7164819836616516, 0.7986248135566711]\n"
     ]
    }
   ],
   "source": [
    "model_embed_1DC.compile(optimizer='adam',\n",
    "              loss='binary_crossentropy',\n",
    "              metrics=['accuracy'])\n",
    "              \n",
    "epochs=20  # 몇 epoch를 훈련하면 좋을지 결과를 보면서 바꾸어 봅시다. \n",
    "\n",
    "Embed_history = model_embed_1DC.fit(partial_X_train,\n",
    "                    partial_y_train,\n",
    "                    epochs=epochs,\n",
    "                    batch_size=512,\n",
    "                    validation_data=(X_val, y_val),\n",
    "                    verbose=1)\n",
    "\n",
    "results = model_embed_1DC.evaluate(X_test, y_test, verbose=2)\n",
    "\n",
    "print(results)"
   ]
  },
  {
   "cell_type": "markdown",
   "id": "78754ac1",
   "metadata": {},
   "source": [
    "### 학습된 Embedding 레이어 분석"
   ]
  },
  {
   "cell_type": "code",
   "execution_count": 32,
   "id": "ff75268c",
   "metadata": {
    "scrolled": true
   },
   "outputs": [
    {
     "name": "stdout",
     "output_type": "stream",
     "text": [
      "(10000, 300)\n"
     ]
    }
   ],
   "source": [
    "embedding_layer = model_embed_1DC.layers[0]\n",
    "weights = embedding_layer.get_weights()[0]\n",
    "print(weights.shape)    # shape: (vocab_size, embedding_dim)"
   ]
  },
  {
   "cell_type": "code",
   "execution_count": 33,
   "id": "5da4aa61",
   "metadata": {},
   "outputs": [],
   "source": [
    "# 학습한 Embedding 파라미터 파일에 써서 저장\n",
    "\n",
    "word_vector_dim = 300\n",
    "\n",
    "Embed_1DC_file_path = os.getenv('HOME')+'/aiffel/sentiment_classification/data/embed_1DC_file.txt'\n",
    "f = open(Embed_1DC_file_path, 'w')\n",
    "f.write('{} {}\\n'.format(vocab_size-4, word_vector_dim))  # 몇개의 벡터를 얼마 사이즈로 기재할지 타이틀을 씁니다.\n",
    "\n",
    "# 단어 개수(에서 특수문자 4개는 제외하고)만큼의 워드 벡터를 파일에 기록합니다. \n",
    "vectors = model_embed_1DC.get_weights()[0]\n",
    "for i in range(4,vocab_size):\n",
    "    f.write('{} {}\\n'.format(index_to_word[i], ' '.join(map(str, list(vectors[i, :])))))\n",
    "f.close()"
   ]
  },
  {
   "cell_type": "code",
   "execution_count": 34,
   "id": "80236590",
   "metadata": {},
   "outputs": [
    {
     "data": {
      "text/plain": [
       "[('good', 0.6614394187927246),\n",
       " ('great', 0.6502703428268433),\n",
       " ('♡', 0.649832010269165),\n",
       " ('Good', 0.6493776440620422),\n",
       " ('very', 0.6063159704208374),\n",
       " ('♥', 0.5967795252799988),\n",
       " ('am', 0.5365420579910278),\n",
       " ('we', 0.532218337059021),\n",
       " ('ost', 0.48918256163597107),\n",
       " ('8', 0.48351341485977173)]"
      ]
     },
     "execution_count": 34,
     "metadata": {},
     "output_type": "execute_result"
    }
   ],
   "source": [
    "# 파라미터 확인\n",
    "\n",
    "word_vectors = Word2VecKeyedVectors.load_word2vec_format(Embed_1DC_file_path, binary=False)\n",
    "word_vectors.similar_by_word(\"love\")"
   ]
  },
  {
   "cell_type": "markdown",
   "id": "f628c27f",
   "metadata": {},
   "source": [
    "## 3. GlobalMaxPooling1D 모델"
   ]
  },
  {
   "cell_type": "code",
   "execution_count": 35,
   "id": "4144c60d",
   "metadata": {
    "scrolled": true
   },
   "outputs": [
    {
     "name": "stdout",
     "output_type": "stream",
     "text": [
      "Model: \"sequential_5\"\n",
      "_________________________________________________________________\n",
      "Layer (type)                 Output Shape              Param #   \n",
      "=================================================================\n",
      "embedding_4 (Embedding)      (None, None, 16)          160000    \n",
      "_________________________________________________________________\n",
      "global_max_pooling1d_2 (Glob (None, 16)                0         \n",
      "_________________________________________________________________\n",
      "dense_8 (Dense)              (None, 8)                 136       \n",
      "_________________________________________________________________\n",
      "dense_9 (Dense)              (None, 1)                 9         \n",
      "=================================================================\n",
      "Total params: 160,145\n",
      "Trainable params: 160,145\n",
      "Non-trainable params: 0\n",
      "_________________________________________________________________\n"
     ]
    }
   ],
   "source": [
    "# 모델 구성\n",
    "vocab_size = 10000    # 어휘 사전의 크기입니다(10,000개의 단어)\n",
    "word_vector_dim = 16  # 워드 벡터의 차원 수 (변경 가능한 하이퍼파라미터)\n",
    "\n",
    "model_GMP = tf.keras.Sequential()\n",
    "model_GMP.add(tf.keras.layers.Embedding(vocab_size, \n",
    "                                        word_vector_dim, \n",
    "                                        input_shape=(None,)))\n",
    "model_GMP.add(tf.keras.layers.GlobalMaxPooling1D())\n",
    "model_GMP.add(tf.keras.layers.Dense(8, activation='relu'))\n",
    "model_GMP.add(tf.keras.layers.Dense(1, activation='sigmoid'))\n",
    "\n",
    "model_GMP.summary()"
   ]
  },
  {
   "cell_type": "markdown",
   "id": "c4a499cf",
   "metadata": {},
   "source": [
    "### Google Word2vec 사용 Embed모델"
   ]
  },
  {
   "cell_type": "code",
   "execution_count": 36,
   "id": "b83a1860",
   "metadata": {},
   "outputs": [
    {
     "name": "stdout",
     "output_type": "stream",
     "text": [
      "Model: \"sequential_6\"\n",
      "_________________________________________________________________\n",
      "Layer (type)                 Output Shape              Param #   \n",
      "=================================================================\n",
      "embedding_5 (Embedding)      (None, 41, 300)           3000000   \n",
      "_________________________________________________________________\n",
      "global_max_pooling1d_3 (Glob (None, 300)               0         \n",
      "_________________________________________________________________\n",
      "dense_10 (Dense)             (None, 8)                 2408      \n",
      "_________________________________________________________________\n",
      "dense_11 (Dense)             (None, 1)                 9         \n",
      "=================================================================\n",
      "Total params: 3,002,417\n",
      "Trainable params: 3,002,417\n",
      "Non-trainable params: 0\n",
      "_________________________________________________________________\n"
     ]
    }
   ],
   "source": [
    "word2vec_path = os.getenv('HOME')+'/aiffel/sentiment_classification/data/GoogleNews-vectors-negative300.bin.gz'\n",
    "word2vec = KeyedVectors.load_word2vec_format(word2vec_path, binary=True)\n",
    "\n",
    "# embedding matrix 생성\n",
    "vocab_size = 10000    # 어휘 사전의 크기입니다(10,000개의 단어)\n",
    "word_vector_dim = 300  # 워드 벡터의 차원수 (변경가능한 하이퍼파라미터)\n",
    "\n",
    "embedding_matrix = np.random.rand(vocab_size, word_vector_dim)\n",
    "\n",
    "# embedding_matrix에 Word2Vec 워드벡터를 단어 하나씩마다 차례차례 카피한다.\n",
    "for i in range(4,vocab_size):\n",
    "    if index_to_word[i] in word2vec:\n",
    "        embedding_matrix[i] = word2vec[index_to_word[i]]\n",
    "        \n",
    "vocab_size = 10000    # 어휘 사전의 크기입니다(10,000개의 단어)\n",
    "word_vector_dim = 300  # 워드 벡터의 차원 수 (변경 가능한 하이퍼파라미터)\n",
    "\n",
    "model_embed_GMP = tf.keras.Sequential()\n",
    "model_embed_GMP.add(tf.keras.layers.Embedding(vocab_size, \n",
    "                                        word_vector_dim, \n",
    "                                        embeddings_initializer=Constant(embedding_matrix),  # 카피한 임베딩을 여기서 활용\n",
    "                                        input_length=maxlen, \n",
    "                                        trainable=True))\n",
    "model_embed_GMP.add(tf.keras.layers.GlobalMaxPooling1D())\n",
    "model_embed_GMP.add(tf.keras.layers.Dense(8, activation='relu'))\n",
    "model_embed_GMP.add(tf.keras.layers.Dense(1, activation='sigmoid'))\n",
    "\n",
    "model_embed_GMP.summary()"
   ]
  },
  {
   "cell_type": "code",
   "execution_count": 37,
   "id": "ddc35951",
   "metadata": {},
   "outputs": [],
   "source": [
    "# validation set 구성\n",
    "\n",
    "# 3:2의 비율로 train 과 valid 데이터를 나눠준다.\n",
    "# validation set 60000건 분리\n",
    "X_val = X_train[:60000]   \n",
    "y_val = y_train[:60000]\n",
    "\n",
    "# validation set을 제외한 나머지 86182건\n",
    "partial_X_train = X_train[60000:]  \n",
    "partial_y_train = y_train[60000:]"
   ]
  },
  {
   "cell_type": "code",
   "execution_count": 38,
   "id": "15d5c812",
   "metadata": {},
   "outputs": [
    {
     "name": "stdout",
     "output_type": "stream",
     "text": [
      "Epoch 1/20\n",
      "169/169 [==============================] - 1s 5ms/step - loss: 0.6233 - accuracy: 0.7515 - val_loss: 0.4955 - val_accuracy: 0.8098\n",
      "Epoch 2/20\n",
      "169/169 [==============================] - 1s 4ms/step - loss: 0.4116 - accuracy: 0.8297 - val_loss: 0.3782 - val_accuracy: 0.8337\n",
      "Epoch 3/20\n",
      "169/169 [==============================] - 1s 4ms/step - loss: 0.3382 - accuracy: 0.8574 - val_loss: 0.3591 - val_accuracy: 0.8424\n",
      "Epoch 4/20\n",
      "169/169 [==============================] - 1s 4ms/step - loss: 0.3035 - accuracy: 0.8752 - val_loss: 0.3558 - val_accuracy: 0.8445\n",
      "Epoch 5/20\n",
      "169/169 [==============================] - 1s 4ms/step - loss: 0.2779 - accuracy: 0.8878 - val_loss: 0.3588 - val_accuracy: 0.8456\n",
      "Epoch 6/20\n",
      "169/169 [==============================] - 1s 4ms/step - loss: 0.2570 - accuracy: 0.8981 - val_loss: 0.3654 - val_accuracy: 0.8447\n",
      "Epoch 7/20\n",
      "169/169 [==============================] - 1s 4ms/step - loss: 0.2393 - accuracy: 0.9062 - val_loss: 0.3748 - val_accuracy: 0.8436\n",
      "Epoch 8/20\n",
      "169/169 [==============================] - 1s 4ms/step - loss: 0.2234 - accuracy: 0.9141 - val_loss: 0.3861 - val_accuracy: 0.8424\n",
      "Epoch 9/20\n",
      "169/169 [==============================] - 1s 4ms/step - loss: 0.2096 - accuracy: 0.9204 - val_loss: 0.3986 - val_accuracy: 0.8410\n",
      "Epoch 10/20\n",
      "169/169 [==============================] - 1s 4ms/step - loss: 0.1965 - accuracy: 0.9264 - val_loss: 0.4132 - val_accuracy: 0.8382\n",
      "Epoch 11/20\n",
      "169/169 [==============================] - 1s 4ms/step - loss: 0.1851 - accuracy: 0.9319 - val_loss: 0.4279 - val_accuracy: 0.8351\n",
      "Epoch 12/20\n",
      "169/169 [==============================] - 1s 4ms/step - loss: 0.1747 - accuracy: 0.9370 - val_loss: 0.4430 - val_accuracy: 0.8341\n",
      "Epoch 13/20\n",
      "169/169 [==============================] - 1s 4ms/step - loss: 0.1651 - accuracy: 0.9409 - val_loss: 0.4602 - val_accuracy: 0.8327\n",
      "Epoch 14/20\n",
      "169/169 [==============================] - 1s 4ms/step - loss: 0.1562 - accuracy: 0.9448 - val_loss: 0.4769 - val_accuracy: 0.8309\n",
      "Epoch 15/20\n",
      "169/169 [==============================] - 1s 4ms/step - loss: 0.1485 - accuracy: 0.9483 - val_loss: 0.4936 - val_accuracy: 0.8291\n",
      "Epoch 16/20\n",
      "169/169 [==============================] - 1s 4ms/step - loss: 0.1413 - accuracy: 0.9519 - val_loss: 0.5101 - val_accuracy: 0.8274\n",
      "Epoch 17/20\n",
      "169/169 [==============================] - 1s 4ms/step - loss: 0.1346 - accuracy: 0.9545 - val_loss: 0.5283 - val_accuracy: 0.8258\n",
      "Epoch 18/20\n",
      "169/169 [==============================] - 1s 4ms/step - loss: 0.1284 - accuracy: 0.9567 - val_loss: 0.5437 - val_accuracy: 0.8252\n",
      "Epoch 19/20\n",
      "169/169 [==============================] - 1s 4ms/step - loss: 0.1231 - accuracy: 0.9590 - val_loss: 0.5612 - val_accuracy: 0.8235\n",
      "Epoch 20/20\n",
      "169/169 [==============================] - 1s 4ms/step - loss: 0.1174 - accuracy: 0.9619 - val_loss: 0.5795 - val_accuracy: 0.8223\n",
      "1537/1537 - 2s - loss: 0.5804 - accuracy: 0.8205\n",
      "[0.5804006457328796, 0.8205138444900513]\n"
     ]
    }
   ],
   "source": [
    "# 모델 학습\n",
    "model_GMP.compile(optimizer='adam',\n",
    "              loss='binary_crossentropy',\n",
    "              metrics=['accuracy'])\n",
    "              \n",
    "epochs=20 \n",
    "\n",
    "history = model_GMP.fit(partial_X_train,\n",
    "                    partial_y_train,\n",
    "                    epochs=epochs,\n",
    "                    batch_size=512,\n",
    "                    validation_data=(X_val, y_val),\n",
    "                    verbose=1)\n",
    "\n",
    "results = model_GMP.evaluate(X_test, y_test, verbose=2)\n",
    "\n",
    "print(results)"
   ]
  },
  {
   "cell_type": "markdown",
   "id": "ddaa8cd2",
   "metadata": {},
   "source": [
    "### Embed 모델 훈련"
   ]
  },
  {
   "cell_type": "code",
   "execution_count": 39,
   "id": "fd2e606b",
   "metadata": {},
   "outputs": [
    {
     "name": "stdout",
     "output_type": "stream",
     "text": [
      "Epoch 1/20\n",
      "169/169 [==============================] - 2s 7ms/step - loss: 0.6384 - accuracy: 0.6856 - val_loss: 0.5441 - val_accuracy: 0.7964\n",
      "Epoch 2/20\n",
      "169/169 [==============================] - 1s 6ms/step - loss: 0.4592 - accuracy: 0.8196 - val_loss: 0.4058 - val_accuracy: 0.8268\n",
      "Epoch 3/20\n",
      "169/169 [==============================] - 1s 6ms/step - loss: 0.3624 - accuracy: 0.8479 - val_loss: 0.3660 - val_accuracy: 0.8390\n",
      "Epoch 4/20\n",
      "169/169 [==============================] - 1s 6ms/step - loss: 0.3211 - accuracy: 0.8665 - val_loss: 0.3530 - val_accuracy: 0.8443\n",
      "Epoch 5/20\n",
      "169/169 [==============================] - 1s 6ms/step - loss: 0.2928 - accuracy: 0.8802 - val_loss: 0.3493 - val_accuracy: 0.8443\n",
      "Epoch 6/20\n",
      "169/169 [==============================] - 1s 6ms/step - loss: 0.2701 - accuracy: 0.8913 - val_loss: 0.3469 - val_accuracy: 0.8461\n",
      "Epoch 7/20\n",
      "169/169 [==============================] - 1s 6ms/step - loss: 0.2491 - accuracy: 0.9016 - val_loss: 0.3481 - val_accuracy: 0.8475\n",
      "Epoch 8/20\n",
      "169/169 [==============================] - 1s 6ms/step - loss: 0.2286 - accuracy: 0.9117 - val_loss: 0.3515 - val_accuracy: 0.8475\n",
      "Epoch 9/20\n",
      "169/169 [==============================] - 1s 6ms/step - loss: 0.2092 - accuracy: 0.9210 - val_loss: 0.3606 - val_accuracy: 0.8474\n",
      "Epoch 10/20\n",
      "169/169 [==============================] - 1s 6ms/step - loss: 0.1904 - accuracy: 0.9301 - val_loss: 0.3693 - val_accuracy: 0.8435\n",
      "Epoch 11/20\n",
      "169/169 [==============================] - 1s 6ms/step - loss: 0.1709 - accuracy: 0.9405 - val_loss: 0.3741 - val_accuracy: 0.8454\n",
      "Epoch 12/20\n",
      "169/169 [==============================] - 1s 6ms/step - loss: 0.1533 - accuracy: 0.9486 - val_loss: 0.3865 - val_accuracy: 0.8428\n",
      "Epoch 13/20\n",
      "169/169 [==============================] - 1s 6ms/step - loss: 0.1363 - accuracy: 0.9563 - val_loss: 0.3951 - val_accuracy: 0.8427\n",
      "Epoch 14/20\n",
      "169/169 [==============================] - 1s 6ms/step - loss: 0.1195 - accuracy: 0.9639 - val_loss: 0.4076 - val_accuracy: 0.8423\n",
      "Epoch 15/20\n",
      "169/169 [==============================] - 1s 6ms/step - loss: 0.1036 - accuracy: 0.9704 - val_loss: 0.4216 - val_accuracy: 0.8410\n",
      "Epoch 16/20\n",
      "169/169 [==============================] - 1s 6ms/step - loss: 0.0900 - accuracy: 0.9757 - val_loss: 0.4387 - val_accuracy: 0.8382\n",
      "Epoch 17/20\n",
      "169/169 [==============================] - 1s 6ms/step - loss: 0.0780 - accuracy: 0.9801 - val_loss: 0.4533 - val_accuracy: 0.8378\n",
      "Epoch 18/20\n",
      "169/169 [==============================] - 1s 6ms/step - loss: 0.0662 - accuracy: 0.9842 - val_loss: 0.4689 - val_accuracy: 0.8367\n",
      "Epoch 19/20\n",
      "169/169 [==============================] - 1s 6ms/step - loss: 0.0567 - accuracy: 0.9871 - val_loss: 0.4870 - val_accuracy: 0.8372\n",
      "Epoch 20/20\n",
      "169/169 [==============================] - 1s 6ms/step - loss: 0.0484 - accuracy: 0.9897 - val_loss: 0.5026 - val_accuracy: 0.8359\n",
      "1537/1537 - 2s - loss: 0.5112 - accuracy: 0.8330\n",
      "[0.5112184882164001, 0.832963764667511]\n"
     ]
    }
   ],
   "source": [
    "# 모델 학습\n",
    "model_embed_GMP.compile(optimizer='adam',\n",
    "              loss='binary_crossentropy',\n",
    "              metrics=['accuracy'])\n",
    "              \n",
    "epochs=20 \n",
    "\n",
    "history = model_embed_GMP.fit(partial_X_train,\n",
    "                    partial_y_train,\n",
    "                    epochs=epochs,\n",
    "                    batch_size=512,\n",
    "                    validation_data=(X_val, y_val),\n",
    "                    verbose=1)\n",
    "\n",
    "results = model_embed_GMP.evaluate(X_test, y_test, verbose=2)\n",
    "\n",
    "print(results)"
   ]
  },
  {
   "cell_type": "markdown",
   "id": "5aa664ff",
   "metadata": {},
   "source": [
    "### 학습된 Embedding 레이어 분석"
   ]
  },
  {
   "cell_type": "code",
   "execution_count": 40,
   "id": "a245e13d",
   "metadata": {},
   "outputs": [
    {
     "name": "stdout",
     "output_type": "stream",
     "text": [
      "(10000, 300)\n"
     ]
    }
   ],
   "source": [
    "embedding_layer = model_embed_GMP.layers[0]\n",
    "weights = embedding_layer.get_weights()[0]\n",
    "print(weights.shape)    # shape: (vocab_size, embedding_dim)"
   ]
  },
  {
   "cell_type": "code",
   "execution_count": 41,
   "id": "79019abe",
   "metadata": {},
   "outputs": [],
   "source": [
    "# 학습한 Embedding 파라미터 파일에 써서 저장\n",
    "\n",
    "word_vector_dim = 300\n",
    "\n",
    "Embed_GMP_file_path = os.getenv('HOME')+'/aiffel/sentiment_classification/data/embed_GMP_file.txt'\n",
    "f = open(Embed_GMP_file_path, 'w')\n",
    "f.write('{} {}\\n'.format(vocab_size-4, word_vector_dim))  # 몇개의 벡터를 얼마 사이즈로 기재할지 타이틀을 씁니다.\n",
    "\n",
    "# 단어 개수(에서 특수문자 4개는 제외하고)만큼의 워드 벡터를 파일에 기록합니다. \n",
    "vectors = model_embed_GMP.get_weights()[0]\n",
    "for i in range(4,vocab_size):\n",
    "    f.write('{} {}\\n'.format(index_to_word[i], ' '.join(map(str, list(vectors[i, :])))))\n",
    "f.close()"
   ]
  },
  {
   "cell_type": "code",
   "execution_count": 42,
   "id": "0735ae20",
   "metadata": {},
   "outputs": [
    {
     "data": {
      "text/plain": [
       "[('great', 0.46521663665771484),\n",
       " ('me', 0.39818862080574036),\n",
       " ('know', 0.3800278306007385),\n",
       " ('I', 0.3469514846801758),\n",
       " ('♡', 0.33543580770492554),\n",
       " ('good', 0.3287592828273773),\n",
       " ('Good', 0.32120078802108765),\n",
       " ('best', 0.3096315264701843),\n",
       " ('boring', 0.30048200488090515),\n",
       " ('bad', 0.28919368982315063)]"
      ]
     },
     "execution_count": 42,
     "metadata": {},
     "output_type": "execute_result"
    }
   ],
   "source": [
    "# 파라미터 확인\n",
    "\n",
    "word_vectors = Word2VecKeyedVectors.load_word2vec_format(Embed_GMP_file_path, binary=False)\n",
    "word_vectors.similar_by_word(\"love\")"
   ]
  },
  {
   "cell_type": "markdown",
   "id": "cedd216a",
   "metadata": {},
   "source": [
    "## 한국어 Word2Vec임베딩 활용하여 성능 개선"
   ]
  },
  {
   "cell_type": "code",
   "execution_count": 43,
   "id": "10153929",
   "metadata": {},
   "outputs": [
    {
     "name": "stderr",
     "output_type": "stream",
     "text": [
      "/tmp/ipykernel_93/3008529413.py:5: DeprecationWarning: Call to deprecated `__getitem__` (Method will be removed in 4.0.0, use self.wv.__getitem__() instead).\n",
      "  vector = word2vec['집']\n"
     ]
    },
    {
     "data": {
      "text/plain": [
       "array([-1.319586  , -1.6629723 ,  0.1505883 ,  0.5035253 , -2.6690226 ,\n",
       "       -1.0570946 ,  0.67788476,  2.796687  ,  1.4200262 , -0.39614034,\n",
       "        1.9018966 ,  2.9973626 , -0.01318461,  0.35922977,  1.4223385 ,\n",
       "        0.40999603, -0.42552626,  0.31498262,  0.87282205, -1.3778601 ,\n",
       "       -0.1918586 ,  0.9000629 , -1.8640414 ,  0.8167136 , -1.7011755 ,\n",
       "       -0.98501635,  0.66861403, -0.9031406 ,  0.3020793 ,  2.0629468 ,\n",
       "       -0.31631446, -0.7964669 ,  0.11580559, -0.9859846 ,  0.7692624 ,\n",
       "       -0.19869252,  0.56788325,  2.29683   ,  1.1519096 ,  1.5394832 ,\n",
       "       -1.0729129 ,  0.1502994 ,  1.2680385 , -2.249592  , -0.8000674 ,\n",
       "       -0.20292565, -0.40892753, -0.5215352 , -0.507804  , -1.3664671 ,\n",
       "        0.42219886, -0.31854075,  0.2340286 , -0.77383935, -1.5936835 ,\n",
       "        0.01904743,  1.177212  ,  1.6091572 , -0.5099399 ,  1.9581834 ,\n",
       "       -0.34881008,  0.37763453, -0.01511123, -0.58241713,  0.40495008,\n",
       "        0.8804171 ,  0.1846361 ,  1.0777823 , -0.7750021 , -1.0071819 ,\n",
       "        1.0358934 ,  0.39481607, -2.332866  , -0.93091285,  1.118224  ,\n",
       "       -0.7844368 ,  0.8555328 ,  0.5143765 ,  0.920763  , -0.39341557,\n",
       "       -0.16348092, -1.3929285 ,  0.15316974, -1.348279  , -1.1284426 ,\n",
       "       -1.8810023 ,  0.14855379, -0.6104502 , -1.2425994 ,  1.2390256 ,\n",
       "       -1.1444252 , -1.400823  , -1.3473312 ,  1.2239008 , -1.0127048 ,\n",
       "        1.1208295 ,  0.29893637,  0.7203714 ,  0.6036004 ,  0.42004064,\n",
       "        0.34347087, -0.7356937 , -0.3151368 ,  1.0694431 , -0.9154028 ,\n",
       "        1.7764895 ,  1.8720185 , -0.8843339 ,  1.3389271 , -0.80010563,\n",
       "       -0.94757986,  1.7570064 ,  1.2688855 ,  0.8684031 ,  1.4398359 ,\n",
       "       -0.17921753, -1.1272905 , -1.1046246 , -1.2999364 ,  0.07265015,\n",
       "        0.12994944, -0.11574648,  0.5862671 , -0.69233114, -0.12440029,\n",
       "        0.25522864,  0.29826164,  0.16584915,  1.6654814 , -0.8506304 ,\n",
       "        0.57840025,  0.6405582 ,  0.7529146 ,  1.7172095 ,  2.0997689 ,\n",
       "       -0.25057933,  0.2007252 , -2.4406729 , -1.0545708 , -1.2289436 ,\n",
       "       -0.22581457,  0.47242698,  1.3570354 ,  0.2401035 , -0.66484225,\n",
       "       -1.3534913 , -0.9827498 ,  1.3056269 , -0.14077377, -1.65661   ,\n",
       "       -0.5009824 ,  1.2256474 , -0.25854915,  0.78430426,  1.815638  ,\n",
       "       -0.558131  , -0.16077444,  1.3344697 ,  1.1771872 , -1.7810681 ,\n",
       "       -0.16537452,  0.19939929, -1.0561806 , -1.4022348 ,  0.35612556,\n",
       "       -1.0305912 , -0.1956434 , -0.9686804 ,  0.75609595, -0.1935044 ,\n",
       "       -0.22683689, -3.502733  ,  0.8300569 , -0.07755399, -0.11534574,\n",
       "       -1.2377417 ,  0.6012245 , -0.6889415 ,  0.37302938,  1.5514311 ,\n",
       "       -0.9978473 ,  0.197273  , -0.13099611, -1.0549966 , -1.7730215 ,\n",
       "        1.2698088 , -0.37557662, -0.02147526, -0.11407109,  0.2750356 ,\n",
       "       -0.36513284,  0.77137434,  1.5496976 , -1.2772565 , -0.08079113,\n",
       "        0.7655263 , -1.1677268 , -2.208896  ,  0.9165536 , -0.96396863],\n",
       "      dtype=float32)"
      ]
     },
     "execution_count": 43,
     "metadata": {},
     "output_type": "execute_result"
    }
   ],
   "source": [
    "import gensim\n",
    "from gensim.models import KeyedVectors\n",
    "word2vec_path = os.getenv('HOME')+'/aiffel/sentiment_classification/data/ko.bin'\n",
    "word2vec = gensim.models.Word2Vec.load(word2vec_path)\n",
    "vector = word2vec['집']\n",
    "vector"
   ]
  },
  {
   "cell_type": "code",
   "execution_count": 44,
   "id": "a617f54d",
   "metadata": {},
   "outputs": [
    {
     "name": "stderr",
     "output_type": "stream",
     "text": [
      "/tmp/ipykernel_93/898241355.py:1: DeprecationWarning: Call to deprecated `similar_by_word` (Method will be removed in 4.0.0, use self.wv.similar_by_word() instead).\n",
      "  word2vec.similar_by_word(\"행복\")\n"
     ]
    },
    {
     "data": {
      "text/plain": [
       "[('사랑', 0.6759077310562134),\n",
       " ('기쁨', 0.6493781805038452),\n",
       " ('즐거움', 0.6396492719650269),\n",
       " ('삶', 0.6299898028373718),\n",
       " ('젊음', 0.6187379360198975),\n",
       " ('즐겁', 0.6027448177337646),\n",
       " ('인생', 0.6002243161201477),\n",
       " ('존엄', 0.5952589511871338),\n",
       " ('고독', 0.5938762426376343),\n",
       " ('불행', 0.5894461870193481)]"
      ]
     },
     "execution_count": 44,
     "metadata": {},
     "output_type": "execute_result"
    }
   ],
   "source": [
    "word2vec.similar_by_word(\"행복\")"
   ]
  },
  {
   "cell_type": "markdown",
   "id": "6df57048",
   "metadata": {},
   "source": [
    "### 임베딩 매트릭스 생성"
   ]
  },
  {
   "cell_type": "code",
   "execution_count": 45,
   "id": "986c0b12",
   "metadata": {
    "scrolled": true
   },
   "outputs": [
    {
     "name": "stderr",
     "output_type": "stream",
     "text": [
      "/tmp/ipykernel_93/4108256183.py:8: DeprecationWarning: Call to deprecated `__contains__` (Method will be removed in 4.0.0, use self.wv.__contains__() instead).\n",
      "  if index_to_word[i] in word2vec:\n",
      "/tmp/ipykernel_93/4108256183.py:9: DeprecationWarning: Call to deprecated `__getitem__` (Method will be removed in 4.0.0, use self.wv.__getitem__() instead).\n",
      "  kor_embedding_matrix[i] = word2vec[index_to_word[i]]\n"
     ]
    }
   ],
   "source": [
    "vocab_size = 10000   # 어휘 사전 크기\n",
    "word_vector_dim = 200   # 워드 벡터 차원수\n",
    "\n",
    "kor_embedding_matrix = np.random.rand(vocab_size, word_vector_dim)\n",
    "\n",
    "# embedding_matrix에 Word2Vec 워드벡터를 단어 하나씩마다 차례차례 카피한다\n",
    "for i in range(4,vocab_size):\n",
    "    if index_to_word[i] in word2vec:\n",
    "        kor_embedding_matrix[i] = word2vec[index_to_word[i]]"
   ]
  },
  {
   "cell_type": "markdown",
   "id": "c36e7e54",
   "metadata": {},
   "source": [
    "### 모델 구성"
   ]
  },
  {
   "cell_type": "code",
   "execution_count": 62,
   "id": "fef81171",
   "metadata": {},
   "outputs": [
    {
     "name": "stdout",
     "output_type": "stream",
     "text": [
      "Model: \"sequential_11\"\n",
      "_________________________________________________________________\n",
      "Layer (type)                 Output Shape              Param #   \n",
      "=================================================================\n",
      "embedding_10 (Embedding)     (None, 41, 200)           2000000   \n",
      "_________________________________________________________________\n",
      "lstm_7 (LSTM)                (None, 16)                13888     \n",
      "_________________________________________________________________\n",
      "dense_18 (Dense)             (None, 8)                 136       \n",
      "_________________________________________________________________\n",
      "dense_19 (Dense)             (None, 1)                 9         \n",
      "=================================================================\n",
      "Total params: 2,014,033\n",
      "Trainable params: 2,014,033\n",
      "Non-trainable params: 0\n",
      "_________________________________________________________________\n"
     ]
    }
   ],
   "source": [
    "from tensorflow.keras.initializers import Constant\n",
    "\n",
    "vocab_size = 10000    # 어휘 사전의 크기입니다(10,000개의 단어)\n",
    "word_vector_dim = 200  # 워드 벡터의 차원 수 (변경 가능한 하이퍼파라미터)\n",
    "\n",
    "model = tf.keras.Sequential()\n",
    "model.add(tf.keras.layers.Embedding(vocab_size, \n",
    "                                    word_vector_dim, \n",
    "                                    embeddings_initializer=Constant(kor_embedding_matrix),  # 카피한 임베딩을 여기서 활용\n",
    "                                    input_length=maxlen, \n",
    "                                    trainable=True))   # trainable을 True로 주면 Fine-tuning\n",
    "model.add(tf.keras.layers.LSTM(16))\n",
    "model.add(tf.keras.layers.Dense(8, activation='relu'))\n",
    "model.add(tf.keras.layers.Dense(1, activation='sigmoid'))\n",
    "\n",
    "model.summary()"
   ]
  },
  {
   "cell_type": "markdown",
   "id": "460fc573",
   "metadata": {},
   "source": [
    "### 모델 학습"
   ]
  },
  {
   "cell_type": "code",
   "execution_count": 63,
   "id": "361e99c1",
   "metadata": {},
   "outputs": [
    {
     "name": "stdout",
     "output_type": "stream",
     "text": [
      "Epoch 1/10\n",
      "337/337 [==============================] - 4s 8ms/step - loss: 0.6790 - accuracy: 0.5373 - val_loss: 0.5354 - val_accuracy: 0.7422\n",
      "Epoch 2/10\n",
      "337/337 [==============================] - 2s 7ms/step - loss: 0.4249 - accuracy: 0.8095 - val_loss: 0.3733 - val_accuracy: 0.8376\n",
      "Epoch 3/10\n",
      "337/337 [==============================] - 2s 7ms/step - loss: 0.3325 - accuracy: 0.8601 - val_loss: 0.3497 - val_accuracy: 0.8486\n",
      "Epoch 4/10\n",
      "337/337 [==============================] - 2s 7ms/step - loss: 0.2936 - accuracy: 0.8782 - val_loss: 0.3477 - val_accuracy: 0.8509\n",
      "Epoch 5/10\n",
      "337/337 [==============================] - 2s 7ms/step - loss: 0.2691 - accuracy: 0.8910 - val_loss: 0.3531 - val_accuracy: 0.8513\n",
      "Epoch 6/10\n",
      "337/337 [==============================] - 2s 7ms/step - loss: 0.2476 - accuracy: 0.9003 - val_loss: 0.3655 - val_accuracy: 0.8505\n",
      "Epoch 7/10\n",
      "337/337 [==============================] - 2s 7ms/step - loss: 0.2278 - accuracy: 0.9092 - val_loss: 0.3743 - val_accuracy: 0.8482\n",
      "Epoch 8/10\n",
      "337/337 [==============================] - 2s 7ms/step - loss: 0.2104 - accuracy: 0.9175 - val_loss: 0.3776 - val_accuracy: 0.8498\n",
      "Epoch 9/10\n",
      "337/337 [==============================] - 2s 7ms/step - loss: 0.1929 - accuracy: 0.9266 - val_loss: 0.4076 - val_accuracy: 0.8481\n",
      "Epoch 10/10\n",
      "337/337 [==============================] - 2s 7ms/step - loss: 0.1789 - accuracy: 0.9320 - val_loss: 0.4216 - val_accuracy: 0.8475\n"
     ]
    }
   ],
   "source": [
    "# 학습의 진행\n",
    "model.compile(optimizer='adam',\n",
    "              loss='binary_crossentropy',\n",
    "              metrics=['accuracy'])\n",
    "              \n",
    "# epochs=20  # 몇 epoch를 훈련하면 좋을지 결과를 보면서 바꾸어 봅시다. \n",
    "epochs=10\n",
    "\n",
    "history = model.fit(partial_X_train,\n",
    "                    partial_y_train,\n",
    "                    epochs=epochs,\n",
    "                    # batch_size=512,\n",
    "                    batch_size=256, \n",
    "                    validation_data=(X_val, y_val),\n",
    "                    verbose=1)\n"
   ]
  },
  {
   "cell_type": "code",
   "execution_count": 64,
   "id": "eb814bb7",
   "metadata": {},
   "outputs": [
    {
     "name": "stdout",
     "output_type": "stream",
     "text": [
      "1537/1537 - 3s - loss: 0.4302 - accuracy: 0.8405\n",
      "[0.4302257001399994, 0.8404906988143921]\n"
     ]
    }
   ],
   "source": [
    "results = model.evaluate(X_test,  y_test, verbose=2)\n",
    "\n",
    "print(results)"
   ]
  },
  {
   "cell_type": "markdown",
   "id": "6263bb59",
   "metadata": {},
   "source": [
    "### Loss & Accuracy 그래프 시각화"
   ]
  },
  {
   "cell_type": "code",
   "execution_count": 65,
   "id": "74b64846",
   "metadata": {},
   "outputs": [
    {
     "name": "stdout",
     "output_type": "stream",
     "text": [
      "dict_keys(['loss', 'accuracy', 'val_loss', 'val_accuracy'])\n"
     ]
    }
   ],
   "source": [
    "embed_history_dict = history.history\n",
    "print(embed_history_dict.keys())"
   ]
  },
  {
   "cell_type": "code",
   "execution_count": 66,
   "id": "5f465e04",
   "metadata": {},
   "outputs": [
    {
     "data": {
      "image/png": "[encoded data removed]",
      "text/plain": [
       "<Figure size 432x288 with 1 Axes>"
      ]
     },
     "metadata": {
      "needs_background": "light"
     },
     "output_type": "display_data"
    }
   ],
   "source": [
    "acc = history_dict['accuracy']\n",
    "val_acc = history_dict['val_accuracy']\n",
    "loss = history_dict['loss']\n",
    "val_loss = history_dict['val_loss']\n",
    "\n",
    "epochs = range(1, len(acc) + 1)\n",
    "\n",
    "# \"bo\"는 \"파란색 점\"입니다\n",
    "plt.plot(epochs, loss, 'bo', label='Training loss')\n",
    "# b는 \"파란 실선\"입니다\n",
    "plt.plot(epochs, val_loss, 'b', label='Validation loss')\n",
    "plt.title('Training and validation loss')\n",
    "plt.xlabel('Epochs')\n",
    "plt.ylabel('Loss')\n",
    "plt.legend()\n",
    "\n",
    "plt.show()"
   ]
  },
  {
   "cell_type": "code",
   "execution_count": 67,
   "id": "4f9bf106",
   "metadata": {},
   "outputs": [
    {
     "data": {
      "image/png": "[encoded data removed]",
      "text/plain": [
       "<Figure size 432x288 with 1 Axes>"
      ]
     },
     "metadata": {
      "needs_background": "light"
     },
     "output_type": "display_data"
    }
   ],
   "source": [
    "plt.clf()   # 그림을 초기화합니다\n",
    "\n",
    "plt.plot(epochs, acc, 'bo', label='Training acc')\n",
    "plt.plot(epochs, val_acc, 'b', label='Validation acc')\n",
    "plt.title('Training and validation accuracy')\n",
    "plt.xlabel('Epochs')\n",
    "plt.ylabel('Accuracy')\n",
    "plt.legend()\n",
    "\n",
    "plt.show()"
   ]
  },
  {
   "cell_type": "markdown",
   "id": "79b14558",
   "metadata": {},
   "source": [
    "# 회고"
   ]
  },
  {
   "cell_type": "markdown",
   "id": "1cb92dd8",
   "metadata": {},
   "source": [
    "#### 처음 시도한 모델 1DCNN\n",
    "* epoch=20 batch : 512 -> accuracy 0.818\n",
    "* epoch=20 batch : 256 -> accuracy 0.822\n",
    "* epoch=10 batch : 512 -> accuracy 0.823\n",
    "* epoch=10 batch : 256 -> accuracy 0.823\n",
    "\n",
    "epoch=10 에 batch 256 이 가장 적당하다 생각한다.  \n",
    "\n",
    "#### 두번째 시도한 모델 RNN\n",
    "accuracy 가 0.84 까지 가장 높이 올라갔다.  \n",
    "\n",
    "그래프를 통해 epoch 수를 무작정 늘려도 좋은 것이 아님을 알게 되었다. \n",
    "모델 설계 과정 코드들이 전보다 조금 더 익숙해진 거 같다.  \n",
    "어떤 것을 수정해야 모델 성능이 향상될지 궁금증이 생긴다.  \n",
    "정확도를 85%까지 높이지 못했지만, 1-D CNN 모델 등을 함께 사용하면 향상될 것이라 생각한다.  \n",
    "아직 레이어를 쌓고 설계하는 방법을 더 공부해서 시도해 봐야겠다.  "
   ]
  },
  {
   "cell_type": "markdown",
   "id": "cf9d53ca",
   "metadata": {},
   "source": [
    "### 참고한 코드 링크\n",
    "https://github.com/PEBpung/Aiffel/blob/master/Project/Exploration/E9.%20Naver%20sentiment%20movie%20corpus%20Project.ipynb"
   ]
  }
 ],
 "metadata": {
  "kernelspec": {
   "display_name": "Python 3 (ipykernel)",
   "language": "python",
   "name": "python3"
  },
  "language_info": {
   "codemirror_mode": {
    "name": "ipython",
    "version": 3
   },
   "file_extension": ".py",
   "mimetype": "text/x-python",
   "name": "python",
   "nbconvert_exporter": "python",
   "pygments_lexer": "ipython3",
   "version": "3.9.7"
  }
 },
 "nbformat": 4,
 "nbformat_minor": 5
}
