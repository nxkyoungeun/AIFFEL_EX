{
 "cells": [
  {
   "cell_type": "markdown",
   "id": "a6f22387",
   "metadata": {},
   "source": [
    "# [E-08]NewsSummaryBot"
   ]
  },
  {
   "cell_type": "code",
   "execution_count": 1,
   "id": "d542bc06",
   "metadata": {},
   "outputs": [
    {
     "name": "stderr",
     "output_type": "stream",
     "text": [
      "[nltk_data] Downloading package stopwords to /aiffel/nltk_data...\n",
      "[nltk_data]   Unzipping corpora/stopwords.zip.\n"
     ]
    }
   ],
   "source": [
    "import nltk\n",
    "nltk.download('stopwords')\n",
    "\n",
    "import numpy as np\n",
    "import pandas as pd\n",
    "import os\n",
    "import re\n",
    "import matplotlib.pyplot as plt\n",
    "from nltk.corpus import stopwords\n",
    "from bs4 import BeautifulSoup \n",
    "from tensorflow.keras.preprocessing.text import Tokenizer \n",
    "from tensorflow.keras.preprocessing.sequence import pad_sequences\n",
    "import urllib.request\n",
    "import warnings\n",
    "warnings.filterwarnings(\"ignore\", category=UserWarning, module='bs4')"
   ]
  },
  {
   "cell_type": "markdown",
   "id": "09afa0c9",
   "metadata": {},
   "source": [
    "## 데이터 준비하기 "
   ]
  },
  {
   "cell_type": "code",
   "execution_count": 2,
   "id": "18370e90",
   "metadata": {},
   "outputs": [
    {
     "data": {
      "text/html": [
       "<div>\n",
       "<style scoped>\n",
       "    .dataframe tbody tr th:only-of-type {\n",
       "        vertical-align: middle;\n",
       "    }\n",
       "\n",
       "    .dataframe tbody tr th {\n",
       "        vertical-align: top;\n",
       "    }\n",
       "\n",
       "    .dataframe thead th {\n",
       "        text-align: right;\n",
       "    }\n",
       "</style>\n",
       "<table border=\"1\" class=\"dataframe\">\n",
       "  <thead>\n",
       "    <tr style=\"text-align: right;\">\n",
       "      <th></th>\n",
       "      <th>headlines</th>\n",
       "      <th>text</th>\n",
       "    </tr>\n",
       "  </thead>\n",
       "  <tbody>\n",
       "    <tr>\n",
       "      <th>18778</th>\n",
       "      <td>Drunk man opens fire in Goa bar when denied mo...</td>\n",
       "      <td>A person was arrested on Monday for allegedly ...</td>\n",
       "    </tr>\n",
       "    <tr>\n",
       "      <th>53072</th>\n",
       "      <td>Direct tax collection up 18.2% to Ã¢ÂÂ¹6.5 la...</td>\n",
       "      <td>The Finance Ministry on Tuesday said that the ...</td>\n",
       "    </tr>\n",
       "    <tr>\n",
       "      <th>79443</th>\n",
       "      <td>FIR against ex-Delhi Minister Tomar in fake de...</td>\n",
       "      <td>Bihar's Tilka Manjhi Bhagalpur University on T...</td>\n",
       "    </tr>\n",
       "    <tr>\n",
       "      <th>33070</th>\n",
       "      <td>Delhi residence of Trinamool MP Satabdi Roy ro...</td>\n",
       "      <td>Burglars broke into the official residence of ...</td>\n",
       "    </tr>\n",
       "    <tr>\n",
       "      <th>72784</th>\n",
       "      <td>Hyderabad caterer serves 'gold rice' to guests</td>\n",
       "      <td>A Hyderabad-based caterer served 24-carat gold...</td>\n",
       "    </tr>\n",
       "    <tr>\n",
       "      <th>71229</th>\n",
       "      <td>Govt turned black money to white through note ...</td>\n",
       "      <td>Congress Vice President Rahul Gandhi on Friday...</td>\n",
       "    </tr>\n",
       "    <tr>\n",
       "      <th>76080</th>\n",
       "      <td>Aadhaar may become mandatory to buy shares, mu...</td>\n",
       "      <td>According to reports, the government may make ...</td>\n",
       "    </tr>\n",
       "    <tr>\n",
       "      <th>92368</th>\n",
       "      <td>NCERT reviewing school textbooks, may include ...</td>\n",
       "      <td>The NCERT has started an internal review of te...</td>\n",
       "    </tr>\n",
       "    <tr>\n",
       "      <th>3145</th>\n",
       "      <td>BJP in alliance with CBI to target Akhilesh: S...</td>\n",
       "      <td>Samajwadi Party on Monday took a dig at the BJ...</td>\n",
       "    </tr>\n",
       "    <tr>\n",
       "      <th>76685</th>\n",
       "      <td>Vice Prez-elect Venkaiah Naidu gives definitio...</td>\n",
       "      <td>Vice President-elect M Venkaiah Naidu said dur...</td>\n",
       "    </tr>\n",
       "  </tbody>\n",
       "</table>\n",
       "</div>"
      ],
      "text/plain": [
       "                                               headlines  \\\n",
       "18778  Drunk man opens fire in Goa bar when denied mo...   \n",
       "53072  Direct tax collection up 18.2% to Ã¢ÂÂ¹6.5 la...   \n",
       "79443  FIR against ex-Delhi Minister Tomar in fake de...   \n",
       "33070  Delhi residence of Trinamool MP Satabdi Roy ro...   \n",
       "72784     Hyderabad caterer serves 'gold rice' to guests   \n",
       "71229  Govt turned black money to white through note ...   \n",
       "76080  Aadhaar may become mandatory to buy shares, mu...   \n",
       "92368  NCERT reviewing school textbooks, may include ...   \n",
       "3145   BJP in alliance with CBI to target Akhilesh: S...   \n",
       "76685  Vice Prez-elect Venkaiah Naidu gives definitio...   \n",
       "\n",
       "                                                    text  \n",
       "18778  A person was arrested on Monday for allegedly ...  \n",
       "53072  The Finance Ministry on Tuesday said that the ...  \n",
       "79443  Bihar's Tilka Manjhi Bhagalpur University on T...  \n",
       "33070  Burglars broke into the official residence of ...  \n",
       "72784  A Hyderabad-based caterer served 24-carat gold...  \n",
       "71229  Congress Vice President Rahul Gandhi on Friday...  \n",
       "76080  According to reports, the government may make ...  \n",
       "92368  The NCERT has started an internal review of te...  \n",
       "3145   Samajwadi Party on Monday took a dig at the BJ...  \n",
       "76685  Vice President-elect M Venkaiah Naidu said dur...  "
      ]
     },
     "execution_count": 2,
     "metadata": {},
     "output_type": "execute_result"
    }
   ],
   "source": [
    "urllib.request.urlretrieve(\"https://raw.githubusercontent.com/sunnysai12345/News_Summary/master/news_summary_more.csv\", filename=\"news_summary_more.csv\")\n",
    "original = pd.read_csv('news_summary_more.csv', encoding='iso-8859-1')\n",
    "\n",
    "data = original\n",
    "data.sample(10)"
   ]
  },
  {
   "cell_type": "code",
   "execution_count": 3,
   "id": "2755c7f9",
   "metadata": {},
   "outputs": [
    {
     "data": {
      "text/plain": [
       "(98401, 2)"
      ]
     },
     "execution_count": 3,
     "metadata": {},
     "output_type": "execute_result"
    }
   ],
   "source": [
    "data.shape"
   ]
  },
  {
   "cell_type": "markdown",
   "id": "096cb5f7",
   "metadata": {},
   "source": [
    "## 데이터 전처리하기 (1. 데이터 정리)"
   ]
  },
  {
   "cell_type": "code",
   "execution_count": 4,
   "id": "a9e169d0",
   "metadata": {},
   "outputs": [
    {
     "name": "stdout",
     "output_type": "stream",
     "text": [
      "Headlines 열에서 중복을 배제한 유일한 샘플의 수 : 98280\n",
      "Text 열에서 중복을 배제한 유일한 샘플의 수 : 98360\n"
     ]
    }
   ],
   "source": [
    "# 중복 샘플 유무 확인\n",
    "print('Headlines 열에서 중복을 배제한 유일한 샘플의 수 :', data['headlines'].nunique())\n",
    "print('Text 열에서 중복을 배제한 유일한 샘플의 수 :', data['text'].nunique())"
   ]
  },
  {
   "cell_type": "code",
   "execution_count": 5,
   "id": "81e187d9",
   "metadata": {},
   "outputs": [
    {
     "name": "stdout",
     "output_type": "stream",
     "text": [
      "전체 샘플수 : 98360\n"
     ]
    }
   ],
   "source": [
    "# drop_duplicates()를 사용하여 중복 샘플 제거\n",
    "# inplace=True 를 설정하면 DataFrame 타입 값을 return 하지 않고 data 내부를 직접적으로 바꿉니다\n",
    "data.drop_duplicates(subset = ['text'], inplace=True)\n",
    "print('전체 샘플수 :', (len(data)))"
   ]
  },
  {
   "cell_type": "code",
   "execution_count": 6,
   "id": "64497f06",
   "metadata": {},
   "outputs": [
    {
     "name": "stdout",
     "output_type": "stream",
     "text": [
      "headlines    0\n",
      "text         0\n",
      "dtype: int64\n"
     ]
    }
   ],
   "source": [
    "# Null 값이 있는지 확인\n",
    "print(data.isnull().sum())\n",
    "# Null 값이 없으므로 pass\n",
    "# data.dropna(axis=0, inplace=True)\n",
    "# print('전체 샘플수 :', (len(data)))"
   ]
  },
  {
   "cell_type": "markdown",
   "id": "6d193006",
   "metadata": {},
   "source": [
    "### 텍스트 정규화와 불용어 제거"
   ]
  },
  {
   "cell_type": "code",
   "execution_count": 7,
   "id": "6598b054",
   "metadata": {},
   "outputs": [
    {
     "name": "stdout",
     "output_type": "stream",
     "text": [
      "정규화 사전의 수:  120\n"
     ]
    }
   ],
   "source": [
    "contractions = {\"ain't\": \"is not\", \"aren't\": \"are not\",\"can't\": \"cannot\", \"'cause\": \"because\", \"could've\": \"could have\", \"couldn't\": \"could not\",\n",
    "                           \"didn't\": \"did not\",  \"doesn't\": \"does not\", \"don't\": \"do not\", \"hadn't\": \"had not\", \"hasn't\": \"has not\", \"haven't\": \"have not\",\n",
    "                           \"he'd\": \"he would\",\"he'll\": \"he will\", \"he's\": \"he is\", \"how'd\": \"how did\", \"how'd'y\": \"how do you\", \"how'll\": \"how will\", \"how's\": \"how is\",\n",
    "                           \"I'd\": \"I would\", \"I'd've\": \"I would have\", \"I'll\": \"I will\", \"I'll've\": \"I will have\",\"I'm\": \"I am\", \"I've\": \"I have\", \"i'd\": \"i would\",\n",
    "                           \"i'd've\": \"i would have\", \"i'll\": \"i will\",  \"i'll've\": \"i will have\",\"i'm\": \"i am\", \"i've\": \"i have\", \"isn't\": \"is not\", \"it'd\": \"it would\",\n",
    "                           \"it'd've\": \"it would have\", \"it'll\": \"it will\", \"it'll've\": \"it will have\",\"it's\": \"it is\", \"let's\": \"let us\", \"ma'am\": \"madam\",\n",
    "                           \"mayn't\": \"may not\", \"might've\": \"might have\",\"mightn't\": \"might not\",\"mightn't've\": \"might not have\", \"must've\": \"must have\",\n",
    "                           \"mustn't\": \"must not\", \"mustn't've\": \"must not have\", \"needn't\": \"need not\", \"needn't've\": \"need not have\",\"o'clock\": \"of the clock\",\n",
    "                           \"oughtn't\": \"ought not\", \"oughtn't've\": \"ought not have\", \"shan't\": \"shall not\", \"sha'n't\": \"shall not\", \"shan't've\": \"shall not have\",\n",
    "                           \"she'd\": \"she would\", \"she'd've\": \"she would have\", \"she'll\": \"she will\", \"she'll've\": \"she will have\", \"she's\": \"she is\",\n",
    "                           \"should've\": \"should have\", \"shouldn't\": \"should not\", \"shouldn't've\": \"should not have\", \"so've\": \"so have\",\"so's\": \"so as\",\n",
    "                           \"this's\": \"this is\",\"that'd\": \"that would\", \"that'd've\": \"that would have\", \"that's\": \"that is\", \"there'd\": \"there would\",\n",
    "                           \"there'd've\": \"there would have\", \"there's\": \"there is\", \"here's\": \"here is\",\"they'd\": \"they would\", \"they'd've\": \"they would have\",\n",
    "                           \"they'll\": \"they will\", \"they'll've\": \"they will have\", \"they're\": \"they are\", \"they've\": \"they have\", \"to've\": \"to have\",\n",
    "                           \"wasn't\": \"was not\", \"we'd\": \"we would\", \"we'd've\": \"we would have\", \"we'll\": \"we will\", \"we'll've\": \"we will have\", \"we're\": \"we are\",\n",
    "                           \"we've\": \"we have\", \"weren't\": \"were not\", \"what'll\": \"what will\", \"what'll've\": \"what will have\", \"what're\": \"what are\",\n",
    "                           \"what's\": \"what is\", \"what've\": \"what have\", \"when's\": \"when is\", \"when've\": \"when have\", \"where'd\": \"where did\", \"where's\": \"where is\",\n",
    "                           \"where've\": \"where have\", \"who'll\": \"who will\", \"who'll've\": \"who will have\", \"who's\": \"who is\", \"who've\": \"who have\",\n",
    "                           \"why's\": \"why is\", \"why've\": \"why have\", \"will've\": \"will have\", \"won't\": \"will not\", \"won't've\": \"will not have\",\n",
    "                           \"would've\": \"would have\", \"wouldn't\": \"would not\", \"wouldn't've\": \"would not have\", \"y'all\": \"you all\",\n",
    "                           \"y'all'd\": \"you all would\",\"y'all'd've\": \"you all would have\",\"y'all're\": \"you all are\",\"y'all've\": \"you all have\",\n",
    "                           \"you'd\": \"you would\", \"you'd've\": \"you would have\", \"you'll\": \"you will\", \"you'll've\": \"you will have\",\n",
    "                           \"you're\": \"you are\", \"you've\": \"you have\"}\n",
    "\n",
    "print(\"정규화 사전의 수: \",len(contractions))"
   ]
  },
  {
   "cell_type": "code",
   "execution_count": 8,
   "id": "c8aae1e7",
   "metadata": {},
   "outputs": [
    {
     "name": "stdout",
     "output_type": "stream",
     "text": [
      "불용어 개수 : 179\n",
      "['i', 'me', 'my', 'myself', 'we', 'our', 'ours', 'ourselves', 'you', \"you're\", \"you've\", \"you'll\", \"you'd\", 'your', 'yours', 'yourself', 'yourselves', 'he', 'him', 'his', 'himself', 'she', \"she's\", 'her', 'hers', 'herself', 'it', \"it's\", 'its', 'itself', 'they', 'them', 'their', 'theirs', 'themselves', 'what', 'which', 'who', 'whom', 'this', 'that', \"that'll\", 'these', 'those', 'am', 'is', 'are', 'was', 'were', 'be', 'been', 'being', 'have', 'has', 'had', 'having', 'do', 'does', 'did', 'doing', 'a', 'an', 'the', 'and', 'but', 'if', 'or', 'because', 'as', 'until', 'while', 'of', 'at', 'by', 'for', 'with', 'about', 'against', 'between', 'into', 'through', 'during', 'before', 'after', 'above', 'below', 'to', 'from', 'up', 'down', 'in', 'out', 'on', 'off', 'over', 'under', 'again', 'further', 'then', 'once', 'here', 'there', 'when', 'where', 'why', 'how', 'all', 'any', 'both', 'each', 'few', 'more', 'most', 'other', 'some', 'such', 'no', 'nor', 'not', 'only', 'own', 'same', 'so', 'than', 'too', 'very', 's', 't', 'can', 'will', 'just', 'don', \"don't\", 'should', \"should've\", 'now', 'd', 'll', 'm', 'o', 're', 've', 'y', 'ain', 'aren', \"aren't\", 'couldn', \"couldn't\", 'didn', \"didn't\", 'doesn', \"doesn't\", 'hadn', \"hadn't\", 'hasn', \"hasn't\", 'haven', \"haven't\", 'isn', \"isn't\", 'ma', 'mightn', \"mightn't\", 'mustn', \"mustn't\", 'needn', \"needn't\", 'shan', \"shan't\", 'shouldn', \"shouldn't\", 'wasn', \"wasn't\", 'weren', \"weren't\", 'won', \"won't\", 'wouldn', \"wouldn't\"]\n"
     ]
    }
   ],
   "source": [
    "print('불용어 개수 :', len(stopwords.words('english') ))\n",
    "print(stopwords.words('english'))"
   ]
  },
  {
   "cell_type": "code",
   "execution_count": 9,
   "id": "55224309",
   "metadata": {},
   "outputs": [],
   "source": [
    "def preprocess_sentence(sentence, remove_stopwords=True):\n",
    "    sentence = sentence.lower()\n",
    "    sentence = BeautifulSoup(sentence, \"lxml\").text\n",
    "    sentence = re.sub(r'\\([^)]*\\)', '', sentence)\n",
    "    sentence = re.sub('\"','', sentence)\n",
    "    sentence = ' '.join([contractions[t] if t in contractions else t for t in sentence.split(\" \")])\n",
    "    sentence = re.sub(r\"'s\\b\",\"\",sentence)\n",
    "    sentence = re.sub(\"[^a-zA-Z]\", \" \", sentence)\n",
    "    sentence = re.sub('[m]{2,}', 'mm', sentence)\n",
    "    \n",
    "      # 불용어 제거 (Text)\n",
    "    if remove_stopwords:\n",
    "        tokens = ' '.join(word for word in sentence.split() if not word in stopwords.words('english') if len(word) > 1)\n",
    "    # 불용어 미제거 (headlines)\n",
    "    else:\n",
    "        tokens = ' '.join(word for word in sentence.split() if len(word) > 1)\n",
    "    return tokens"
   ]
  },
  {
   "cell_type": "code",
   "execution_count": 10,
   "id": "c1876cbd",
   "metadata": {},
   "outputs": [
    {
     "name": "stdout",
     "output_type": "stream",
     "text": [
      "everything bought great infact ordered twice third ordered wasfor mother father\n",
      "great way to start the day\n"
     ]
    }
   ],
   "source": [
    "# 전처리 전, 후의 결과를 확인하기 위해서 임의의 text와 summary를 만들어 함수를 호출\n",
    "temp_text = 'Everything I bought was great, infact I ordered twice and the third ordered was<br />for my mother and father.'\n",
    "temp_summary = 'Great way to start (or finish) the day!!!'\n",
    "\n",
    "print(preprocess_sentence(temp_text))\n",
    "print(preprocess_sentence(temp_summary, False))  # 불용어를 제거하지 않습니다."
   ]
  },
  {
   "cell_type": "code",
   "execution_count": 11,
   "id": "7515dc72",
   "metadata": {},
   "outputs": [
    {
     "name": "stdout",
     "output_type": "stream",
     "text": [
      "Text 전처리 후 결과:  ['saurav kant alumnus upgrad iiit pg program machine learning artificial intelligence sr systems engineer infosys almost years work experience program upgrad degree career support helped transition data scientist tech mahindra salary hike upgrad online power learning powered lakh careers', 'kunal shah credit card bill payment platform cred gave users chance win free food swiggy one year pranav kaushik delhi techie bagged reward spending cred coins users get one cred coin per rupee bill paid used avail rewards brands like ixigo bookmyshow ubereats cult fit', 'new zealand defeated india wickets fourth odi hamilton thursday win first match five match odi series india lost international match rohit sharma captaincy consecutive victories dating back march match witnessed india getting seventh lowest total odi cricket history', 'aegon life iterm insurance plan customers enjoy tax benefits premiums paid save taxes plan provides life cover age years also customers options insure critical illnesses disability accidental death benefit rider life cover age years', 'speaking sexual harassment allegations rajkumar hirani sonam kapoor said known hirani many years true metoo movement get derailed metoo movement always believe woman case need reserve judgment added hirani accused assistant worked sanju']\n"
     ]
    }
   ],
   "source": [
    "clean_text = []\n",
    "\n",
    "for s in data['text']:\n",
    "    clean_text.append(preprocess_sentence(s))\n",
    "\n",
    "# 전처리 후 출력\n",
    "print(\"Text 전처리 후 결과: \", clean_text[:5])"
   ]
  },
  {
   "cell_type": "code",
   "execution_count": 12,
   "id": "77766591",
   "metadata": {},
   "outputs": [
    {
     "name": "stdout",
     "output_type": "stream",
     "text": [
      "everything bought great infact ordered twice third ordered wasfor mother father\n",
      "great way to start the day\n"
     ]
    }
   ],
   "source": [
    "temp_text = 'Everything I bought was great, infact I ordered twice and the third ordered was<br />for my mother and father.'\n",
    "temp_summary = 'Great way to start (or finish) the day!!!'\n",
    "\n",
    "print(preprocess_sentence(temp_text))\n",
    "print(preprocess_sentence(temp_summary, False))  # 불용어를 제거하지 않습니다."
   ]
  },
  {
   "cell_type": "code",
   "execution_count": 13,
   "id": "3da4894b",
   "metadata": {},
   "outputs": [
    {
     "data": {
      "text/plain": [
       "['upgrad learner switches to career in ml al with salary hike',\n",
       " 'delhi techie wins free food from swiggy for one year on cred',\n",
       " 'new zealand end rohit sharma led india match winning streak',\n",
       " 'aegon life iterm insurance plan helps customers save tax',\n",
       " 'have known hirani for yrs what if metoo claims are not true sonam']"
      ]
     },
     "execution_count": 13,
     "metadata": {},
     "output_type": "execute_result"
    }
   ],
   "source": [
    "clean_headlines = []\n",
    "\n",
    "for s in data['headlines']:\n",
    "    clean_headlines.append(preprocess_sentence(s, False))\n",
    "\n",
    "clean_headlines[:5]"
   ]
  },
  {
   "cell_type": "code",
   "execution_count": 14,
   "id": "76a85bf9",
   "metadata": {},
   "outputs": [],
   "source": [
    "# 다시 한번 빈(empty) 샘플이 생겼는지 확인\n",
    "# 데이터들을 데이터프레임에 재저장\n",
    "# 빈(empty) 값을 가진 샘플들이 있다면, 모두 Null 값을 가진 샘플로 대체\n",
    "\n",
    "data['text'] = clean_text\n",
    "data['headlines'] = clean_headlines\n",
    "\n",
    "# 빈 값을 Null 값으로 변환\n",
    "data.replace('', np.nan, inplace=True)"
   ]
  },
  {
   "cell_type": "code",
   "execution_count": 15,
   "id": "ae5a1c8e",
   "metadata": {},
   "outputs": [
    {
     "data": {
      "text/plain": [
       "headlines    0\n",
       "text         0\n",
       "dtype: int64"
      ]
     },
     "execution_count": 15,
     "metadata": {},
     "output_type": "execute_result"
    }
   ],
   "source": [
    "data.isnull().sum()"
   ]
  },
  {
   "cell_type": "code",
   "execution_count": 16,
   "id": "083fb210",
   "metadata": {},
   "outputs": [
    {
     "name": "stdout",
     "output_type": "stream",
     "text": [
      "전체 샘플수 : 98360\n"
     ]
    }
   ],
   "source": [
    "data.dropna(axis=0, inplace=True)\n",
    "print('전체 샘플수 :', (len(data)))"
   ]
  },
  {
   "cell_type": "markdown",
   "id": "7858d1a6",
   "metadata": {},
   "source": [
    "## 데이터 전처리하기 (2. 훈련데이터와 테스트데이터 나누기)"
   ]
  },
  {
   "cell_type": "markdown",
   "id": "8be5f146",
   "metadata": {},
   "source": [
    "### 샘플의 최대 길이 정하기"
   ]
  },
  {
   "cell_type": "code",
   "execution_count": 17,
   "id": "966fac4c",
   "metadata": {},
   "outputs": [
    {
     "name": "stdout",
     "output_type": "stream",
     "text": [
      "텍스트의 최소 길이 : 1\n",
      "텍스트의 최대 길이 : 60\n",
      "텍스트의 평균 길이 : 35.09968483123221\n",
      "요약의 최소 길이 : 1\n",
      "요약의 최대 길이 : 16\n",
      "요약의 평균 길이 : 9.299532330215534\n"
     ]
    },
    {
     "data": {
      "image/png": "[encoded data removed]",
      "text/plain": [
       "<Figure size 432x288 with 2 Axes>"
      ]
     },
     "metadata": {
      "needs_background": "light"
     },
     "output_type": "display_data"
    },
    {
     "data": {
      "image/png": "[encoded data removed]",
      "text/plain": [
       "<Figure size 432x288 with 1 Axes>"
      ]
     },
     "metadata": {
      "needs_background": "light"
     },
     "output_type": "display_data"
    },
    {
     "data": {
      "image/png": "[encoded data removed]",
      "text/plain": [
       "<Figure size 432x288 with 1 Axes>"
      ]
     },
     "metadata": {
      "needs_background": "light"
     },
     "output_type": "display_data"
    }
   ],
   "source": [
    "import matplotlib.pyplot as plt\n",
    "\n",
    "text_len = [len(s.split()) for s in data['text']]\n",
    "headlines_len = [len(s.split()) for s in data['headlines']]\n",
    "\n",
    "print('텍스트의 최소 길이 : {}'.format(np.min(text_len)))\n",
    "print('텍스트의 최대 길이 : {}'.format(np.max(text_len)))\n",
    "print('텍스트의 평균 길이 : {}'.format(np.mean(text_len)))\n",
    "print('요약의 최소 길이 : {}'.format(np.min(headlines_len)))\n",
    "print('요약의 최대 길이 : {}'.format(np.max(headlines_len)))\n",
    "print('요약의 평균 길이 : {}'.format(np.mean(headlines_len)))\n",
    "\n",
    "plt.subplot(1,2,1)\n",
    "plt.boxplot(headlines_len)\n",
    "plt.title('headlines')\n",
    "plt.subplot(1,2,2)\n",
    "plt.boxplot(text_len)\n",
    "plt.title('text')\n",
    "plt.tight_layout()\n",
    "plt.show()\n",
    "\n",
    "plt.title('headlines')\n",
    "plt.hist(headlines_len, bins = 40)\n",
    "plt.xlabel('length of samples')\n",
    "plt.ylabel('number of samples')\n",
    "plt.show()\n",
    "\n",
    "plt.title('text')\n",
    "plt.hist(text_len, bins = 40)\n",
    "plt.xlabel('length of samples')\n",
    "plt.ylabel('number of samples')\n",
    "plt.show()"
   ]
  },
  {
   "cell_type": "code",
   "execution_count": 18,
   "id": "edb5e72f",
   "metadata": {},
   "outputs": [],
   "source": [
    "# Text의 최대 길이와 Summary의 적절한 최대 길이를 임의로 정한다\n",
    "text_max_len = 40\n",
    "headlines_max_len = 10"
   ]
  },
  {
   "cell_type": "code",
   "execution_count": 19,
   "id": "1d984c77",
   "metadata": {},
   "outputs": [],
   "source": [
    "def below_threshold_len(max_len, nested_list):\n",
    "  cnt = 0\n",
    "  for s in nested_list:\n",
    "    if(len(s.split()) <= max_len):\n",
    "        cnt = cnt + 1\n",
    "  print('전체 샘플 중 길이가 %s 이하인 샘플의 비율: %s'%(max_len, (cnt / len(nested_list))))"
   ]
  },
  {
   "cell_type": "code",
   "execution_count": 20,
   "id": "a1878a84",
   "metadata": {},
   "outputs": [
    {
     "name": "stdout",
     "output_type": "stream",
     "text": [
      "전체 샘플 중 길이가 40 이하인 샘플의 비율: 0.9238714924766165\n",
      "전체 샘플 중 길이가 10 이하인 샘플의 비율: 0.8162972753151687\n"
     ]
    }
   ],
   "source": [
    "below_threshold_len(text_max_len, data['text'])\n",
    "below_threshold_len(headlines_max_len,  data['headlines'])"
   ]
  },
  {
   "cell_type": "markdown",
   "id": "1af81b70",
   "metadata": {},
   "source": [
    "### 시작 토큰과 종료 토큰 추가하기"
   ]
  },
  {
   "cell_type": "code",
   "execution_count": 21,
   "id": "3d2eab9b",
   "metadata": {},
   "outputs": [
    {
     "data": {
      "text/html": [
       "<div>\n",
       "<style scoped>\n",
       "    .dataframe tbody tr th:only-of-type {\n",
       "        vertical-align: middle;\n",
       "    }\n",
       "\n",
       "    .dataframe tbody tr th {\n",
       "        vertical-align: top;\n",
       "    }\n",
       "\n",
       "    .dataframe thead th {\n",
       "        text-align: right;\n",
       "    }\n",
       "</style>\n",
       "<table border=\"1\" class=\"dataframe\">\n",
       "  <thead>\n",
       "    <tr style=\"text-align: right;\">\n",
       "      <th></th>\n",
       "      <th>headlines</th>\n",
       "      <th>text</th>\n",
       "      <th>decoder_input</th>\n",
       "      <th>decoder_target</th>\n",
       "    </tr>\n",
       "  </thead>\n",
       "  <tbody>\n",
       "    <tr>\n",
       "      <th>0</th>\n",
       "      <td>upgrad learner switches to career in ml al wit...</td>\n",
       "      <td>saurav kant alumnus upgrad iiit pg program mac...</td>\n",
       "      <td>sostoken upgrad learner switches to career in ...</td>\n",
       "      <td>upgrad learner switches to career in ml al wit...</td>\n",
       "    </tr>\n",
       "    <tr>\n",
       "      <th>1</th>\n",
       "      <td>delhi techie wins free food from swiggy for on...</td>\n",
       "      <td>kunal shah credit card bill payment platform c...</td>\n",
       "      <td>sostoken delhi techie wins free food from swig...</td>\n",
       "      <td>delhi techie wins free food from swiggy for on...</td>\n",
       "    </tr>\n",
       "    <tr>\n",
       "      <th>2</th>\n",
       "      <td>new zealand end rohit sharma led india match w...</td>\n",
       "      <td>new zealand defeated india wickets fourth odi ...</td>\n",
       "      <td>sostoken new zealand end rohit sharma led indi...</td>\n",
       "      <td>new zealand end rohit sharma led india match w...</td>\n",
       "    </tr>\n",
       "    <tr>\n",
       "      <th>3</th>\n",
       "      <td>aegon life iterm insurance plan helps customer...</td>\n",
       "      <td>aegon life iterm insurance plan customers enjo...</td>\n",
       "      <td>sostoken aegon life iterm insurance plan helps...</td>\n",
       "      <td>aegon life iterm insurance plan helps customer...</td>\n",
       "    </tr>\n",
       "    <tr>\n",
       "      <th>4</th>\n",
       "      <td>have known hirani for yrs what if metoo claims...</td>\n",
       "      <td>speaking sexual harassment allegations rajkuma...</td>\n",
       "      <td>sostoken have known hirani for yrs what if met...</td>\n",
       "      <td>have known hirani for yrs what if metoo claims...</td>\n",
       "    </tr>\n",
       "  </tbody>\n",
       "</table>\n",
       "</div>"
      ],
      "text/plain": [
       "                                           headlines  \\\n",
       "0  upgrad learner switches to career in ml al wit...   \n",
       "1  delhi techie wins free food from swiggy for on...   \n",
       "2  new zealand end rohit sharma led india match w...   \n",
       "3  aegon life iterm insurance plan helps customer...   \n",
       "4  have known hirani for yrs what if metoo claims...   \n",
       "\n",
       "                                                text  \\\n",
       "0  saurav kant alumnus upgrad iiit pg program mac...   \n",
       "1  kunal shah credit card bill payment platform c...   \n",
       "2  new zealand defeated india wickets fourth odi ...   \n",
       "3  aegon life iterm insurance plan customers enjo...   \n",
       "4  speaking sexual harassment allegations rajkuma...   \n",
       "\n",
       "                                       decoder_input  \\\n",
       "0  sostoken upgrad learner switches to career in ...   \n",
       "1  sostoken delhi techie wins free food from swig...   \n",
       "2  sostoken new zealand end rohit sharma led indi...   \n",
       "3  sostoken aegon life iterm insurance plan helps...   \n",
       "4  sostoken have known hirani for yrs what if met...   \n",
       "\n",
       "                                      decoder_target  \n",
       "0  upgrad learner switches to career in ml al wit...  \n",
       "1  delhi techie wins free food from swiggy for on...  \n",
       "2  new zealand end rohit sharma led india match w...  \n",
       "3  aegon life iterm insurance plan helps customer...  \n",
       "4  have known hirani for yrs what if metoo claims...  "
      ]
     },
     "execution_count": 21,
     "metadata": {},
     "output_type": "execute_result"
    }
   ],
   "source": [
    "# 요약 데이터에는 시작 토큰과 종료 토큰을 추가한다.\n",
    "data['decoder_input'] = data['headlines'].apply(lambda x : 'sostoken '+ x)\n",
    "data['decoder_target'] = data['headlines'].apply(lambda x : x + ' eostoken')\n",
    "data.head()"
   ]
  },
  {
   "cell_type": "code",
   "execution_count": 22,
   "id": "51067545",
   "metadata": {},
   "outputs": [],
   "source": [
    "# Numpy 타입으로 저장\n",
    "encoder_input = np.array(data['text']) # 인코더의 입력\n",
    "decoder_input = np.array(data['decoder_input']) # 디코더의 입력\n",
    "decoder_target = np.array(data['decoder_target']) # 디코더의 레이블"
   ]
  },
  {
   "cell_type": "code",
   "execution_count": 23,
   "id": "4cf7f971",
   "metadata": {},
   "outputs": [
    {
     "name": "stdout",
     "output_type": "stream",
     "text": [
      "[39937 24033 59815 ... 52526 77440 22562]\n",
      "98360\n"
     ]
    }
   ],
   "source": [
    "# 훈련 데이터와 테스트 데이터를 분리\n",
    "\n",
    "# encoder_input과 크기와 형태가 같은 순서가 섞인 정수 시퀀스를 만든다\n",
    "indices = np.arange(encoder_input.shape[0])\n",
    "np.random.shuffle(indices)\n",
    "print(indices)\n",
    "print(len(indices))"
   ]
  },
  {
   "cell_type": "code",
   "execution_count": 24,
   "id": "7172fa15",
   "metadata": {},
   "outputs": [],
   "source": [
    "# 이 정수 시퀀스를 이용해 다시 데이터의 샘플 순서를 정의\n",
    "encoder_input = encoder_input[indices]\n",
    "decoder_input = decoder_input[indices]\n",
    "decoder_target = decoder_target[indices]"
   ]
  },
  {
   "cell_type": "code",
   "execution_count": 25,
   "id": "2550a57f",
   "metadata": {},
   "outputs": [
    {
     "name": "stdout",
     "output_type": "stream",
     "text": [
      "테스트 데이터의 수 : 19672\n"
     ]
    }
   ],
   "source": [
    "# 섞인 데이터를 8:2의 비율로 훈련 데이터와 테스트 데이터로 분리\n",
    "n_of_val = int(len(encoder_input)*0.2)\n",
    "print('테스트 데이터의 수 :',n_of_val)"
   ]
  },
  {
   "cell_type": "code",
   "execution_count": 26,
   "id": "5e3ea240",
   "metadata": {},
   "outputs": [
    {
     "name": "stdout",
     "output_type": "stream",
     "text": [
      "훈련 데이터의 개수 : 78688\n",
      "훈련 레이블의 개수 : 78688\n",
      "테스트 데이터의 개수 : 19672\n",
      "테스트 레이블의 개수 : 19672\n"
     ]
    }
   ],
   "source": [
    "# 정의한 테스트 데이터의 개수를 이용해 전체 데이터를 양분\n",
    "encoder_input_train = encoder_input[:-n_of_val]\n",
    "decoder_input_train = decoder_input[:-n_of_val]\n",
    "decoder_target_train = decoder_target[:-n_of_val]\n",
    "\n",
    "encoder_input_test = encoder_input[-n_of_val:]\n",
    "decoder_input_test = decoder_input[-n_of_val:]\n",
    "decoder_target_test = decoder_target[-n_of_val:]\n",
    "\n",
    "print('훈련 데이터의 개수 :', len(encoder_input_train))\n",
    "print('훈련 레이블의 개수 :',len(decoder_input_train))\n",
    "print('테스트 데이터의 개수 :',len(encoder_input_test))\n",
    "print('테스트 레이블의 개수 :',len(decoder_input_test))"
   ]
  },
  {
   "cell_type": "markdown",
   "id": "d6f671ed",
   "metadata": {},
   "source": [
    "## 데이터 전처리하기 (3. 단어 집합(vocabulary) 만들기 및 정수 인코딩)"
   ]
  },
  {
   "cell_type": "markdown",
   "id": "0f126b5f",
   "metadata": {},
   "source": [
    "### Text 단어집합 만들기"
   ]
  },
  {
   "cell_type": "code",
   "execution_count": 27,
   "id": "bf2cc138",
   "metadata": {},
   "outputs": [],
   "source": [
    "src_tokenizer = Tokenizer() # 토크나이저 정의\n",
    "src_tokenizer.fit_on_texts(encoder_input_train) # 입력된 데이터로부터 단어 집합 생성"
   ]
  },
  {
   "cell_type": "code",
   "execution_count": 28,
   "id": "d25c5564",
   "metadata": {},
   "outputs": [
    {
     "name": "stdout",
     "output_type": "stream",
     "text": [
      "단어 집합(vocabulary)의 크기 : 69644\n",
      "등장 빈도가 6번 이하인 희귀 단어의 수: 47482\n",
      "단어 집합에서 희귀 단어를 제외시킬 경우의 단어 집합의 크기 22162\n",
      "단어 집합에서 희귀 단어의 비율: 68.17816323014186\n",
      "전체 등장 빈도에서 희귀 단어 등장 빈도 비율: 3.492459528203732\n"
     ]
    }
   ],
   "source": [
    "# 빈도수가 낮은 단어들은 훈련 데이터에서 제외하고 진행\n",
    "\n",
    "threshold = 7\n",
    "total_cnt = len(src_tokenizer.word_index) # 단어의 수\n",
    "rare_cnt = 0 # 등장 빈도수가 threshold보다 작은 단어의 개수를 카운트\n",
    "total_freq = 0 # 훈련 데이터의 전체 단어 빈도수 총 합\n",
    "rare_freq = 0 # 등장 빈도수가 threshold보다 작은 단어의 등장 빈도수의 총 합\n",
    "\n",
    "# 단어와 빈도수의 쌍(pair)을 key와 value로 받는다.\n",
    "for key, value in src_tokenizer.word_counts.items():\n",
    "    total_freq = total_freq + value\n",
    "\n",
    "    # 단어의 등장 빈도수가 threshold보다 작으면\n",
    "    if(value < threshold):\n",
    "        rare_cnt = rare_cnt + 1\n",
    "        rare_freq = rare_freq + value\n",
    "\n",
    "print('단어 집합(vocabulary)의 크기 :',total_cnt)\n",
    "print('등장 빈도가 %s번 이하인 희귀 단어의 수: %s'%(threshold - 1, rare_cnt))\n",
    "print('단어 집합에서 희귀 단어를 제외시킬 경우의 단어 집합의 크기 %s'%(total_cnt - rare_cnt))\n",
    "print(\"단어 집합에서 희귀 단어의 비율:\", (rare_cnt / total_cnt)*100)\n",
    "print(\"전체 등장 빈도에서 희귀 단어 등장 빈도 비율:\", (rare_freq / total_freq)*100)"
   ]
  },
  {
   "cell_type": "code",
   "execution_count": 29,
   "id": "92ab1e34",
   "metadata": {},
   "outputs": [],
   "source": [
    "src_vocab = 22000\n",
    "src_tokenizer = Tokenizer(num_words = src_vocab) # 단어 집합의 크기를 22000으로 제한\n",
    "src_tokenizer.fit_on_texts(encoder_input_train) # 단어 집합 재생성"
   ]
  },
  {
   "cell_type": "code",
   "execution_count": 30,
   "id": "74c74894",
   "metadata": {},
   "outputs": [
    {
     "name": "stdout",
     "output_type": "stream",
     "text": [
      "[[627, 5037, 324, 53, 179, 3698, 958, 1551, 1171, 33, 1284, 302, 4284, 9304, 556, 302, 3, 54, 30, 627, 1461, 243, 707, 8989, 376, 6, 1269, 9478, 2589, 5288, 302, 293, 3, 13, 6135, 8706, 10084], [1474, 2970, 1556, 1531, 823, 15951, 20662, 1975, 141, 8, 6481, 143, 1332, 245, 6, 983, 620, 1474, 2446, 1598, 1983, 4443, 621, 351, 13774, 8037, 143, 12615, 547, 2113, 6, 738, 794, 5395, 2140, 143, 2053], [38, 53, 114, 11, 7908, 5549, 1383, 8038, 609, 6201, 9, 1, 60, 38, 808, 6649, 12959, 874, 226, 23, 6566, 1013, 150, 63, 47, 90, 9]]\n"
     ]
    }
   ],
   "source": [
    "# 텍스트 시퀀스를 정수 시퀀스로 변환\n",
    "encoder_input_train = src_tokenizer.texts_to_sequences(encoder_input_train) \n",
    "encoder_input_test = src_tokenizer.texts_to_sequences(encoder_input_test)\n",
    "\n",
    "#잘 진행되었는지 샘플 출력\n",
    "print(encoder_input_train[:3])"
   ]
  },
  {
   "cell_type": "markdown",
   "id": "95f32392",
   "metadata": {},
   "source": [
    "### headlines 단어집합 만들기"
   ]
  },
  {
   "cell_type": "code",
   "execution_count": 31,
   "id": "96251bfc",
   "metadata": {},
   "outputs": [],
   "source": [
    "tar_tokenizer = Tokenizer()\n",
    "tar_tokenizer.fit_on_texts(decoder_input_train)"
   ]
  },
  {
   "cell_type": "code",
   "execution_count": 32,
   "id": "8af160cf",
   "metadata": {},
   "outputs": [
    {
     "name": "stdout",
     "output_type": "stream",
     "text": [
      "단어 집합(vocabulary)의 크기 : 30140\n",
      "등장 빈도가 5번 이하인 희귀 단어의 수: 19707\n",
      "단어 집합에서 희귀 단어를 제외시킬 경우의 단어 집합의 크기 10433\n",
      "단어 집합에서 희귀 단어의 비율: 65.38487060384871\n",
      "전체 등장 빈도에서 희귀 단어 등장 빈도 비율: 4.652336720815366\n"
     ]
    }
   ],
   "source": [
    "threshold = 6\n",
    "total_cnt = len(tar_tokenizer.word_index) # 단어의 수\n",
    "rare_cnt = 0 # 등장 빈도수가 threshold보다 작은 단어의 개수를 카운트\n",
    "total_freq = 0 # 훈련 데이터의 전체 단어 빈도수 총 합\n",
    "rare_freq = 0 # 등장 빈도수가 threshold보다 작은 단어의 등장 빈도수의 총 합\n",
    "\n",
    "# 단어와 빈도수의 쌍(pair)을 key와 value로 받는다.\n",
    "for key, value in tar_tokenizer.word_counts.items():\n",
    "    total_freq = total_freq + value\n",
    "\n",
    "    # 단어의 등장 빈도수가 threshold보다 작으면\n",
    "    if(value < threshold):\n",
    "        rare_cnt = rare_cnt + 1\n",
    "        rare_freq = rare_freq + value\n",
    "\n",
    "print('단어 집합(vocabulary)의 크기 :',total_cnt)\n",
    "print('등장 빈도가 %s번 이하인 희귀 단어의 수: %s'%(threshold - 1, rare_cnt))\n",
    "print('단어 집합에서 희귀 단어를 제외시킬 경우의 단어 집합의 크기 %s'%(total_cnt - rare_cnt))\n",
    "print(\"단어 집합에서 희귀 단어의 비율:\", (rare_cnt / total_cnt)*100)\n",
    "print(\"전체 등장 빈도에서 희귀 단어 등장 빈도 비율:\", (rare_freq / total_freq)*100)"
   ]
  },
  {
   "cell_type": "code",
   "execution_count": 33,
   "id": "adb6d6ee",
   "metadata": {},
   "outputs": [
    {
     "name": "stdout",
     "output_type": "stream",
     "text": [
      "input\n",
      "input  [[1, 2936, 452, 539, 1085, 440, 398, 4], [1, 641, 5402, 205, 2054, 35, 3, 23], [1, 453, 20, 69, 42, 596, 75], [1, 45, 2114, 138, 4, 1168, 48, 581, 2992, 610, 31], [1, 13, 9499, 944, 118, 4144, 4848, 207]]\n",
      "target\n",
      "decoder  [[2936, 452, 539, 1085, 440, 398, 4, 2], [641, 5402, 205, 2054, 35, 3, 23, 2], [453, 20, 69, 42, 596, 75, 2], [45, 2114, 138, 4, 1168, 48, 581, 2992, 610, 31, 2], [13, 9499, 944, 118, 4144, 4848, 207, 2]]\n"
     ]
    }
   ],
   "source": [
    "tar_vocab = 10000\n",
    "tar_tokenizer = Tokenizer(num_words = tar_vocab) \n",
    "tar_tokenizer.fit_on_texts(decoder_input_train)\n",
    "tar_tokenizer.fit_on_texts(decoder_target_train)\n",
    "\n",
    "# 텍스트 시퀀스를 정수 시퀀스로 변환\n",
    "decoder_input_train = tar_tokenizer.texts_to_sequences(decoder_input_train) \n",
    "decoder_target_train = tar_tokenizer.texts_to_sequences(decoder_target_train)\n",
    "decoder_input_test = tar_tokenizer.texts_to_sequences(decoder_input_test)\n",
    "decoder_target_test = tar_tokenizer.texts_to_sequences(decoder_target_test)\n",
    "\n",
    "#잘 변환되었는지 확인\n",
    "print('input')\n",
    "print('input ',decoder_input_train[:5])\n",
    "print('target')\n",
    "print('decoder ',decoder_target_train[:5])"
   ]
  },
  {
   "cell_type": "markdown",
   "id": "b69fc3fe",
   "metadata": {},
   "source": [
    "### 요약문의 길이가 1인 경우 제거"
   ]
  },
  {
   "cell_type": "code",
   "execution_count": 34,
   "id": "313b4a5a",
   "metadata": {},
   "outputs": [
    {
     "name": "stdout",
     "output_type": "stream",
     "text": [
      "삭제할 훈련 데이터의 개수 : 0\n",
      "삭제할 테스트 데이터의 개수 : 0\n",
      "훈련 데이터의 개수 : 78688\n",
      "훈련 레이블의 개수 : 78688\n",
      "테스트 데이터의 개수 : 19672\n",
      "테스트 레이블의 개수 : 19672\n"
     ]
    },
    {
     "name": "stderr",
     "output_type": "stream",
     "text": [
      "/opt/conda/lib/python3.9/site-packages/numpy/lib/function_base.py:4454: VisibleDeprecationWarning: Creating an ndarray from ragged nested sequences (which is a list-or-tuple of lists-or-tuples-or ndarrays with different lengths or shapes) is deprecated. If you meant to do this, you must specify 'dtype=object' when creating the ndarray.\n",
      "  arr = asarray(arr)\n"
     ]
    }
   ],
   "source": [
    "drop_train = [index for index, sentence in enumerate(decoder_input_train) if len(sentence) == 1]\n",
    "drop_test = [index for index, sentence in enumerate(decoder_input_test) if len(sentence) == 1]\n",
    "\n",
    "print('삭제할 훈련 데이터의 개수 :',len(drop_train))\n",
    "print('삭제할 테스트 데이터의 개수 :',len(drop_test))\n",
    "\n",
    "encoder_input_train = np.delete(encoder_input_train, drop_train, axis=0)\n",
    "decoder_input_train = np.delete(decoder_input_train, drop_train, axis=0)\n",
    "decoder_target_train = np.delete(decoder_target_train, drop_train, axis=0)\n",
    "\n",
    "encoder_input_test = np.delete(encoder_input_test, drop_test, axis=0)\n",
    "decoder_input_test = np.delete(decoder_input_test, drop_test, axis=0)\n",
    "decoder_target_test = np.delete(decoder_target_test, drop_test, axis=0)\n",
    "\n",
    "print('훈련 데이터의 개수 :', len(encoder_input_train))\n",
    "print('훈련 레이블의 개수 :',len(decoder_input_train))\n",
    "print('테스트 데이터의 개수 :',len(encoder_input_test))\n",
    "print('테스트 레이블의 개수 :',len(decoder_input_test))"
   ]
  },
  {
   "cell_type": "markdown",
   "id": "897e95f9",
   "metadata": {},
   "source": [
    "### 패딩하기"
   ]
  },
  {
   "cell_type": "code",
   "execution_count": 35,
   "id": "21c8939f",
   "metadata": {},
   "outputs": [],
   "source": [
    "encoder_input_train = pad_sequences(encoder_input_train, maxlen = text_max_len, padding='post')\n",
    "encoder_input_test = pad_sequences(encoder_input_test, maxlen = text_max_len, padding='post')\n",
    "decoder_input_train = pad_sequences(decoder_input_train, maxlen = headlines_max_len, padding='post')\n",
    "decoder_target_train = pad_sequences(decoder_target_train, maxlen = headlines_max_len, padding='post')\n",
    "decoder_input_test = pad_sequences(decoder_input_test, maxlen = headlines_max_len, padding='post')\n",
    "decoder_target_test = pad_sequences(decoder_target_test, maxlen = headlines_max_len, padding='post')"
   ]
  },
  {
   "cell_type": "markdown",
   "id": "9fac78e4",
   "metadata": {},
   "source": [
    "## 모델 설계"
   ]
  },
  {
   "cell_type": "code",
   "execution_count": 36,
   "id": "46a9861e",
   "metadata": {},
   "outputs": [
    {
     "name": "stdout",
     "output_type": "stream",
     "text": [
      "WARNING:tensorflow:Layer lstm will not use cuDNN kernels since it doesn't meet the criteria. It will use a generic GPU kernel as fallback when running on GPU.\n",
      "WARNING:tensorflow:Layer lstm_1 will not use cuDNN kernels since it doesn't meet the criteria. It will use a generic GPU kernel as fallback when running on GPU.\n",
      "WARNING:tensorflow:Layer lstm_2 will not use cuDNN kernels since it doesn't meet the criteria. It will use a generic GPU kernel as fallback when running on GPU.\n"
     ]
    }
   ],
   "source": [
    "from tensorflow.keras.layers import Input, LSTM, Embedding, Dense, Concatenate, TimeDistributed\n",
    "from tensorflow.keras.models import Model\n",
    "from tensorflow.keras.callbacks import EarlyStopping, ModelCheckpoint\n",
    "\n",
    "\n",
    "# 인코더 설계 시작\n",
    "embedding_dim = 128\n",
    "hidden_size = 256\n",
    "\n",
    "# 인코더\n",
    "encoder_inputs = Input(shape=(text_max_len,))\n",
    "\n",
    "# 인코더의 임베딩 층\n",
    "enc_emb = Embedding(src_vocab, embedding_dim)(encoder_inputs)\n",
    "\n",
    "# 인코더의 LSTM 1\n",
    "encoder_lstm1 = LSTM(hidden_size, return_sequences=True, return_state=True ,dropout = 0.4, recurrent_dropout = 0.4)\n",
    "encoder_output1, state_h1, state_c1 = encoder_lstm1(enc_emb)\n",
    "\n",
    "# 인코더의 LSTM 2\n",
    "encoder_lstm2 = LSTM(hidden_size, return_sequences=True, return_state=True, dropout=0.4, recurrent_dropout=0.4)\n",
    "encoder_output2, state_h2, state_c2 = encoder_lstm2(encoder_output1)\n",
    "\n",
    "# 인코더의 LSTM 3\n",
    "encoder_lstm3 = LSTM(hidden_size, return_state=True, return_sequences=True, dropout=0.4, recurrent_dropout=0.4)\n",
    "encoder_outputs, state_h, state_c= encoder_lstm3(encoder_output2)"
   ]
  },
  {
   "cell_type": "code",
   "execution_count": 37,
   "id": "565ee1c3",
   "metadata": {},
   "outputs": [
    {
     "name": "stdout",
     "output_type": "stream",
     "text": [
      "WARNING:tensorflow:Layer lstm_3 will not use cuDNN kernels since it doesn't meet the criteria. It will use a generic GPU kernel as fallback when running on GPU.\n"
     ]
    }
   ],
   "source": [
    "# 디코더 입력층 설계\n",
    "\n",
    "decoder_inputs = Input(shape=(None,))\n",
    "\n",
    "# 디코더의 임베딩 층\n",
    "dec_emb_layer = Embedding(tar_vocab, embedding_dim)\n",
    "dec_emb = dec_emb_layer(decoder_inputs)\n",
    "\n",
    "# 디코더의 LSTM\n",
    "decoder_lstm = LSTM(hidden_size, return_sequences = True, return_state = True, dropout = 0.4, recurrent_dropout=0.2)\n",
    "decoder_outputs, _, _ = decoder_lstm(dec_emb, initial_state = [state_h, state_c])"
   ]
  },
  {
   "cell_type": "code",
   "execution_count": 38,
   "id": "92cea2c8",
   "metadata": {},
   "outputs": [
    {
     "name": "stdout",
     "output_type": "stream",
     "text": [
      "Model: \"model\"\n",
      "__________________________________________________________________________________________________\n",
      "Layer (type)                    Output Shape         Param #     Connected to                     \n",
      "==================================================================================================\n",
      "input_1 (InputLayer)            [(None, 40)]         0                                            \n",
      "__________________________________________________________________________________________________\n",
      "embedding (Embedding)           (None, 40, 128)      2816000     input_1[0][0]                    \n",
      "__________________________________________________________________________________________________\n",
      "lstm (LSTM)                     [(None, 40, 256), (N 394240      embedding[0][0]                  \n",
      "__________________________________________________________________________________________________\n",
      "input_2 (InputLayer)            [(None, None)]       0                                            \n",
      "__________________________________________________________________________________________________\n",
      "lstm_1 (LSTM)                   [(None, 40, 256), (N 525312      lstm[0][0]                       \n",
      "__________________________________________________________________________________________________\n",
      "embedding_1 (Embedding)         (None, None, 128)    1280000     input_2[0][0]                    \n",
      "__________________________________________________________________________________________________\n",
      "lstm_2 (LSTM)                   [(None, 40, 256), (N 525312      lstm_1[0][0]                     \n",
      "__________________________________________________________________________________________________\n",
      "lstm_3 (LSTM)                   [(None, None, 256),  394240      embedding_1[0][0]                \n",
      "                                                                 lstm_2[0][1]                     \n",
      "                                                                 lstm_2[0][2]                     \n",
      "__________________________________________________________________________________________________\n",
      "dense (Dense)                   (None, None, 10000)  2570000     lstm_3[0][0]                     \n",
      "==================================================================================================\n",
      "Total params: 8,505,104\n",
      "Trainable params: 8,505,104\n",
      "Non-trainable params: 0\n",
      "__________________________________________________________________________________________________\n"
     ]
    }
   ],
   "source": [
    "# 디코더 출력층 설계\n",
    "\n",
    "# 디코더의 출력층\n",
    "decoder_softmax_layer = Dense(tar_vocab, activation = 'softmax')\n",
    "decoder_softmax_outputs = decoder_softmax_layer(decoder_outputs) \n",
    "\n",
    "# 모델 정의\n",
    "model = Model([encoder_inputs, decoder_inputs], decoder_softmax_outputs)\n",
    "model.summary()"
   ]
  },
  {
   "cell_type": "markdown",
   "id": "fbed8496",
   "metadata": {},
   "source": [
    "### 어텐션 메커니즘"
   ]
  },
  {
   "cell_type": "code",
   "execution_count": 39,
   "id": "013a01d3",
   "metadata": {},
   "outputs": [
    {
     "name": "stdout",
     "output_type": "stream",
     "text": [
      "Model: \"model_1\"\n",
      "__________________________________________________________________________________________________\n",
      "Layer (type)                    Output Shape         Param #     Connected to                     \n",
      "==================================================================================================\n",
      "input_1 (InputLayer)            [(None, 40)]         0                                            \n",
      "__________________________________________________________________________________________________\n",
      "embedding (Embedding)           (None, 40, 128)      2816000     input_1[0][0]                    \n",
      "__________________________________________________________________________________________________\n",
      "lstm (LSTM)                     [(None, 40, 256), (N 394240      embedding[0][0]                  \n",
      "__________________________________________________________________________________________________\n",
      "input_2 (InputLayer)            [(None, None)]       0                                            \n",
      "__________________________________________________________________________________________________\n",
      "lstm_1 (LSTM)                   [(None, 40, 256), (N 525312      lstm[0][0]                       \n",
      "__________________________________________________________________________________________________\n",
      "embedding_1 (Embedding)         (None, None, 128)    1280000     input_2[0][0]                    \n",
      "__________________________________________________________________________________________________\n",
      "lstm_2 (LSTM)                   [(None, 40, 256), (N 525312      lstm_1[0][0]                     \n",
      "__________________________________________________________________________________________________\n",
      "lstm_3 (LSTM)                   [(None, None, 256),  394240      embedding_1[0][0]                \n",
      "                                                                 lstm_2[0][1]                     \n",
      "                                                                 lstm_2[0][2]                     \n",
      "__________________________________________________________________________________________________\n",
      "attention_layer (AdditiveAttent (None, None, 256)    256         lstm_3[0][0]                     \n",
      "                                                                 lstm_2[0][0]                     \n",
      "__________________________________________________________________________________________________\n",
      "concat_layer (Concatenate)      (None, None, 512)    0           lstm_3[0][0]                     \n",
      "                                                                 attention_layer[0][0]            \n",
      "__________________________________________________________________________________________________\n",
      "dense_1 (Dense)                 (None, None, 10000)  5130000     concat_layer[0][0]               \n",
      "==================================================================================================\n",
      "Total params: 11,065,360\n",
      "Trainable params: 11,065,360\n",
      "Non-trainable params: 0\n",
      "__________________________________________________________________________________________________\n"
     ]
    }
   ],
   "source": [
    "from tensorflow.keras.layers import AdditiveAttention\n",
    "\n",
    "# 어텐션 층(어텐션 함수)\n",
    "attn_layer = AdditiveAttention(name='attention_layer')\n",
    "\n",
    "# 인코더와 디코더의 모든 time step의 hidden state를 어텐션 층에 전달하고 결과를 리턴\n",
    "attn_out = attn_layer([decoder_outputs, encoder_outputs])\n",
    "\n",
    "\n",
    "# 어텐션의 결과와 디코더의 hidden state들을 연결\n",
    "decoder_concat_input = Concatenate(axis=-1, name='concat_layer')([decoder_outputs, attn_out])\n",
    "\n",
    "# 디코더의 출력층\n",
    "decoder_softmax_layer = Dense(tar_vocab, activation='softmax')\n",
    "decoder_softmax_outputs = decoder_softmax_layer(decoder_concat_input)\n",
    "\n",
    "# 모델 정의\n",
    "model = Model([encoder_inputs, decoder_inputs], decoder_softmax_outputs)\n",
    "model.summary()"
   ]
  },
  {
   "cell_type": "markdown",
   "id": "ae6352ba",
   "metadata": {},
   "source": [
    "## 모델 훈련\n"
   ]
  },
  {
   "cell_type": "code",
   "execution_count": 40,
   "id": "ed1847ad",
   "metadata": {},
   "outputs": [
    {
     "name": "stdout",
     "output_type": "stream",
     "text": [
      "Epoch 1/50\n",
      "308/308 [==============================] - 179s 551ms/step - loss: 6.3558 - val_loss: 5.9502\n",
      "Epoch 2/50\n",
      "308/308 [==============================] - 166s 540ms/step - loss: 5.7705 - val_loss: 5.5430\n",
      "Epoch 3/50\n",
      "308/308 [==============================] - 167s 541ms/step - loss: 5.4046 - val_loss: 5.2639\n",
      "Epoch 4/50\n",
      "308/308 [==============================] - 167s 541ms/step - loss: 5.1005 - val_loss: 5.0323\n",
      "Epoch 5/50\n",
      "308/308 [==============================] - 167s 541ms/step - loss: 4.8621 - val_loss: 4.8563\n",
      "Epoch 6/50\n",
      "308/308 [==============================] - 167s 541ms/step - loss: 4.6683 - val_loss: 4.7268\n",
      "Epoch 7/50\n",
      "308/308 [==============================] - 167s 542ms/step - loss: 4.4967 - val_loss: 4.6069\n",
      "Epoch 8/50\n",
      "308/308 [==============================] - 166s 541ms/step - loss: 4.3516 - val_loss: 4.5279\n",
      "Epoch 9/50\n",
      "308/308 [==============================] - 168s 547ms/step - loss: 4.2230 - val_loss: 4.4491\n",
      "Epoch 10/50\n",
      "308/308 [==============================] - 168s 545ms/step - loss: 4.1091 - val_loss: 4.3860\n",
      "Epoch 11/50\n",
      "308/308 [==============================] - 169s 547ms/step - loss: 4.0040 - val_loss: 4.3348\n",
      "Epoch 12/50\n",
      "308/308 [==============================] - 168s 546ms/step - loss: 3.9080 - val_loss: 4.2968\n",
      "Epoch 13/50\n",
      "308/308 [==============================] - 168s 547ms/step - loss: 3.8237 - val_loss: 4.2685\n",
      "Epoch 14/50\n",
      "308/308 [==============================] - 169s 547ms/step - loss: 3.7414 - val_loss: 4.2342\n",
      "Epoch 15/50\n",
      "308/308 [==============================] - 168s 547ms/step - loss: 3.6708 - val_loss: 4.2021\n",
      "Epoch 16/50\n",
      "308/308 [==============================] - 168s 546ms/step - loss: 3.6034 - val_loss: 4.1976\n",
      "Epoch 17/50\n",
      "308/308 [==============================] - 168s 546ms/step - loss: 3.5430 - val_loss: 4.1634\n",
      "Epoch 18/50\n",
      "308/308 [==============================] - 168s 546ms/step - loss: 3.4895 - val_loss: 4.1484\n",
      "Epoch 19/50\n",
      "308/308 [==============================] - 168s 546ms/step - loss: 3.4355 - val_loss: 4.1376\n",
      "Epoch 20/50\n",
      "308/308 [==============================] - 168s 547ms/step - loss: 3.3849 - val_loss: 4.1254\n",
      "Epoch 21/50\n",
      "308/308 [==============================] - 168s 545ms/step - loss: 3.3374 - val_loss: 4.1180\n",
      "Epoch 22/50\n",
      "308/308 [==============================] - 169s 548ms/step - loss: 3.2864 - val_loss: 4.1066\n",
      "Epoch 23/50\n",
      "308/308 [==============================] - 168s 545ms/step - loss: 3.2457 - val_loss: 4.0984\n",
      "Epoch 24/50\n",
      "308/308 [==============================] - 169s 547ms/step - loss: 3.2047 - val_loss: 4.0957\n",
      "Epoch 25/50\n",
      "308/308 [==============================] - 168s 546ms/step - loss: 3.1622 - val_loss: 4.0910\n",
      "Epoch 26/50\n",
      "308/308 [==============================] - 168s 546ms/step - loss: 3.1252 - val_loss: 4.0834\n",
      "Epoch 27/50\n",
      "308/308 [==============================] - 168s 546ms/step - loss: 3.0937 - val_loss: 4.0820\n",
      "Epoch 28/50\n",
      "308/308 [==============================] - 169s 548ms/step - loss: 3.0609 - val_loss: 4.0921\n",
      "Epoch 29/50\n",
      "308/308 [==============================] - 168s 546ms/step - loss: 3.0302 - val_loss: 4.0818\n",
      "Epoch 30/50\n",
      "308/308 [==============================] - 168s 545ms/step - loss: 2.9961 - val_loss: 4.0787\n",
      "Epoch 31/50\n",
      "308/308 [==============================] - 169s 547ms/step - loss: 2.9592 - val_loss: 4.0830\n",
      "Epoch 32/50\n",
      "308/308 [==============================] - 168s 547ms/step - loss: 2.9313 - val_loss: 4.0757\n",
      "Epoch 33/50\n",
      "308/308 [==============================] - 169s 548ms/step - loss: 2.9053 - val_loss: 4.0879\n",
      "Epoch 34/50\n",
      "308/308 [==============================] - 168s 545ms/step - loss: 2.8784 - val_loss: 4.0866\n",
      "Epoch 00034: early stopping\n"
     ]
    }
   ],
   "source": [
    "model.compile(optimizer='rmsprop', loss='sparse_categorical_crossentropy')\n",
    "es = EarlyStopping(monitor='val_loss', patience = 2, verbose=1)\n",
    "history = model.fit(x=[encoder_input_train, decoder_input_train], y=decoder_target_train, \\\n",
    "          validation_data=([encoder_input_test, decoder_input_test], decoder_target_test),\n",
    "          batch_size=256, callbacks=[es], epochs=50)"
   ]
  },
  {
   "cell_type": "markdown",
   "id": "0181b4e1",
   "metadata": {},
   "source": [
    "'조기 종료'를 뜻하는 EarlyStopping은 특정 조건이 충족되면 훈련을 멈추는 역할을 해요.  \n",
    "es = EarlyStopping(monitor='val_loss', patience=2, verbose=1)  \n",
    "위 코드에서는 val_loss(검증 데이터의 손실)을 관찰하다가, 검증 데이터의 손실이 줄어들지 않고 증가하는 현상이 2회(patience=2) 관측되면 학습을 멈추도록 설정돼 있어요.  \n",
    "EarlyStopping이 작동한다면 epochs가 아무리 크게 설정되어 있어도 모델 훈련을 최적점에서 멈출 수 있겠네요."
   ]
  },
  {
   "cell_type": "code",
   "execution_count": 41,
   "id": "f198142a",
   "metadata": {},
   "outputs": [
    {
     "data": {
      "image/png": "[encoded data removed]",
      "text/plain": [
       "<Figure size 432x288 with 1 Axes>"
      ]
     },
     "metadata": {
      "needs_background": "light"
     },
     "output_type": "display_data"
    }
   ],
   "source": [
    "plt.plot(history.history['loss'], label='train')\n",
    "plt.plot(history.history['val_loss'], label='test')\n",
    "plt.legend()\n",
    "plt.show()"
   ]
  },
  {
   "cell_type": "markdown",
   "id": "cbae58b1",
   "metadata": {},
   "source": [
    "## 실제 결과와 요약문 비교하기\n"
   ]
  },
  {
   "cell_type": "markdown",
   "id": "1fe21eaa",
   "metadata": {},
   "source": [
    "### 인퍼런스 모델 구현하기"
   ]
  },
  {
   "cell_type": "code",
   "execution_count": 42,
   "id": "7abef627",
   "metadata": {},
   "outputs": [],
   "source": [
    "src_index_to_word = src_tokenizer.index_word # 원문 단어 집합에서 정수 -> 단어를 얻음\n",
    "tar_word_to_index = tar_tokenizer.word_index # 요약 단어 집합에서 단어 -> 정수를 얻음\n",
    "tar_index_to_word = tar_tokenizer.index_word # 요약 단어 집합에서 정수 -> 단어를 얻음"
   ]
  },
  {
   "cell_type": "code",
   "execution_count": 43,
   "id": "c69dd1d2",
   "metadata": {},
   "outputs": [],
   "source": [
    "# 인코더 설계\n",
    "encoder_model = Model(inputs=encoder_inputs, outputs=[encoder_outputs, state_h, state_c])\n",
    "\n",
    "# 이전 시점의 상태들을 저장하는 텐서\n",
    "decoder_state_input_h = Input(shape=(hidden_size,))\n",
    "decoder_state_input_c = Input(shape=(hidden_size,))\n",
    "\n",
    "dec_emb2 = dec_emb_layer(decoder_inputs)\n",
    "# 문장의 다음 단어를 예측하기 위해서 초기 상태(initial_state)를 이전 시점의 상태로 사용. 이는 뒤의 함수 decode_sequence()에 구현\n",
    "# 훈련 과정에서와 달리 LSTM의 리턴하는 은닉 상태와 셀 상태인 state_h와 state_c를 버리지 않음.\n",
    "decoder_outputs2, state_h2, state_c2 = decoder_lstm(dec_emb2, initial_state=[decoder_state_input_h, decoder_state_input_c])"
   ]
  },
  {
   "cell_type": "code",
   "execution_count": 44,
   "id": "9ca9f920",
   "metadata": {},
   "outputs": [
    {
     "name": "stdout",
     "output_type": "stream",
     "text": [
      "=3\n"
     ]
    }
   ],
   "source": [
    "# 어텐션 함수\n",
    "decoder_hidden_state_input = Input(shape=(text_max_len, hidden_size))\n",
    "attn_out_inf = attn_layer([decoder_outputs2, decoder_hidden_state_input])\n",
    "decoder_inf_concat = Concatenate(axis=-1, name='concat')([decoder_outputs2, attn_out_inf])\n",
    "\n",
    "# 디코더의 출력층\n",
    "decoder_outputs2 = decoder_softmax_layer(decoder_inf_concat) \n",
    "\n",
    "# 최종 디코더 모델\n",
    "decoder_model = Model(\n",
    "    [decoder_inputs] + [decoder_hidden_state_input,decoder_state_input_h, decoder_state_input_c],\n",
    "    [decoder_outputs2] + [state_h2, state_c2])\n",
    "\n",
    "print('=3')"
   ]
  },
  {
   "cell_type": "code",
   "execution_count": 45,
   "id": "7818a97b",
   "metadata": {},
   "outputs": [],
   "source": [
    "# 인퍼런스 단계에서 단어 시퀀스를 완성하는 함수를 만들기\n",
    "\n",
    "def decode_sequence(input_seq):\n",
    "    # 입력으로부터 인코더의 상태를 얻음\n",
    "    e_out, e_h, e_c = encoder_model.predict(input_seq)\n",
    "\n",
    "     # <SOS>에 해당하는 토큰 생성\n",
    "    target_seq = np.zeros((1,1))\n",
    "    target_seq[0, 0] = tar_word_to_index['sostoken']\n",
    "\n",
    "    stop_condition = False\n",
    "    decoded_sentence = ''\n",
    "    while not stop_condition: # stop_condition이 True가 될 때까지 루프 반복\n",
    "\n",
    "        output_tokens, h, c = decoder_model.predict([target_seq] + [e_out, e_h, e_c])\n",
    "        sampled_token_index = np.argmax(output_tokens[0, -1, :])\n",
    "        sampled_token = tar_index_to_word[sampled_token_index]\n",
    "\n",
    "        if(sampled_token!='eostoken'):\n",
    "            decoded_sentence += ' '+sampled_token\n",
    "\n",
    "        #  <eos>에 도달하거나 최대 길이를 넘으면 중단.\n",
    "        if (sampled_token == 'eostoken'  or len(decoded_sentence.split()) >= (headlines_max_len-1)):\n",
    "            stop_condition = True\n",
    "\n",
    "        # 길이가 1인 타겟 시퀀스를 업데이트\n",
    "        target_seq = np.zeros((1,1))\n",
    "        target_seq[0, 0] = sampled_token_index\n",
    "\n",
    "        # 상태를 업데이트 합니다.\n",
    "        e_h, e_c = h, c\n",
    "\n",
    "    return decoded_sentence"
   ]
  },
  {
   "cell_type": "markdown",
   "id": "f6975717",
   "metadata": {},
   "source": [
    "## 모델 테스트"
   ]
  },
  {
   "cell_type": "code",
   "execution_count": 46,
   "id": "f5c98d14",
   "metadata": {},
   "outputs": [],
   "source": [
    "# 원문의 정수 시퀀스를 텍스트 시퀀스로 변환\n",
    "def seq2text(input_seq):\n",
    "    temp=''\n",
    "    for i in input_seq:\n",
    "        if(i!=0):\n",
    "            temp = temp + src_index_to_word[i]+' '\n",
    "    return temp\n",
    "\n",
    "# 요약문의 정수 시퀀스를 텍스트 시퀀스로 변환\n",
    "def seq2headlines(input_seq):\n",
    "    temp=''\n",
    "    for i in input_seq:\n",
    "        if((i!=0 and i!=tar_word_to_index['sostoken']) and i!=tar_word_to_index['eostoken']):\n",
    "            temp = temp + tar_index_to_word[i] + ' '\n",
    "    return temp"
   ]
  },
  {
   "cell_type": "code",
   "execution_count": 47,
   "id": "b18b48d7",
   "metadata": {},
   "outputs": [
    {
     "name": "stdout",
     "output_type": "stream",
     "text": [
      "원문 : chris jordan pulled one handed catch inches away boundary rope dismiss new zealand colin de teams match tuesday colin tried clear long boundary adil rashid jordan leapt plucked catch right hand jordan lost balance upon landing managed stay inside rope \n",
      "실제 요약 : fielder grabs one handed leaping catch inches away from rope \n",
      "예측 요약 :  one handed catch catch near boundary\n",
      "\n",
      "\n",
      "원문 : us cable giant comcast saturday rupert murdoch st century fox powerful backer disney buy one uk biggest broadcasters sky billion companies bidding stake sky fox already owns stake sky recommended shareholders accept comcast bid \n",
      "실제 요약 : fox disney offers to buy sky for bn \n",
      "예측 요약 :  netflix ceo sells for billion in paris\n",
      "\n",
      "\n",
      "원문 : indian american sikh businessman harry singh sidhu elected mayor city california us sidhu moved us along parents previously served member city council first sikh mayor \n",
      "실제 요약 : indian american elected mayor of us city \n",
      "예측 요약 :  indian origin sikh minister trudeau elected by\n",
      "\n",
      "\n",
      "원문 : year old public toilet cleaner thane arrested sunday sexually assaulting year old boy several times police said accused used lure boy take public toilet assault would threaten boy dire consequences ensure victim reveal incident \n",
      "실제 요약 : man arrested for sexually assaulting yr old boy in thane \n",
      "예측 요약 :  mumbai doctor arrested for sexually assaulting yr old girl\n",
      "\n",
      "\n",
      "원문 : praising centre progress installing cctvs courts supreme court tuesday said cameras aimed ensuring security record proceedings cctvs ensure oversight discipline added however sc earlier said nothing private courts adding cctvs installed larger public interest \n",
      "실제 요약 : cctvs in not meant for recording proceedings sc \n",
      "예측 요약 :  sc directs centre to record over illegal construction\n",
      "\n",
      "\n",
      "원문 : tax department probed secret bank accounts linked billion pnb fraud accused jewellers nirav modi mehul choksi located london hong kong uae countries outside india according reports nirav reportedly held traced accounts duo reportedly created bank accounts divert pnb loan amount \n",
      "실제 요약 : probes secret overseas bank accounts of nirav choksi \n",
      "예측 요약 :  nirav modi seeks crore from nirav modi fraud\n",
      "\n",
      "\n",
      "원문 : intelligence agencies issued warnings tihar jail authorities delhi underworld dawood ibrahim plotting kill chhota rajan reportedly information accessed delhi gangster neeraj bawana aide told plan someone phone drunken state jail authorities asked review security arrangements inside prison \n",
      "실제 요약 : dawood ibrahim plotting to kill chhota rajan intel warning \n",
      "예측 요약 :  dawood ibrahim brother brother in law arrested\n",
      "\n",
      "\n",
      "원문 : indian navy first women sailing crew way storm pacific ocean way islands january indian navy released video team six officers showing waters rain crew eight month tour around globe \n",
      "실제 요약 : video women navy officers brave storm in pacific ocean \n",
      "예측 요약 :  navy to reach its first aircraft in years\n",
      "\n",
      "\n",
      "원문 : sharma formerly known bobby darling said husband sharma accused domestic violence unnatural sex recently arrested delhi police added moved application delhi court rejected thankfully stand vindicated also pressed charges dowry harassment husband mother brother \n",
      "실제 요약 : bobby husband jailed for domestic abuse unnatural sex \n",
      "예측 요약 :  varun dhawan arrested for assaulting girlfriend in mumbai\n",
      "\n",
      "\n",
      "원문 : indian cricket team chief selector msk prasad said reason behind kedar jadhav picked india squad remaining three odis windies fitness history jadhav said know reason selected communication exclusion team \n",
      "실제 요약 : not pick jadhav because of his fitness history chief selector \n",
      "예측 요약 :  india has lost more than selector selector\n",
      "\n",
      "\n",
      "원문 : social media giant facebook talks footballer cristiano ronaldo episode reality show facebook watch according report variety report states facebook might pay ronaldo million show announced facebook watch video demand service operated facebook \n",
      "실제 요약 : facebook in talks with ronaldo for episode reality show \n",
      "예측 요약 :  google channel top game of thrones most watched\n",
      "\n",
      "\n",
      "원문 : bcci paid india head coach ravi shastri crore advance fees coaching services period july october board monthly list payments revealed captain virat kohli received crore includes match fees south africa tour portion prize money india received number one test team \n",
      "실제 요약 : bcci reveals salaries shastri gets crore as advance payment \n",
      "예측 요약 :  bcci to pay crore for coach tampering reports\n",
      "\n",
      "\n",
      "원문 : slamming bjp gst rollout congress leader digvijaya singh said gst would succeed would give rise inflation well confusion celebrations took place midnight country got second freedom singh said added countries gst successful single tax slab structure \n",
      "실제 요약 : gst will lead to inflation as well as digvijaya \n",
      "예측 요약 :  gst rate is going to gst says jaitley\n",
      "\n",
      "\n",
      "원문 : television actress nia sharma said uncomfortable kissing female co star web series twisted however nia added thing common nowadays know people making big deal said bahu tv \n",
      "실제 요약 : was uncomfortable kissing my female co star nia sharma \n",
      "예측 요약 :  actress accuses actress of her\n",
      "\n",
      "\n",
      "원문 : online commerce giant flipkart closed billion fundraise friday looking raise another billion coming months reported bloomberg citing sources though flipkart commented development reportedly raised funding valuation around billion flipkart last raised million valuation billion \n",
      "실제 요약 : flipkart raises billion to raise billion more report \n",
      "예측 요약 :  flipkart billion deal to buy flipkart in africa\n",
      "\n",
      "\n",
      "원문 : pictures sets bharat showing salman khan look film emerged online wearing white vest pair white trousers posing various fans sets katrina kaif starring female lead bharat directed ali abbas zafar \n",
      "실제 요약 : leaked pictures from sets of bharat show salman look \n",
      "예측 요약 :  salman khan to perform at salman khan film\n",
      "\n",
      "\n",
      "원문 : bjp mlc nawab uttar pradesh expelled islamic seminary darul uloom visiting hindu temple lucknow seminary head said muslim paying god allah remain muslim welcomed back islam offering apology allah added \n",
      "실제 요약 : bjp mlc expelled from islam for visiting temple \n",
      "예측 요약 :  muslims muslims bjp leader\n",
      "\n",
      "\n",
      "원문 : cryptocurrency bitcoin underlying software code split two tuesday generating new clone called bitcoin cash split led group mostly china based bitcoin miners decided implement new version bitcoin blockchain new currency trading bitcoin trading around \n",
      "실제 요약 : bitcoin splits into two creates bitcoin cash \n",
      "예측 요약 :  bitcoin powered cryptocurrency exchange shuts down\n",
      "\n",
      "\n",
      "원문 : poor academic performance relentless pakistani social media campaigns religious primary reasons behind kashmiri youth taking militancy inspector general police khan said thursday youths years lured militant ranks cannot differentiate good bad added \n",
      "실제 요약 : poor academics making youth join militancy police \n",
      "예측 요약 :  pak officers who received day of national anthem\n",
      "\n",
      "\n",
      "원문 : india new chief economic adviser krishnamurthy subramanian alumnus iit kanpur iim calcutta associate professor indian school business hailing hyderabad holds mba phd university chicago booth school business subramanian member uday kotak led panel corporate governance nayak led committee bank governance \n",
      "실제 요약 : who is subramanian new chief economic adviser \n",
      "예측 요약 :  india chief economist appointed as economic adviser\n",
      "\n",
      "\n",
      "원문 : south korean researchers claimed identify gas frozen mixture water natural gas form oceans team found negatively charged minerals clay rich oceanic deposits promote formation gas soon able commercially produce methane gas natural gas deposits said researchers \n",
      "실제 요약 : scientists uncover how ice forms under the sea \n",
      "예측 요약 :  scientists discover self driving water\n",
      "\n",
      "\n",
      "원문 : thailand kid mai death cafe encourages lay inside coffin minutes avail discounts beverages cafe established idea dr aims teach people benefits death awareness speaking criticism faced locals says complaints mean people aware death \n",
      "실제 요약 : thai cafe gives discounts to customers who can lay in \n",
      "예측 요약 :  man gets free messages on facebook day\n",
      "\n",
      "\n",
      "원문 : actor ranbir kapoor said preparing portray sanjay dutt biopic actor dutt became bit sickness every time would see would start observing like hawk way scratches beard eye drinks water hugs added ranbir \n",
      "실제 요약 : my with dutt became bit of sickness says ranbir \n",
      "예측 요약 :  ranbir ranbir is very very ranbir\n",
      "\n",
      "\n",
      "원문 : many five people killed others injured sunday lightning struck crematorium site last rites man bihar aurangabad district started raining heavily group gathered cremation chairman agriculture cooperative society police said reportedly rain could douse pyre \n",
      "실제 요약 : lightning kills during last rites of man in bihar \n",
      "예측 요약 :  killed injured in blast at jharkhand in jharkhand\n",
      "\n",
      "\n",
      "원문 : avenue supermarts parent company retail chain mart reported rise net profit quarter ended june promoted firm net profit rose crore revenue increased earlier year firm highly successful ipo made part country richest club \n",
      "실제 요약 : parent posts rise in net profit to crore \n",
      "예측 요약 :  profit rises to billion in march quarter\n",
      "\n",
      "\n",
      "원문 : woman engagement photo melbourne australia gone viral internet used cousin hand show engagement ring nails perfect woman suddenly proposed boyfriend done put ring cousin hand engagement photos \n",
      "실제 요약 : cousin hand for engagement pic as nails were not done \n",
      "예측 요약 :  couple gets married in viral picture\n",
      "\n",
      "\n",
      "원문 : hyderabad jamia seminary issued fatwa song manikya poovi film love featuring malayalam actress priya prakash varrier seminary expressed objection references love story prophet mohammad wife asked makers remove song film release \n",
      "실제 요약 : fatwa issued against song featuring malayalam actress priya \n",
      "예측 요약 :  jacqueline ban on her song from instagram\n",
      "\n",
      "\n",
      "원문 : according new definition blindness adopted india person unable count fingers three metres would considered blind earlier six metres used since step line blindness criteria expected decrease number people considered blind crore lakh \n",
      "실제 요약 : india changes its four decade old definition of \n",
      "예측 요약 :  india first ever traffic model was transplant\n",
      "\n",
      "\n",
      "원문 : rape victim reportedly asked pay fine leaders community village karnataka district acceptance society woman years old raped became pregnant incident child sent adoption home \n",
      "실제 요약 : rape victim asked to pay to be accepted by community \n",
      "예측 요약 :  rape victim rapes victim in rajasthan\n",
      "\n",
      "\n",
      "원문 : facebook coo sheryl sandberg recent event said interactions social media equally good people terms psychological well sandberg also said facebook changed news feed favour meaningful connections social media earlier company admitted passive social media posts make people feel worse \n",
      "실제 요약 : not all social media are good for you fb coo \n",
      "예측 요약 :  facebook coo coo sheryl sandberg\n",
      "\n",
      "\n",
      "원문 : harry potter series author jk rowling sent gifts along personalised letter year old kashmiri fan wrote heartwarming note april year note shared girl teacher twitter author replied girl note responded tweeting would love send something \n",
      "실제 요약 : rowling sends gifts to her year old fan in kashmir \n",
      "예측 요약 :  man gives birth to girlfriend\n",
      "\n",
      "\n",
      "원문 : samsung securities ceo sung hoon resigned employee error sparked billion non existent stock company said friday employee mistakenly issued billion shares employees april instead issuing dividends worth billion korean shares quickly sold employees fined \n",
      "실제 요약 : samsung securities ceo quits after billion stock \n",
      "예측 요약 :  samsung files complaint against bn after bn buyout\n",
      "\n",
      "\n",
      "원문 : sri lankan parliament speaker jayasuriya recognised ranil wickremesinghe country lawful pm three days sacking president maithripala sirisena jayasuriya said wickremesinghe request retain security privileges pm fair another candidate could prove majority parliament sirisena appointed ex president mahinda rajapaksa new pm \n",
      "실제 요약 : recognised as sri lanka pm three days after \n",
      "예측 요약 :  sri lanka pm suspends parliament for third time\n",
      "\n",
      "\n",
      "원문 : interpol said must accept resignation president meng hongwei detained china allegedly accepting bribes interpol general stock said international police organisation seeking information details china hongwei detention hongwei reported missing wife since travel native china september \n",
      "실제 요약 : no option but to accept resignation of our chief interpol \n",
      "예측 요약 :  kuwait chief arrested for china border\n",
      "\n",
      "\n",
      "원문 : amid reports questioning grand alliance longevity following corruption charges rjd chief lalu prasad yadav family jd said grand alliance baby kill comes reports said bihar cm nitish kumar good discussion congress chief sonia gandhi \n",
      "실제 요약 : how can we kill our baby jd on grand alliance \n",
      "예측 요약 :  lalu son alliance will save alliance with lalu lalu\n",
      "\n",
      "\n",
      "원문 : farmers friday blocked passage express train passing greater noida demanding increased compensation agricultural land earmarked km eastern peripheral expressway demanded price four times current compensation rate per square metre notably farmers protesting expressway site since past four months \n",
      "실제 요약 : farmers block trains demanding hike in land compensation \n",
      "예측 요약 :  maha metro to train derailment amid protests\n",
      "\n",
      "\n",
      "원문 : apple ceo tim cook revealed steve jobs office apple old campus locked death feel right change office added still drawings daughter also said desk chair jobs used still office \n",
      "실제 요약 : jobs office still has his daughter made on board cook \n",
      "예측 요약 :  cook had never cook on cook\n",
      "\n",
      "\n",
      "원문 : soha ali khan took instagram share picture nephew taimur ali khan baby shower soha pet dog masti also seen picture finally favourite picture day wrote alongside photo soha baby shower attended kareena kapoor karisma kapoor neha dhupia among others \n",
      "실제 요약 : soha shares pic with nephew taimur from her baby shower \n",
      "예측 요약 :  soha ali khan shares picture with saif ali khan\n",
      "\n",
      "\n",
      "원문 : indian army monday joined rescue operations search miners trapped inside rat hole mine meghalaya officials said soldiers already started setting camps near tragedy site officials added soldiers providing logistics administrative support navy divers reports said \n",
      "실제 요약 : army joins rescue operations to find missing meghalaya miners \n",
      "예측 요약 :  army officer trapped in meghalaya rescue operation\n",
      "\n",
      "\n",
      "원문 : us ambassador un nikki haley said iran cannot allowed use nuclear deal hold world hostage nuclear deal must become big fail added comes iran warned could abandon nuclear deal world powers within hours us imposes new sanctions \n",
      "실제 요약 : iran cannot hold world hostage with nuclear deal us envoy \n",
      "예측 요약 :  iran rejects us sanctions on nuclear deal\n",
      "\n",
      "\n",
      "원문 : bjp wednesday called two day protests kerala two women age entered sabarimala temple kerala bjp president ps sreedharan pillai called entry conspiracy rulers destroy hindu temples however asked devotees get carried away register protest democratic means \n",
      "실제 요약 : bjp calls for protests after women below enter sabarimala \n",
      "예측 요약 :  bjp leader who bharat sabarimala bjp leader\n",
      "\n",
      "\n",
      "원문 : google co founder larry page backed startup kitty hawk unveiled latest electric flying car called flyer seat one person central pod vehicle features propellers fly feet ground speeds kmph flying car battery life said minutes \n",
      "실제 요약 : google co founder backed firm shows single seat flying car \n",
      "예측 요약 :  startup makes flying taxi startup flying car\n",
      "\n",
      "\n",
      "원문 : samajwadi party supremo akhilesh yadav contest lok sabha polls kannauj presently represented wife dimple father mulayam singh yadav contest akhilesh said opposition charged sp nepotism due wife dimple yadav contest election time \n",
      "실제 요약 : akhilesh mulayam to fight polls from \n",
      "예측 요약 :  akhilesh yadav akhilesh yadav akhilesh yadav to contest akhilesh\n",
      "\n",
      "\n",
      "원문 : thane police arrested egg distributor allegedly robbing truck transporting lakh eggs worth lakh accused intercepted truck three friends beat driver son fled truck accused said planned robbery pay money borrowed suffering business losses \n",
      "실제 요약 : in thane robs truck carrying lakh eggs due to debt \n",
      "예측 요약 :  two arrested for stealing worth lakh worth lakh\n",
      "\n",
      "\n",
      "원문 : pm narendra modi led nda government completed three years regime friday bjp leader retweeted tweet general elections victory post tweet india retweeted times notably modi posted tweets personal micro blogging account far \n",
      "실제 요약 : which is pm modi most tweet in yrs of regime \n",
      "예측 요약 :  pm modi posts picture of tharoor in tripura\n",
      "\n",
      "\n",
      "원문 : denying year old woman permission abort week old foetus supreme court monday said abortion amounts murder woman appealed bombay high court order denied permission abort unborn child cited marital discord desire initiate divorce proceedings pursue career reasons abortion \n",
      "실제 요약 : abortion to murder sc rejects year old plea \n",
      "예측 요약 :  woman woman denied entry to abort court\n",
      "\n",
      "\n",
      "원문 : finance ministers kerala puducherry andhra pradesh agriculture minister karnataka tuesday came together slam centre alleged bias regarding fund allocation states opposed th finance commission recommendations claiming allocation central funds favour states large populations like uttar pradesh bihar \n",
      "실제 요약 : southern states accuse centre of bias in fund \n",
      "예측 요약 :  andhra cm announces reservation for andhra cm\n",
      "\n",
      "\n",
      "원문 : sahib ali year old miner said felt cold wind followed water workers trapped water river flooded meghalaya mine ali held electric cable survive added think alive one knows might allah miracle possible \n",
      "실제 요약 : felt cold wind of water worker on meghalaya mine flooding \n",
      "예측 요약 :  water crisis of trapped in water region\n",
      "\n",
      "\n",
      "원문 : boulder sized asteroid designated la spotted hours impact saturday nasa funded sky survey arizona asteroid entered earth atmosphere speed kilometres per second burned several miles south africa creating bright fireball sky asteroid estimated metres across \n",
      "실제 요약 : asteroid spotted hours before impact burns up over africa \n",
      "예측 요약 :  nasa probe into asteroid that killed km in earth\n",
      "\n",
      "\n",
      "원문 : us scientists determined satellite dna previously considered junk plays crucial role holding genome together although contain instructions making proteins satellite dna ensures bundle correctly inside cells nucleus would give us advantage evolution probably would gotten rid said researchers \n",
      "실제 요약 : scientists discover role for junk dna \n",
      "예측 요약 :  scientists find dna of dna\n",
      "\n",
      "\n"
     ]
    }
   ],
   "source": [
    "for i in range(0, 50):\n",
    "    print(\"원문 :\", seq2text(encoder_input_test[i]))\n",
    "    print(\"실제 요약 :\", seq2headlines(decoder_input_test[i]))\n",
    "    print(\"예측 요약 :\", decode_sequence(encoder_input_test[i].reshape(1, text_max_len)))\n",
    "    print(\"\\n\")"
   ]
  },
  {
   "cell_type": "markdown",
   "id": "25e46680",
   "metadata": {},
   "source": [
    "## Summa을 이용해서 추출적 요약해보기"
   ]
  },
  {
   "cell_type": "code",
   "execution_count": 3,
   "id": "99a96872",
   "metadata": {},
   "outputs": [
    {
     "name": "stdout",
     "output_type": "stream",
     "text": [
      "The screen is filled with green, cascading code which gives way to the title, The Matrix.\r\n",
      "\r\n",
      "A phone rings and text appears on the screen: \"Call trans opt: received. 2-19-98 13:24:18 REC: Log>\" As a conversation takes place between Trinity (Carrie-Anne Moss) and Cypher (Joe Pantoliano), two free humans, a table of random green numbers are being scanned and individual numbers selected, creating a series of digits not unlike an ordinary phone number, as if a code is being deciphered or a call is being traced.\r\n",
      "\r\n",
      "Trinity discusses some unknown person. Cypher taunts Trinity, suggesting she enjoys watching him. Trinity counters that \"Morpheus (Laurence Fishburne) says he may be 'the One',\" just as the sound of a number being selected alerts Trinity that someone may be tracing their call. She ends the call.\r\n",
      "\r\n",
      "Armed policemen move down a darkened, decrepit hallway in the Heart O' the City Hotel, their flashlight beam bouncing just ahead of them. They come to room 303, kick down the door and find a woman dressed in black, facing away from them. It's Trinity. She brings her hands up from the laptop she's working on at their command.\r\n",
      "\r\n",
      "Outside the hotel a car drives up and three agents appear in neatly pressed black suits. They are Agent Smith (Hugo Weaving), Agent Brown (Paul Goddard), and Agent Jones (Robert Taylor). Agent Smith and the presiding police lieutenant argue. Agent Smith admonishes the policeman that they were given specific orders to contact the agents first, for their\n"
     ]
    }
   ],
   "source": [
    "import requests\n",
    "from summa.summarizer import summarize\n",
    "\n",
    "text = requests.get('http://rare-technologies.com/the_matrix_synopsis.txt').text\n",
    "\n",
    "print(text[:1500])"
   ]
  },
  {
   "cell_type": "markdown",
   "id": "7c707a67",
   "metadata": {},
   "source": [
    "Summa의 summarize()의 인자로 사용되는 값들  \n",
    "* text (str) : 요약할 테스트  \n",
    "* ratio (float, optional) – 요약문에서 원본에서 선택되는 문장 비율. 0~1 사이값  \n",
    "* words (int or None, optional) – 출력에 포함할 단어 수  \n",
    "* 만약, ratio와 함께 두 파라미터가 모두 제공되는 경우 ratio는 무시한다.  \n",
    "* split (bool, optional) – True면 문장 list / False는 조인(join)된 문자열을 반환  "
   ]
  },
  {
   "cell_type": "code",
   "execution_count": 4,
   "id": "8134eb86",
   "metadata": {},
   "outputs": [
    {
     "name": "stdout",
     "output_type": "stream",
     "text": [
      "원문 : Saurav Kant, an alumnus of upGrad and IIIT-B's PG Program in Machine learning and Artificial Intelligence, was a Sr Systems Engineer at Infosys with almost 5 years of work experience. The program and upGrad's 360-degree career support helped him transition to a Data Scientist at Tech Mahindra with 90% salary hike. upGrad's Online Power Learning has powered 3 lakh+ careers.\n",
      "실제 요약 : upGrad learner switches to career in ML & Al with 90% salary hike\n",
      "예측 요약 : \n",
      "\n",
      "\n",
      "원문 : Kunal Shah's credit card bill payment platform, CRED, gave users a chance to win free food from Swiggy for one year. Pranav Kaushik, a Delhi techie, bagged this reward after spending 2000 CRED coins. Users get one CRED coin per rupee of bill paid, which can be used to avail rewards from brands like Ixigo, BookMyShow, UberEats, Cult.Fit and more.\n",
      "실제 요약 : Delhi techie wins free food from Swiggy for one year on CRED\n",
      "예측 요약 : \n",
      "\n",
      "\n",
      "원문 : New Zealand defeated India by 8 wickets in the fourth ODI at Hamilton on Thursday to win their first match of the five-match ODI series. India lost an international match under Rohit Sharma's captaincy after 12 consecutive victories dating back to March 2018. The match witnessed India getting all out for 92, their seventh lowest total in ODI cricket history.\n",
      "실제 요약 : New Zealand end Rohit Sharma-led India's 12-match winning streak\n",
      "예측 요약 : \n",
      "\n",
      "\n",
      "원문 : With Aegon Life iTerm Insurance plan, customers can enjoy tax benefits on your premiums paid and save up to Ã¢ÂÂ¹46,800^ on taxes. The plan provides life cover up to the age of 100 years. Also, customers have options to insure against Critical Illnesses, Disability and Accidental Death Benefit Rider with a life cover up to the age of 80 years.\n",
      "실제 요약 : Aegon life iTerm insurance plan helps customers save tax\n",
      "예측 요약 : \n",
      "\n",
      "\n",
      "원문 : Speaking about the sexual harassment allegations against Rajkumar Hirani, Sonam Kapoor said, \"I've known Hirani for many years...What if it's not true, the [#MeToo] movement will get derailed.\" \"In the #MeToo movement, I always believe a woman. But in this case, we need to reserve our judgment,\" she added. Hirani has been accused by an assistant who worked in 'Sanju'.\n",
      "실제 요약 : Have known Hirani for yrs, what if MeToo claims are not true: Sonam\n",
      "예측 요약 : \n",
      "\n",
      "\n",
      "원문 : Pakistani singer Rahat Fateh Ali Khan has denied receiving any notice from the Enforcement Directorate over allegedly smuggling foreign currency out of India. \"It would have been better if the authorities would have served the notice first if any and then publicised this,\" reads a press release issued on behalf of Rahat. The statement further called the allegation \"bizarre\".\n",
      "실제 요약 : Rahat Fateh Ali Khan denies getting notice for smuggling currency\n",
      "예측 요약 : \n",
      "\n",
      "\n",
      "원문 : India recorded their lowest ODI total in New Zealand after getting all out for 92 runs in 30.5 overs in the fourth ODI at Hamilton on Thursday. Seven of India's batsmen were dismissed for single-digit scores, while their number ten batsman Yuzvendra Chahal top-scored with 18*(37). India's previous lowest ODI total in New Zealand was 108.\n",
      "실제 요약 : India get all out for 92, their lowest ODI total in New Zealand\n",
      "예측 요약 : \n",
      "\n",
      "\n",
      "원문 : Weeks after ex-CBI Director Alok Verma told the Department of Personnel and Training to consider him retired, the Home Ministry asked him to join work on the last day of his fixed tenure as Director on Thursday. The ministry directed him to immediately join as DG, Fire Services, the post he was transferred to after his removal as CBI chief.\n",
      "실제 요약 : Govt directs Alok Verma to join work 1 day before his retirement\n",
      "예측 요약 : \n",
      "\n",
      "\n",
      "원문 : Andhra Pradesh CM N Chandrababu Naidu has said, \"When I met then US President Bill Clinton, I addressed him as Mr Clinton, not as 'sir'. (PM Narendra) Modi is my junior in politics...I addressed him as sir 10 times.\" \"I did this...to satisfy his ego in the hope that he will do justice to the state,\" he added.\n",
      "실제 요약 : Called PM Modi 'sir' 10 times to satisfy his ego: Andhra CM\n",
      "예측 요약 : \n",
      "\n",
      "\n",
      "원문 : Congress candidate Shafia Zubair won the Ramgarh Assembly seat in Rajasthan, by defeating BJP's Sukhwant Singh with a margin of 12,228 votes in the bypoll. With this victory, Congress has taken its total to 100 seats in the 200-member assembly. The election to the Ramgarh seat was delayed due to the death of sitting MLA and BSP candidate Laxman Singh.\n",
      "실제 요약 : Cong wins Ramgarh bypoll in Rajasthan, takes total to 100 seats\n",
      "예측 요약 : \n",
      "\n",
      "\n",
      "원문 : Two minor cousins in Uttar Pradesh's Gorakhpur were allegedly repeatedly burnt with tongs and forced to eat human excreta by their family for being friends with two boys from the same school. The cousins revealed their ordeal to the police and Child Welfare Committee after being brought back to Gorakhpur from Nepal, where they had fled to escape the torture.\n",
      "실제 요약 : UP cousins fed human excreta for friendship with boys\n",
      "예측 요약 : \n",
      "\n",
      "\n",
      "원문 : Isha Ghosh, an 81-year-old member of Bharat Scouts and Guides (BSG), has been imparting physical and mental training to schoolchildren in Jharkhand for several decades. Chaibasa-based Ghosh reportedly walks seven kilometres daily and spends eight hours conducting physical training, apart from climbing and yoga sessions. She says, \"One should do something for society till one's last breath.\"\n",
      "실제 요약 : 81-yr-old woman conducts physical training in J'khand schools\n",
      "예측 요약 : \n",
      "\n",
      "\n",
      "원문 : Urging saints and seers at the Kumbh Mela to quit smoking, Yoga guru Ramdev said, \"We follow Ram and Krishna who never smoked in their life then why should we?\" Making them take a pledge to quit tobacco, he collected chillum (clay pipe) from several sadhus. He said he will deposit the chillums for display at a museum he'll build.\n",
      "실제 요약 : Ram, Krishna didn't smoke, why should we: Ramdev to sadhus at Kumbh\n",
      "예측 요약 : \n",
      "\n",
      "\n",
      "원문 : Former stripper and regional sales director of a pharmaceutical company, Sunrise Lee, gave a doctor a lap dance in a nightclub to persuade him to prescribe an addictive fentanyl spray in 2012, the company's sales representative told a US court. She said she saw Lee \"sitting on [doctor's] lap, kind of bouncing around.\" Lee has been accused of bribing doctors.\n",
      "실제 요약 : Pharma exec gave doctor a lap dance to sell medicine in US: Witness\n",
      "예측 요약 : \n",
      "\n",
      "\n",
      "원문 : Reliance Industries' Chairman Mukesh Ambani's daughter Isha Ambani, who got married last month, said she only cried at her 'bidaai' because she felt peer pressure as everyone was crying, especially her parents. \"I was emotional too but everyone around me would cry all the time,\" she added. \"It was a very emotional affair for everyone in my family,\" said Isha.\n",
      "실제 요약 :  I only cried at my 'bidaai' as I felt peer pressure: Isha Ambani\n",
      "예측 요약 : \n",
      "\n",
      "\n",
      "원문 : Louis Vuitton owner LVMH, which makes high-end beverages like MoÃÂ«t & Chandon champagne and Hennessy cognac, said it's stockpiling four months' worth of wine and spirits in UK in preparation for Brexit. \"We're ready for worst case scenario if there are difficulties with deliveries,\" the French luxury giant said. The UK is scheduled to leave the EU on March 29.\n",
      "실제 요약 : Louis Vuitton owner to stockpile 4 months of wine, spirits in UK\n",
      "예측 요약 : \n",
      "\n",
      "\n",
      "원문 : Filmmaker Karan Johar and actress Tabu turned showstoppers for Gaurav Gupta on the opening night of LakmÃÂ© Fashion Week Summer/ Resort 2019. While Johar wore a red sequinned jacket with black pants, Tabu walked the ramp in a grey embellished gown. The fashion show, which began on January 29, will continue till February 3.\n",
      "실제 요약 : Karan Johar, Tabu turn showstoppers on opening night of LFW\n",
      "예측 요약 : \n",
      "\n",
      "\n",
      "원문 : In a jibe at Congress President Rahul Gandhi, PM Narendra Modi on Wednesday said those on \"bail will have to go to jail.\" PM Modi added, \"He is out on bail and his associates too are facing charges...I know they will be convicted one day.\" The PM claimed he'd waged a war on corruption because he's from a common household. \n",
      "실제 요약 : Those on bail will go to jail: PM Modi takes jibe at Rahul\n",
      "예측 요약 : \n",
      "\n",
      "\n",
      "원문 : Days after he threatened to step down from his post if Congress MLAs continue \"crossing the line,\" Karnataka Chief Minister HD Kumaraswamy accused them of taking potshots and asked, \"How many more days can I tolerate such stuff?\" Kumaraswamy, who made the statements after a Congress MLA demanded that Siddaramaiah be made CM again, said, \"Power is ephemeral.\"\n",
      "실제 요약 : How long can I tolerate Congress leaders' potshots: K'taka CM\n",
      "예측 요약 : \n",
      "\n",
      "\n",
      "원문 : Union Minister Dharmendra Pradhan on Wednesday claimed the illegal mining mafia in Odisha operates under the control of CM Naveen Patnaik and state Congress chief Niranjan Patnaik. He added, \"The time has come for the people of Odisha to put a full stop to their activities...The time has come for us to ask for an explanation from this corrupt government.\"\n",
      "실제 요약 : Odisha CM Patnaik controls mining mafia: Union Minister\n",
      "예측 요약 : \n",
      "\n",
      "\n",
      "원문 : Claiming there is a dearth of ideas among opposition parties, Prime Minister Narendra Modi on Wednesday said, \"The opposition talks only about Modi the whole day, I suspect they even dream about me.\" PM Modi, who was addressing the New India Youth Conclave inÃ¢ÂÂ Surat, added that the opposition parties have only one agenda which is \"Modi\". \n",
      "실제 요약 : I think the opposition even dreams about me: PM Modi\n",
      "예측 요약 : \n",
      "\n",
      "\n",
      "원문 : The Indian Space Research Organisation on Wednesday unveiled Human Space Flight Centre in Bengaluru for its Ã¢ÂÂ¹10,000-crore manned space mission 'Gaganyaan' scheduled for 2021. ISRO said the centre will be responsible for development of engineering systems for crew survival in space and crew selection and training. It'll also pursue activities for sustained human space flight missions, ISRO added.\n",
      "실제 요약 : ISRO unveils Bengaluru centre for manned space mission \n",
      "예측 요약 : \n",
      "\n",
      "\n",
      "원문 : At least 12 people have been killed and 170 others have been injured in Saudi Arabia this week due to flooding from heavy rain. The emergency services rescued 271 people from the flooded areas, more than half of them in Tabuk. Heavy rains hit mainly western and northwestern parts of Saudi Arabia, near its border with Jordan.\n",
      "실제 요약 : 12 killed, 170 injured in Saudi Arabia floods\n",
      "예측 요약 : \n",
      "\n",
      "\n",
      "원문 : Reliance Industries' Chairman Mukesh Ambani's daughter Isha Ambani has featured on the cover of the February edition of Vogue India. She's dressed in a white shirt dress and black ruffled skirt by Australian designer Toni Maticevski, while accessorising her look with a Misho ring. In the cover story on her, Isha has spoken about her work and life after marriage.\n",
      " \n",
      "실제 요약 : Isha Ambani features on February cover of Vogue magazine\n",
      "예측 요약 : \n",
      "\n",
      "\n",
      "원문 : Indian Oil Corporation on Wednesday said it's looking for an annual deal to buy US crude as it seeks to broaden oil purchasing options. This comes amid uncertainties over Iran imports. The US had in November granted a six-month waiver to India from sanctions against Iran and restricted the country's monthly intake of Iranian oil to 3,00,000 barrels per day.\n",
      "\n",
      "\n",
      "실제 요약 : Indian Oil looking for annual deal to buy crude from US\n",
      "예측 요약 : \n",
      "\n",
      "\n",
      "원문 : Former Windies fast bowler Curtly Ambrose dismissed seven Australian batsmen within a span of 32 balls giving away just one run, in a Test match on January 30, 1993. Ambrose's spell helped his team bowl out Australia for 119 in the first innings, after being 85 for 2 at one point. Ambrose ended with first-innings figures of 18-9-25-7.\n",
      "실제 요약 : Pacer once took 7 wickets for just 1 run in 32 balls in a Test\n",
      "예측 요약 : \n",
      "\n",
      "\n",
      "원문 : A London zoo is offering people to name a cockroach after their exes on Valentine's Day for ÃÂ£1.50 (nearly Ã¢ÂÂ¹140). \"For those that don't quite require revenge, there's another way to make you feel better about getting back at your ex,\" the zoo said in a statement. The names will appear on zoo's 'roach board' on February 14. \n",
      "실제 요약 : UK zoo offers people to name cockroach after their ex on Valentine's\n",
      "예측 요약 : \n",
      "\n",
      "\n",
      "원문 : Stand-in captain Rohit Sharma has become the 14th Indian cricketer to play 200 ODIs, achieving the feat after taking the field against New Zealand in fourth ODI at Hamilton on Thursday. The 31-year-old had made his ODI debut on June 23, 2007, against Ireland in Belfast. Rohit scored 7,799 runs in his first 199 ODIs at an average of 48.14.\n",
      "실제 요약 : Rohit Sharma becomes 14th Indian cricketer to play 200 ODIs\n",
      "예측 요약 : \n",
      "\n",
      "\n",
      "원문 : Batsman Shubman Gill has become the 227th cricketer to represent India in ODI cricket, achieving the feat against New Zealand in the fourth ODI at Hamilton on Thursday. The 19-year-old received his maiden ODI cap from former captain MS Dhoni. Notably, Shubman was named Player of the Under-19 World Cup in New Zealand last year.\n",
      "실제 요약 : 19-year-old Shubman Gill becomes India's 227th ODI cricketer\n",
      "예측 요약 : \n",
      "\n",
      "\n",
      "원문 : Investigators searching for a lost plane carrying Argentine forward Emiliano Sala found two seat cushions on French coast that \"likely\" belonged to the aircraft. The investigators said they'll now launch an underwater seabed search for aircraft wreckage. The Cardiff City footballer was travelling from France's Nantes to Wales' Cardiff when his plane disappeared over English Channel on January 21.\n",
      "실제 요약 : 2 seat cushions from 'missing plane carrying footballer' found\n",
      "예측 요약 : \n",
      "\n",
      "\n",
      "원문 : Italian third division football side Lucchese's head coach Giancarlo Favarin has been banned for five months for headbutting Alessandria's assistant coach Gaetano Mancino during a brawl following the teams' 2-2 draw on Sunday. Mancino was caught off-balance and knocked to the ground after the headbutt. Earlier in the match, Favarin had told his own player to break an opponent's legs.\n",
      "실제 요약 : Italian coach knocks rival down with headbutt, banned for 5 months\n",
      "예측 요약 : \n",
      "\n",
      "\n",
      "원문 : Cyclists taking part in National Track Cycling Championship in Jaipur opted to sleep on the floor inside the stadium instead of hotels over expensive cycles. The organisers had booked hotels but they didn't have the provision for cyclists to keep their bikes inside. A national gold medallist said their cycles cost between Ã¢ÂÂ¹5-9 lakh and once damaged, they become non-repairable. \n",
      "실제 요약 : Cyclists sleep on stadium floor instead of hotel over costly cycles\n",
      "예측 요약 : \n",
      "\n",
      "\n",
      "원문 : Silvia Grecco, a 56-year-old Brazilian mother narrates her local football team Palmeiras' matches live to her 12-year-old blind and autistic son Nickollas from the stands. \"I describe details: this player is wearing short sleeves...colour of...football boots, hair colour...Everything I see and feel, I tell him, even when I need to curse the referee!\" Grecco said after a recent match.\n",
      "실제 요약 : Brazilian mother narrates football matches to blind son from stands\n",
      "예측 요약 : \n",
      "\n",
      "\n",
      "원문 : A TechCrunch report has claimed that IndiaÃ¢ÂÂs largest bank SBI secured a passwordless server \"overnight\" on being alerted it allowed anyone to access phone numbers, bank balances, and transactions of millions of its customers. The Mumbai-based server was containing two months of data from SBI Quick, an SMS and call-based system used to request basic information about accounts, TechCrunch revealed.\n",
      "실제 요약 : SBI left account data of millions of users unprotected: Report\n",
      "예측 요약 : \n",
      "\n",
      "\n",
      "원문 : Rahul Gandhi has replied to Goa CM Manohar Parrikar's letter, which accused the Congress President of using his \"visit to an ailing man for political gains\". \"He's under immense pressure from the PM after our meeting and needs to demonstrate his loyalty by attacking me,\" Gandhi wrote in his letter. Parrikar had clarified he didn't discuss Rafale deal with Rahul.\n",
      "실제 요약 : CM Parrikar under pressure from PM after our Goa meet: Rahul\n",
      "예측 요약 : \n",
      "\n",
      "\n",
      "원문 : Twenty-seven-year-old Mohammed Mahuwala was arrested in Indore on Wednesday for allegedly cheating e-commerce giant Amazon of nearly Ã¢ÂÂ¹30 lakh. Mahuwala was a member of a gang who ordered costly gadgets from Amazon. \"[They] used to get refund of the amount paid...by saying the parcel...was empty. In reality, these devices were taken out from parcel and sold...to local shopkeepers,\" said police.\n",
      "실제 요약 : Man arrested for cheating Amazon of Ã¢ÂÂ¹30 lakh by taking refunds\n",
      "예측 요약 : \n",
      "\n",
      "\n",
      "원문 : AgustaWestland chopper scam co-accused Rajiv Saxena was extradited to India from UAE on Wednesday. He had been evading the Enforcement Directorate's summons claiming he was suffering from leukaemia but had moved an anti-money laundering court for anticipatory bail in December, stating he had never been summoned at his Dubai address. Saxena's lawyers alleged he had been \"illegally extradited\". \n",
      "실제 요약 : AgustaWestland scam accused Rajiv Saxena extradited to India\n",
      "예측 요약 : \n",
      "\n",
      "\n",
      "원문 : Afghan President Ashraf Ghani has said the \"keys to war\" are in Pakistan's Islamabad, Quetta and Rawalpindi, accusing the country of providing safe havens to militants, including those belonging to the Taliban. Ghani added the \"key to peace was in Afghanistan\". His comments came amid the talks between the US and the Taliban to end the 17-year war in Afghanistan.\n",
      "실제 요약 : Pakistan holds 'keys to war': Afghanistan\n",
      "예측 요약 : \n",
      "\n",
      "\n",
      "원문 : A Singapore-based insurance agent has been jailed for two years and five months for threatening to harm his clients unless they paid him in bitcoins. The 36-year-old set up an email account, and signed the messages as 'Lord Voldemort', a fictional character from the Harry Potter series. Ye Lin Myint targeted about 33 people, including those who cancelled insurance policies.\n",
      "실제 요약 : Insurance agent 'Lord Voldemort' jailed for threatening clients\n",
      "예측 요약 : \n",
      "\n",
      "\n",
      "원문 : Gabrielle Reilly, a 22-year-old US woman, created earrings for her Apple AirPods and put it up for sale online for $20 (about Ã¢ÂÂ¹1,500). \"I absolutely refuse to lose them (AirPods)...So I made earrings,\" she explained. The earrings, which took her over an hour to make, debuted in a video on Twitter that has since garnered over three million views.\n",
      "실제 요약 : Woman turns Apple AirPods into earrings to avoid losing them\n",
      "예측 요약 : \n",
      "\n",
      "\n",
      "원문 : Ex-ICICI Bank CEO Chanda Kochhar said she's \"utterly disappointed, hurt and shocked\" by the bank's decision to terminate her. Kochhar said she served ICICI for 34 years with utmost honesty and integrity and that ultimately truth will prevail. Adding that she hasn't been given a copy of the independent probe report, Kochhar said none of ICICI's credit decisions are unilateral\n",
      "실제 요약 : Shocked, hurt by ICICI's decision, truth will prevail: Kochhar\n",
      "예측 요약 : \n",
      "\n",
      "\n",
      "원문 : Swedish multinational fast-fashion brand Hennes & Mauritz AB (H&M) has hired Christopher Wylie, the whistleblower who exposed Facebook's Cambridge Analytica data scandal. WylieÃ¢ÂÂs focus will be to help get better insights on customers, products and markets and support work on sustainable and ethical artificial intelligence, H&M spokesperson said. Wylie is a former employee of Cambridge Analytica.\n",
      "실제 요약 : Fashion brand H&M hires Facebook data scandal whistleblower\n",
      "예측 요약 : \n",
      "\n",
      "\n",
      "원문 : Micro-blogging platform Twitter is testing a new feature on Android to put news on the top of a user's timeline. \"With this update, weÃ¢ÂÂre making it easier for people to see news and stories their followers have been discussing,\" Product Manager Walter Gurzynski said. The feature comes alongside a prompt saying, \"Catch up on what's happened while you were away.\"\n",
      "실제 요약 : Twitter testing news-first timeline feature on Android\n",
      "예측 요약 : \n",
      "\n",
      "\n",
      "원문 : Samsung has started mass producing its one terabyte 'embedded Universal Flash Storage (eUFS) 2.1' technology for \"use in next-generation mobile applications\", which it claims is the industry's first such eUFS. The company added the new eUFS will let smartphones store 260 10-minute videos shot in 4K UHD format. It'll be sized the same as the previous 512GB version, Samsung said.\n",
      "실제 요약 : Samsung builds world's first 1TB storage chip for smartphones \n",
      "예측 요약 : \n",
      "\n",
      "\n",
      "원문 : Prime Minister Narendra Modi on Wednesday said the people with 'negative mindset' are questioning him and his government for floating pro-poor schemes. He added negative mindset people are raising doubts about schemes such as building toilets and providing free gas connections to the poor. He further said that negative mentality laced with a vested interest still exists in the country.\n",
      "실제 요약 : People with 'negative mindset' quizzing pro-poor schemes: PM\n",
      "예측 요약 : \n",
      "\n",
      "\n",
      "원문 : Union Minister Anantkumar Hegde took a dig at Congress President Rahul Gandhi by calling him a \"hybrid specimen\" who has no clue about religion. \"A father who's...Muslim, a mother who's...Christian and the son is supposed to be...Brahmin. How is that even possible?\" he said. He added such \"hybrid specimen\" cannot be found in any laboratory in the world.\n",
      "실제 요약 : Rahul is hybrid specimen, has no clue about religion: Hegde\n",
      "예측 요약 : \n",
      "\n",
      "\n",
      "원문 : Several parts of the US are set to experience record low temperatures as the polar vortex hit the Upper Midwest, with more than 200 million people expected to experience below-freezing temperatures this week. Temperatures throughout the Upper Midwest are expected to be at least 20-40Ã¢ÂÂ below zero. Government offices and schools have been closed in several areas.\n",
      "실제 요약 : Extreme cold to affect 200 million people as polar vortex hits US\n",
      "예측 요약 : \n",
      "\n",
      "\n",
      "원문 : The police on Wednesday registered cases against 13 persons, including a woman leader of Hindu Mahasabha, in Aligarh for firing at an effigy of Mahatma Gandhi with an air pistol. \"The incident took place in a house in Naurangabad locality of the city,\" Senior Superintendent of Police said. The video of the event went viral on social media, he added.\n",
      "실제 요약 : 13 booked for firing air shots at Mahatma Gandhi's effigy\n",
      "예측 요약 : \n",
      "\n",
      "\n",
      "원문 : Railway police has rescued a woman travelling on a train in Chennai who got her leg stuck inside the commode of a toilet. After being caught inside the commode hole, she struggled to remove her leg and following failed attempts, she shouted for help, reports said. Railway police used a cutter to pry open the commode and freed her leg.\n",
      "실제 요약 : Railway police rescues woman with leg stuck in train toilet\n",
      "예측 요약 : \n",
      "\n",
      "\n",
      "원문 : The US on Tuesday began returning asylum seekers to Mexico, sending back a migrant from a Central American nation and called the move a \"response to the illegal migration crisis\" faced by it. Under its Migrant Protection Protocols policy, the US will return certain migrants who cross into the country illegally back to Mexico while their asylum requests are processed.\n",
      "실제 요약 : US begins sending back asylum seekers to Mexico\n",
      "예측 요약 : \n",
      "\n",
      "\n"
     ]
    }
   ],
   "source": [
    "for i in range(0, 50):\n",
    "    print(\"원문 :\", original['text'][i])\n",
    "    print(\"실제 요약 :\", original['headlines'][i])\n",
    "    print(\"예측 요약 :\", summarize(original['text'][i], ratio=0.05))\n",
    "    \n",
    "    print(\"\\n\")"
   ]
  },
  {
   "cell_type": "markdown",
   "id": "6775b291",
   "metadata": {},
   "source": [
    "# 회고"
   ]
  },
  {
   "cell_type": "markdown",
   "id": "1cec9663",
   "metadata": {},
   "source": [
    "지난번 영화리뷰 감성 분석보다 더 복잡해졌다.  \n",
    "실제 요약과 예측 요약을 비교해 보면 잘 예측을 못 했다.  \n",
    "실제로도 이 모델로 예측이 가능한지 의문을 가지게 된다.  \n",
    "summa를 이용해 추출적 요약을 해야 하는데 예측 요약 결과가 왜 없는지 모르겠다.  \n",
    "이해하기 어려운 Ex였다.  "
   ]
  }
 ],
 "metadata": {
  "kernelspec": {
   "display_name": "Python 3 (ipykernel)",
   "language": "python",
   "name": "python3"
  },
  "language_info": {
   "codemirror_mode": {
    "name": "ipython",
    "version": 3
   },
   "file_extension": ".py",
   "mimetype": "text/x-python",
   "name": "python",
   "nbconvert_exporter": "python",
   "pygments_lexer": "ipython3",
   "version": "3.9.7"
  }
 },
 "nbformat": 4,
 "nbformat_minor": 5
}
