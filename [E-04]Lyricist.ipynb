{
 "cells": [
  {
   "cell_type": "markdown",
   "id": "ab986311",
   "metadata": {},
   "source": [
    "# [E-04]Lyricist"
   ]
  },
  {
   "cell_type": "markdown",
   "id": "bb3b29b5",
   "metadata": {},
   "source": [
    "### 데이터 읽어오기"
   ]
  },
  {
   "cell_type": "code",
   "execution_count": 1,
   "id": "ac60a98d",
   "metadata": {},
   "outputs": [
    {
     "name": "stdout",
     "output_type": "stream",
     "text": [
      "데이터 크기: 187088\n",
      "Examples:\n",
      " [\"Now I've heard there was a secret chord\", 'That David played, and it pleased the Lord', \"But you don't really care for music, do you?\"]\n"
     ]
    }
   ],
   "source": [
    "import glob\n",
    "import os\n",
    "\n",
    "txt_file_path = os.getenv('HOME')+'/aiffel/lyricist/data/lyrics/*'\n",
    "\n",
    "txt_list = glob.glob(txt_file_path)\n",
    "\n",
    "raw_corpus = []\n",
    "\n",
    "# 여러개의 txt 파일을 모두 읽어서 raw_corpus 에 담습니다.\n",
    "for txt_file in txt_list:\n",
    "    with open(txt_file, \"r\") as f:\n",
    "        raw = f.read().splitlines()   # 텍스트를 라인 단위로 끊어서 list 형태로 읽어온다\n",
    "        raw_corpus.extend(raw)\n",
    "        \n",
    "print(\"데이터 크기:\", len(raw_corpus))\n",
    "print(\"Examples:\\n\", raw_corpus[:3])"
   ]
  },
  {
   "cell_type": "markdown",
   "id": "96bd8053",
   "metadata": {},
   "source": [
    "### 데이터 정제"
   ]
  },
  {
   "cell_type": "code",
   "execution_count": 2,
   "id": "69893ac8",
   "metadata": {},
   "outputs": [],
   "source": [
    "import re\n",
    "\n",
    "def preprocess_sentence(sentence):\n",
    "    sentence = sentence.lower().strip() # 소문자로 바꾸고, 양쪽 공백을 지운다\n",
    "    sentence = re.sub(r\"([?.!,¿])\", r\" \\1 \", sentence) # 특수문자 양쪽에 공백을 넣고\n",
    "    sentence = re.sub(r'[\" \"]+', \" \", sentence) # 여러개의 공백은 하나의 공백으로 바꾼다\n",
    "    sentence = re.sub(r\"[^a-zA-Z?.!,¿]+\", \" \", sentence) # a-zA-Z?.!,¿가 아닌 모든 문자를 하나의 공백으로 바꾼다\n",
    "    sentence = sentence.strip() # 다시 양쪽 공백을 지운다\n",
    "    sentence = '<start> ' + sentence + ' <end>' # 문장 시작에는 <start>, 끝에는 <end>를 추가\n",
    "    return sentence"
   ]
  },
  {
   "cell_type": "code",
   "execution_count": 3,
   "id": "8c01476a",
   "metadata": {},
   "outputs": [
    {
     "data": {
      "text/plain": [
       "['<start> now i ve heard there was a secret chord <end>',\n",
       " '<start> that david played , and it pleased the lord <end>',\n",
       " '<start> but you don t really care for music , do you ? <end>',\n",
       " '<start> it goes like this <end>',\n",
       " '<start> the fourth , the fifth <end>',\n",
       " '<start> the minor fall , the major lift <end>',\n",
       " '<start> the baffled king composing hallelujah hallelujah <end>',\n",
       " '<start> hallelujah <end>',\n",
       " '<start> hallelujah <end>',\n",
       " '<start> hallelujah your faith was strong but you needed proof <end>']"
      ]
     },
     "execution_count": 3,
     "metadata": {},
     "output_type": "execute_result"
    }
   ],
   "source": [
    "# 정제된 문장을 모으자\n",
    "corpus = []\n",
    "\n",
    "for sentence in raw_corpus:\n",
    "    # 우리가 원하지 않는 문장은 건너뛴다\n",
    "    if len(sentence) == 0: continue\n",
    "    if sentence[-1] == \":\": continue\n",
    "        \n",
    "    # 정제를 하고 담자\n",
    "    preprocessed_sentence = preprocess_sentence(sentence)\n",
    "    corpus.append(preprocessed_sentence)\n",
    "\n",
    "corpus[:10]"
   ]
  },
  {
   "cell_type": "code",
   "execution_count": 4,
   "id": "1caf4ed4",
   "metadata": {},
   "outputs": [
    {
     "name": "stdout",
     "output_type": "stream",
     "text": [
      "[[   2   50    5 ...    0    0    0]\n",
      " [   2   17 2639 ...    0    0    0]\n",
      " [   2   36    7 ...   43    3    0]\n",
      " ...\n",
      " [   5   22    9 ...   10 1013    3]\n",
      " [  37   15 9049 ...  877  647    3]\n",
      " [   2    7   34 ...    0    0    0]] <keras_preprocessing.text.Tokenizer object at 0x7f0d53581100>\n"
     ]
    }
   ],
   "source": [
    "import tensorflow as tf\n",
    "\n",
    "def tokenize(corpus):\n",
    "    tokenizer = tf.keras.preprocessing.text.Tokenizer(\n",
    "        num_words=20000,\n",
    "        filters=' ',\n",
    "        oov_token=\"<unk>\" # out-of-vocabulary, 사전에 없는 단어\n",
    "    )\n",
    "    tokenizer.fit_on_texts(corpus)\n",
    "    tensor = tokenizer.texts_to_sequences(corpus)\n",
    "    tensor = tf.keras.preprocessing.sequence.pad_sequences(tensor, padding='post', maxlen=15)\n",
    "    \n",
    "    print(tensor, tokenizer)\n",
    "    return tensor, tokenizer\n",
    "\n",
    "tensor, tokenizer = tokenize(corpus)"
   ]
  },
  {
   "cell_type": "code",
   "execution_count": 5,
   "id": "8d6622a3",
   "metadata": {},
   "outputs": [
    {
     "name": "stdout",
     "output_type": "stream",
     "text": [
      "1 : <unk>\n",
      "2 : <start>\n",
      "3 : <end>\n",
      "4 : ,\n",
      "5 : i\n",
      "6 : the\n",
      "7 : you\n",
      "8 : and\n",
      "9 : a\n",
      "10 : to\n"
     ]
    }
   ],
   "source": [
    "for idx in tokenizer.index_word:\n",
    "    print(idx, \":\", tokenizer.index_word[idx])\n",
    "    \n",
    "    if idx >= 10: break"
   ]
  },
  {
   "cell_type": "code",
   "execution_count": 6,
   "id": "226c6a65",
   "metadata": {
    "scrolled": true
   },
   "outputs": [
    {
     "name": "stdout",
     "output_type": "stream",
     "text": [
      "[   2   50    5   91  297   65   57    9  969 6042    3    0    0    0]\n",
      "[  50    5   91  297   65   57    9  969 6042    3    0    0    0    0]\n"
     ]
    }
   ],
   "source": [
    "# tensor에서 마지막 토큰을 잘라내서 소스 문장을 생성합니다\n",
    "# 마지막 토큰은 <end>가 아니라 <pad>일 가능성이 높습니다.\n",
    "src_input = tensor[:, :-1]\n",
    "# tensor에서 <start>를 잘라내서 타겟 문장을 생성합니다.\n",
    "tgt_input = tensor[:, 1:]\n",
    "\n",
    "print(src_input[0])\n",
    "print(tgt_input[0])"
   ]
  },
  {
   "cell_type": "markdown",
   "id": "5c42cda9",
   "metadata": {},
   "source": [
    "### 평가 데이터셋 분리"
   ]
  },
  {
   "cell_type": "code",
   "execution_count": 7,
   "id": "416dc1d1",
   "metadata": {},
   "outputs": [
    {
     "name": "stdout",
     "output_type": "stream",
     "text": [
      "Source Train: (140599, 14)\n",
      "Target Train: (140599, 14)\n"
     ]
    }
   ],
   "source": [
    "from sklearn.model_selection import train_test_split\n",
    "\n",
    "enc_train, enc_val, dec_train, dec_val = train_test_split(src_input, \n",
    "                                                         tgt_input, \n",
    "                                                         test_size=0.2,\n",
    "                                                         shuffle=True,\n",
    "                                                         random_state=34)\n",
    "print(\"Source Train:\", enc_train.shape)\n",
    "print(\"Target Train:\", dec_train.shape)"
   ]
  },
  {
   "cell_type": "code",
   "execution_count": 8,
   "id": "5ab5d620",
   "metadata": {},
   "outputs": [
    {
     "data": {
      "text/plain": [
       "<BatchDataset shapes: ((256, 14), (256, 14)), types: (tf.int32, tf.int32)>"
      ]
     },
     "execution_count": 8,
     "metadata": {},
     "output_type": "execute_result"
    }
   ],
   "source": [
    "BUFFER_SIZE = len(src_input)\n",
    "BATCH_SIZE = 256\n",
    "steps_per_epoch = len(src_input) // BATCH_SIZE\n",
    "\n",
    "# tokenizer가 구축한 단어사전 내 20000개와, 여기 포함되지 않은 0:<pad>를 포함하여 20001개\n",
    "VOCAB_SIZE = tokenizer.num_words + 1\n",
    "\n",
    "# 준비한 데이터 소스로부터 데이터셋을 만듭니다\n",
    "dataset = tf.data.Dataset.from_tensor_slices((src_input, tgt_input))\n",
    "dataset = dataset.shuffle(BUFFER_SIZE)\n",
    "dataset = dataset.batch(BATCH_SIZE, drop_remainder=True)\n",
    "dataset"
   ]
  },
  {
   "cell_type": "markdown",
   "id": "ff040908",
   "metadata": {},
   "source": [
    "### 인공지능 만들기"
   ]
  },
  {
   "cell_type": "code",
   "execution_count": 13,
   "id": "eff7c669",
   "metadata": {},
   "outputs": [],
   "source": [
    "class TextGenerator(tf.keras.Model):\n",
    "    def __init__(self, vocab_size, embedding_size, hidden_size):\n",
    "        super().__init__()\n",
    "        \n",
    "        self.embedding = tf.keras.layers.Embedding(vocab_size, embedding_size)\n",
    "        self.rnn_1 = tf.keras.layers.LSTM(hidden_size, return_sequences=True)\n",
    "        self.rnn_2 = tf.keras.layers.LSTM(hidden_size, return_sequences=True)\n",
    "        self.linear = tf.keras.layers.Dense(vocab_size)\n",
    "        \n",
    "    def call(self, x):\n",
    "        out = self.embedding(x)\n",
    "        out = self.rnn_1(out)\n",
    "        out = self.rnn_2(out)\n",
    "        out = self.linear(out)\n",
    "        \n",
    "        return out\n",
    "    \n",
    "embedding_size = 14\n",
    "hidden_size = 2048\n",
    "lyricist = TextGenerator(tokenizer.num_words + 1, embedding_size , hidden_size)"
   ]
  },
  {
   "cell_type": "code",
   "execution_count": 14,
   "id": "0c51fbe0",
   "metadata": {},
   "outputs": [
    {
     "data": {
      "text/plain": [
       "<tf.Tensor: shape=(256, 14, 20001), dtype=float32, numpy=\n",
       "array([[[-2.76420924e-05,  9.80101140e-06, -2.36052784e-07, ...,\n",
       "          1.27791936e-05, -5.61628167e-06,  4.93496300e-05],\n",
       "        [-3.96364849e-05, -1.12778062e-05,  3.74307820e-05, ...,\n",
       "          7.82936604e-06, -2.54278871e-06,  5.43452479e-05],\n",
       "        [-7.55908404e-05, -2.63962556e-05,  3.45137014e-05, ...,\n",
       "         -5.91262906e-05, -1.31379193e-05,  3.34340875e-05],\n",
       "        ...,\n",
       "        [ 2.10106678e-04,  7.67657621e-05, -1.23540871e-04, ...,\n",
       "          3.34077231e-06, -1.91692336e-04,  1.18814634e-04],\n",
       "        [ 1.97335365e-04,  9.53276904e-05, -1.57885530e-04, ...,\n",
       "          8.61708104e-05, -1.75743364e-04,  1.63033605e-04],\n",
       "        [ 1.77810260e-04,  1.17334879e-04, -1.84628327e-04, ...,\n",
       "          1.67903156e-04, -1.50453823e-04,  2.08974598e-04]],\n",
       "\n",
       "       [[-2.76420924e-05,  9.80101140e-06, -2.36052784e-07, ...,\n",
       "          1.27791936e-05, -5.61628167e-06,  4.93496300e-05],\n",
       "        [-4.91710853e-05,  2.07569428e-05,  2.08698966e-05, ...,\n",
       "         -1.31124689e-05,  3.03739835e-05,  2.25887816e-05],\n",
       "        [-7.27305314e-06,  3.71835922e-05,  2.47900061e-05, ...,\n",
       "         -2.62796930e-05, -1.18312810e-05,  2.53457583e-05],\n",
       "        ...,\n",
       "        [ 3.94873859e-05,  2.14790489e-04, -1.30081273e-04, ...,\n",
       "          9.77115851e-05, -2.07592075e-05,  1.68409548e-04],\n",
       "        [ 3.47718305e-05,  2.28575853e-04, -1.71690335e-04, ...,\n",
       "          1.79142793e-04, -1.29450391e-05,  2.20271148e-04],\n",
       "        [ 2.70718083e-05,  2.44569674e-04, -2.02955707e-04, ...,\n",
       "          2.51866935e-04,  5.45291527e-07,  2.65003269e-04]],\n",
       "\n",
       "       [[-2.76420924e-05,  9.80101140e-06, -2.36052784e-07, ...,\n",
       "          1.27791936e-05, -5.61628167e-06,  4.93496300e-05],\n",
       "        [-4.67616846e-05,  3.39530416e-05,  3.73879629e-05, ...,\n",
       "         -1.88558988e-05, -1.21046503e-06,  3.12359334e-05],\n",
       "        [-5.96490827e-05,  3.30823677e-05,  5.66181552e-05, ...,\n",
       "         -5.97026592e-05, -2.17048328e-05,  3.25315777e-05],\n",
       "        ...,\n",
       "        [-6.80183948e-05,  7.61980118e-05, -1.82377364e-04, ...,\n",
       "          3.46996007e-04, -6.39468126e-05,  2.21117079e-04],\n",
       "        [-6.60972291e-05,  1.11070978e-04, -2.03693227e-04, ...,\n",
       "          4.11795481e-04, -4.44714278e-05,  2.63318390e-04],\n",
       "        [-6.63245155e-05,  1.46000530e-04, -2.12566345e-04, ...,\n",
       "          4.63277567e-04, -1.89939183e-05,  2.98146275e-04]],\n",
       "\n",
       "       ...,\n",
       "\n",
       "       [[-2.76420924e-05,  9.80101140e-06, -2.36052784e-07, ...,\n",
       "          1.27791936e-05, -5.61628167e-06,  4.93496300e-05],\n",
       "        [-4.02574042e-05,  3.56856435e-05, -9.82134043e-06, ...,\n",
       "          4.23050697e-05, -8.09140147e-06,  1.50110951e-04],\n",
       "        [-8.40027424e-05,  7.11698958e-05, -1.01783871e-05, ...,\n",
       "         -1.09291159e-06,  6.81444772e-06,  1.76942995e-04],\n",
       "        ...,\n",
       "        [-4.49406252e-05,  1.98929818e-04, -1.70085812e-04, ...,\n",
       "          3.22684326e-04,  2.47202897e-05,  2.90854485e-04],\n",
       "        [-4.48523242e-05,  2.17432345e-04, -1.86819801e-04, ...,\n",
       "          3.75018426e-04,  4.43486279e-05,  3.16286634e-04],\n",
       "        [-4.58528230e-05,  2.36801294e-04, -1.92779451e-04, ...,\n",
       "          4.18513489e-04,  6.70950685e-05,  3.36554542e-04]],\n",
       "\n",
       "       [[-2.76420924e-05,  9.80101140e-06, -2.36052784e-07, ...,\n",
       "          1.27791936e-05, -5.61628167e-06,  4.93496300e-05],\n",
       "        [-3.53980322e-05,  4.32020643e-05,  3.13291857e-05, ...,\n",
       "          5.88581061e-05,  5.15591091e-06,  9.91812776e-05],\n",
       "        [-2.09737482e-05,  7.43168057e-05,  5.65544433e-05, ...,\n",
       "          6.57271084e-05,  4.61788886e-06,  1.21881727e-04],\n",
       "        ...,\n",
       "        [-1.69116975e-04,  1.23093021e-04, -1.31905414e-04, ...,\n",
       "          1.56166134e-04,  1.73740642e-04,  1.50964959e-04],\n",
       "        [-1.48885301e-04,  1.41380035e-04, -1.66954924e-04, ...,\n",
       "          2.31620957e-04,  1.68560378e-04,  1.93110463e-04],\n",
       "        [-1.30202345e-04,  1.62602068e-04, -1.89497950e-04, ...,\n",
       "          2.99183128e-04,  1.66722122e-04,  2.30753038e-04]],\n",
       "\n",
       "       [[-2.76420924e-05,  9.80101140e-06, -2.36052784e-07, ...,\n",
       "          1.27791936e-05, -5.61628167e-06,  4.93496300e-05],\n",
       "        [-2.48449614e-05,  4.82589821e-05,  6.19444399e-05, ...,\n",
       "          1.03798002e-05, -4.37609960e-05,  8.68654097e-05],\n",
       "        [-2.94330730e-05,  6.88788132e-05,  1.21854951e-04, ...,\n",
       "         -2.26152024e-05, -1.99319584e-05,  5.27175289e-05],\n",
       "        ...,\n",
       "        [-8.05531090e-05,  1.12823189e-04,  1.58626150e-04, ...,\n",
       "          1.85283043e-05,  1.44898484e-04, -3.92290822e-05],\n",
       "        [-5.42047819e-05,  1.21534824e-04,  9.56749791e-05, ...,\n",
       "          8.95225894e-05,  1.21315898e-04,  2.26851262e-05],\n",
       "        [-3.43580177e-05,  1.31709792e-04,  3.22555607e-05, ...,\n",
       "          1.70450076e-04,  1.06289823e-04,  8.64048488e-05]]],\n",
       "      dtype=float32)>"
      ]
     },
     "execution_count": 14,
     "metadata": {},
     "output_type": "execute_result"
    }
   ],
   "source": [
    "# 데이터셋에서 데이터 한 배치만 불러온다\n",
    "for src_sample, tgt_sample in dataset.take(1): break\n",
    "\n",
    "# 한 배치만 불러온 데이터를 모델에 넣는다\n",
    "lyricist(src_sample)"
   ]
  },
  {
   "cell_type": "code",
   "execution_count": 15,
   "id": "ac5f3fa2",
   "metadata": {},
   "outputs": [
    {
     "name": "stdout",
     "output_type": "stream",
     "text": [
      "Model: \"text_generator_1\"\n",
      "_________________________________________________________________\n",
      "Layer (type)                 Output Shape              Param #   \n",
      "=================================================================\n",
      "embedding_1 (Embedding)      multiple                  280014    \n",
      "_________________________________________________________________\n",
      "lstm_3 (LSTM)                multiple                  16900096  \n",
      "_________________________________________________________________\n",
      "lstm_4 (LSTM)                multiple                  33562624  \n",
      "_________________________________________________________________\n",
      "dense_1 (Dense)              multiple                  40982049  \n",
      "=================================================================\n",
      "Total params: 91,724,783\n",
      "Trainable params: 91,724,783\n",
      "Non-trainable params: 0\n",
      "_________________________________________________________________\n"
     ]
    }
   ],
   "source": [
    "lyricist.summary()"
   ]
  },
  {
   "cell_type": "code",
   "execution_count": null,
   "id": "e70064a4",
   "metadata": {},
   "outputs": [
    {
     "name": "stdout",
     "output_type": "stream",
     "text": [
      "Epoch 1/10\n",
      "686/686 [==============================] - 387s 561ms/step - loss: 4.0279\n",
      "Epoch 2/10\n",
      "686/686 [==============================] - 389s 567ms/step - loss: 3.4289\n",
      "Epoch 3/10\n",
      "686/686 [==============================] - 391s 570ms/step - loss: 3.1708\n",
      "Epoch 4/10\n",
      "686/686 [==============================] - 391s 570ms/step - loss: 3.0066\n",
      "Epoch 5/10\n",
      "686/686 [==============================] - 391s 569ms/step - loss: 2.8625\n",
      "Epoch 6/10\n",
      "686/686 [==============================] - 392s 572ms/step - loss: 2.7259\n",
      "Epoch 7/10\n",
      "686/686 [==============================] - 392s 572ms/step - loss: 2.5896\n",
      "Epoch 8/10\n",
      "686/686 [==============================] - 392s 570ms/step - loss: 2.4556\n",
      "Epoch 9/10\n",
      "686/686 [==============================] - 392s 571ms/step - loss: 2.3264\n",
      "Epoch 10/10\n",
      " 97/686 [===>..........................] - ETA: 5:37 - loss: 2.1883"
     ]
    }
   ],
   "source": [
    "optimizer = tf.keras.optimizers.Adam()\n",
    "\n",
    "loss = tf.keras.losses.SparseCategoricalCrossentropy(\n",
    "    from_logits=True,\n",
    "    reduction='none'\n",
    ")\n",
    "\n",
    "lyricist.compile(loss=loss, optimizer=optimizer)\n",
    "lyricist.fit(dataset, epochs=10)"
   ]
  },
  {
   "cell_type": "code",
   "execution_count": 16,
   "id": "9f31b53d",
   "metadata": {},
   "outputs": [],
   "source": [
    "def generate_text(lyricist, tokenizer, init_sentence=\"<start>\", max_len=20):\n",
    "    # 테스트를 위해서 입력받은 init_sentence도 텐서로 변환합니다\n",
    "    test_input = tokenizer.texts_to_sequences([init_sentence])\n",
    "    test_tensor = tf.convert_to_tensor(test_input, dtype=tf.int64)\n",
    "    end_token = tokenizer.word_index[\"<end>\"]\n",
    "    \n",
    "    # 단어 하나씩 예측해 문장을 만듭니다\n",
    "    #    1. 입력받은 문장의 텐서를 입력합니다\n",
    "    #    2. 예측된 값 중 가장 높은 확률인 word index를 뽑아냅니다\n",
    "    #    3. 2에서 예측된 word index를 문장 뒤에 붙입니다\n",
    "    #    4. 모델이 <end>를 예측했거나, max_len에 도달했다면 문장 생성을 마칩니다\n",
    "    while True:\n",
    "        # 1\n",
    "        predict = lyricist(test_tensor)\n",
    "        # 2\n",
    "        predict_word = tf.argmax(tf.nn.softmax(predict, axis=-1), axis=-1)[:, -1]\n",
    "        # 3\n",
    "        test_tensor = tf.concat([test_tensor, tf.expand_dims(predict_word, axis=0)], axis=-1)\n",
    "        # 4\n",
    "        if predict_word.numpy()[0] == end_token: break\n",
    "        if test_tensor.shape[1] >= max_len: break\n",
    "    \n",
    "    generated = \"\"\n",
    "    # tokenizer를 이용해 word index를 단어로 하나씩 변환합니다\n",
    "    for word_index in test_tensor[0].numpy():\n",
    "        generated += tokenizer.index_word[word_index] + \" \"\n",
    "        \n",
    "    return generated"
   ]
  },
  {
   "cell_type": "code",
   "execution_count": 19,
   "id": "5bc969c6",
   "metadata": {},
   "outputs": [
    {
     "data": {
      "text/plain": [
       "'<start> we are the eggmen <end> '"
      ]
     },
     "execution_count": 19,
     "metadata": {},
     "output_type": "execute_result"
    }
   ],
   "source": [
    "generate_text(lyricist, tokenizer, init_sentence=\"<start> we are\", max_len=20)"
   ]
  },
  {
   "cell_type": "markdown",
   "id": "e289f2fe",
   "metadata": {},
   "source": [
    "# 회고"
   ]
  },
  {
   "cell_type": "markdown",
   "id": "0060cf5f",
   "metadata": {},
   "source": [
    "처음 코드를 완성했을때 loss도 낮았고 작동도 잘됐다.  \n",
    "그런데 모델이 바보같이 짧고 재미없는 문장만 만들었다.  \n",
    "다시 코드를 검토해보니 정제된 문장을 모으는데 짧은 문장들만 모으도록 되어있었다.  \n",
    "  \n",
    "코드를 다시 작성하고 loss 를 줄이기 위해 여러가지 시도를 해보았다.\n",
    "첫번째는 embeding을 256, hidensize를 1024로 설정하니 loss 가 2.31까지 떨어졌다.\n",
    "두번째는 다른 것은 잘 모르겠지만 RNN을 추가해서 한번 더 읽도록 만들면 loss가 줄어들거라 생각했다.  \n",
    "RNN을 하나 더 추가하고 hiddensize를 1024, 그리고 다른 사람 코드를 보니까 embeding은 shape에 맞추는 거 같아서 14로 맞추었다.  \n",
    "그런데 학습시간만 늘어나고 loss가 낮아지는 비율이 줄어들었다.  \n",
    "세번째는 RNN을 추가하는 것은 의미가 없는 거 같아 RNN을 2개로 다시 되돌리고 embening을 14, hiddensize를 늘려서 2048로 설정하였다.  \n",
    "시간이 없어서 10번째까지 돌리지는 못했지만 2.1까지 줄어들것을 예상된다."
   ]
  }
 ],
 "metadata": {
  "kernelspec": {
   "display_name": "Python 3 (ipykernel)",
   "language": "python",
   "name": "python3"
  },
  "language_info": {
   "codemirror_mode": {
    "name": "ipython",
    "version": 3
   },
   "file_extension": ".py",
   "mimetype": "text/x-python",
   "name": "python",
   "nbconvert_exporter": "python",
   "pygments_lexer": "ipython3",
   "version": "3.9.7"
  }
 },
 "nbformat": 4,
 "nbformat_minor": 5
}
