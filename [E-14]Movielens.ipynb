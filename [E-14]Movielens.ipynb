{
 "cells": [
  {
   "cell_type": "markdown",
   "id": "bfa99b37",
   "metadata": {},
   "source": [
    "# [E-14]Movielens"
   ]
  },
  {
   "cell_type": "markdown",
   "id": "81224b45",
   "metadata": {},
   "source": [
    "## 데이터 준비와 전처리"
   ]
  },
  {
   "cell_type": "code",
   "execution_count": 2,
   "id": "598cef4a",
   "metadata": {},
   "outputs": [
    {
     "data": {
      "text/html": [
       "<div>\n",
       "<style scoped>\n",
       "    .dataframe tbody tr th:only-of-type {\n",
       "        vertical-align: middle;\n",
       "    }\n",
       "\n",
       "    .dataframe tbody tr th {\n",
       "        vertical-align: top;\n",
       "    }\n",
       "\n",
       "    .dataframe thead th {\n",
       "        text-align: right;\n",
       "    }\n",
       "</style>\n",
       "<table border=\"1\" class=\"dataframe\">\n",
       "  <thead>\n",
       "    <tr style=\"text-align: right;\">\n",
       "      <th></th>\n",
       "      <th>user_id</th>\n",
       "      <th>movie_id</th>\n",
       "      <th>ratings</th>\n",
       "      <th>timestamp</th>\n",
       "    </tr>\n",
       "  </thead>\n",
       "  <tbody>\n",
       "    <tr>\n",
       "      <th>0</th>\n",
       "      <td>1</td>\n",
       "      <td>1193</td>\n",
       "      <td>5</td>\n",
       "      <td>978300760</td>\n",
       "    </tr>\n",
       "    <tr>\n",
       "      <th>1</th>\n",
       "      <td>1</td>\n",
       "      <td>661</td>\n",
       "      <td>3</td>\n",
       "      <td>978302109</td>\n",
       "    </tr>\n",
       "    <tr>\n",
       "      <th>2</th>\n",
       "      <td>1</td>\n",
       "      <td>914</td>\n",
       "      <td>3</td>\n",
       "      <td>978301968</td>\n",
       "    </tr>\n",
       "    <tr>\n",
       "      <th>3</th>\n",
       "      <td>1</td>\n",
       "      <td>3408</td>\n",
       "      <td>4</td>\n",
       "      <td>978300275</td>\n",
       "    </tr>\n",
       "    <tr>\n",
       "      <th>4</th>\n",
       "      <td>1</td>\n",
       "      <td>2355</td>\n",
       "      <td>5</td>\n",
       "      <td>978824291</td>\n",
       "    </tr>\n",
       "  </tbody>\n",
       "</table>\n",
       "</div>"
      ],
      "text/plain": [
       "   user_id  movie_id  ratings  timestamp\n",
       "0        1      1193        5  978300760\n",
       "1        1       661        3  978302109\n",
       "2        1       914        3  978301968\n",
       "3        1      3408        4  978300275\n",
       "4        1      2355        5  978824291"
      ]
     },
     "execution_count": 2,
     "metadata": {},
     "output_type": "execute_result"
    }
   ],
   "source": [
    "import pandas as pd\n",
    "import os\n",
    "rating_file_path=os.getenv('HOME') + '/aiffel/recommendata_iu/data/ml-1m/ratings.dat'\n",
    "ratings_cols = ['user_id', 'movie_id', 'ratings', 'timestamp']\n",
    "ratings = pd.read_csv(rating_file_path, sep='::', names=ratings_cols, engine='python', encoding = \"ISO-8859-1\")\n",
    "orginal_data_size = len(ratings)\n",
    "ratings.head()"
   ]
  },
  {
   "cell_type": "code",
   "execution_count": 3,
   "id": "c209d20b",
   "metadata": {},
   "outputs": [
    {
     "name": "stdout",
     "output_type": "stream",
     "text": [
      "orginal_data_size: 1000209, filtered_data_size: 836478\n",
      "Ratio of Remaining Data is 83.63%\n"
     ]
    }
   ],
   "source": [
    "# 3점 이상만 남깁니다.\n",
    "ratings = ratings[ratings['ratings']>=3]\n",
    "filtered_data_size = len(ratings)\n",
    "\n",
    "print(f'orginal_data_size: {orginal_data_size}, filtered_data_size: {filtered_data_size}')\n",
    "print(f'Ratio of Remaining Data is {filtered_data_size / orginal_data_size:.2%}')"
   ]
  },
  {
   "cell_type": "code",
   "execution_count": 4,
   "id": "a61e5622",
   "metadata": {},
   "outputs": [],
   "source": [
    "# ratings 컬럼의 이름을 counts로 바꿉니다.\n",
    "ratings.rename(columns={'ratings':'counts'}, inplace=True)"
   ]
  },
  {
   "cell_type": "code",
   "execution_count": 5,
   "id": "2aeb8b7f",
   "metadata": {},
   "outputs": [
    {
     "data": {
      "text/plain": [
       "0          5\n",
       "1          3\n",
       "2          3\n",
       "3          4\n",
       "4          5\n",
       "          ..\n",
       "1000203    3\n",
       "1000205    5\n",
       "1000206    5\n",
       "1000207    4\n",
       "1000208    4\n",
       "Name: counts, Length: 836478, dtype: int64"
      ]
     },
     "execution_count": 5,
     "metadata": {},
     "output_type": "execute_result"
    }
   ],
   "source": [
    "ratings['counts']"
   ]
  },
  {
   "cell_type": "code",
   "execution_count": 6,
   "id": "f360f902",
   "metadata": {},
   "outputs": [
    {
     "data": {
      "text/html": [
       "<div>\n",
       "<style scoped>\n",
       "    .dataframe tbody tr th:only-of-type {\n",
       "        vertical-align: middle;\n",
       "    }\n",
       "\n",
       "    .dataframe tbody tr th {\n",
       "        vertical-align: top;\n",
       "    }\n",
       "\n",
       "    .dataframe thead th {\n",
       "        text-align: right;\n",
       "    }\n",
       "</style>\n",
       "<table border=\"1\" class=\"dataframe\">\n",
       "  <thead>\n",
       "    <tr style=\"text-align: right;\">\n",
       "      <th></th>\n",
       "      <th>movie_id</th>\n",
       "      <th>title</th>\n",
       "      <th>genre</th>\n",
       "    </tr>\n",
       "  </thead>\n",
       "  <tbody>\n",
       "    <tr>\n",
       "      <th>0</th>\n",
       "      <td>1</td>\n",
       "      <td>Toy Story (1995)</td>\n",
       "      <td>Animation|Children's|Comedy</td>\n",
       "    </tr>\n",
       "    <tr>\n",
       "      <th>1</th>\n",
       "      <td>2</td>\n",
       "      <td>Jumanji (1995)</td>\n",
       "      <td>Adventure|Children's|Fantasy</td>\n",
       "    </tr>\n",
       "    <tr>\n",
       "      <th>2</th>\n",
       "      <td>3</td>\n",
       "      <td>Grumpier Old Men (1995)</td>\n",
       "      <td>Comedy|Romance</td>\n",
       "    </tr>\n",
       "    <tr>\n",
       "      <th>3</th>\n",
       "      <td>4</td>\n",
       "      <td>Waiting to Exhale (1995)</td>\n",
       "      <td>Comedy|Drama</td>\n",
       "    </tr>\n",
       "    <tr>\n",
       "      <th>4</th>\n",
       "      <td>5</td>\n",
       "      <td>Father of the Bride Part II (1995)</td>\n",
       "      <td>Comedy</td>\n",
       "    </tr>\n",
       "  </tbody>\n",
       "</table>\n",
       "</div>"
      ],
      "text/plain": [
       "   movie_id                               title                         genre\n",
       "0         1                    Toy Story (1995)   Animation|Children's|Comedy\n",
       "1         2                      Jumanji (1995)  Adventure|Children's|Fantasy\n",
       "2         3             Grumpier Old Men (1995)                Comedy|Romance\n",
       "3         4            Waiting to Exhale (1995)                  Comedy|Drama\n",
       "4         5  Father of the Bride Part II (1995)                        Comedy"
      ]
     },
     "execution_count": 6,
     "metadata": {},
     "output_type": "execute_result"
    }
   ],
   "source": [
    "# 영화 제목을 보기 위해 메타 데이터를 읽어옵니다.\n",
    "movie_file_path=os.getenv('HOME') + '/aiffel/recommendata_iu/data/ml-1m/movies.dat'\n",
    "cols = ['movie_id', 'title', 'genre'] \n",
    "movies = pd.read_csv(movie_file_path, sep='::', names=cols, engine='python', encoding='ISO-8859-1')\n",
    "movies.head()"
   ]
  },
  {
   "cell_type": "markdown",
   "id": "92cbbd56",
   "metadata": {},
   "source": [
    "## 분석해 봅시다"
   ]
  },
  {
   "cell_type": "markdown",
   "id": "9574eb72",
   "metadata": {},
   "source": [
    "### ratings 에 있는 유니크한 영화 개수"
   ]
  },
  {
   "cell_type": "code",
   "execution_count": 7,
   "id": "b8a2a507",
   "metadata": {},
   "outputs": [
    {
     "data": {
      "text/plain": [
       "3628"
      ]
     },
     "execution_count": 7,
     "metadata": {},
     "output_type": "execute_result"
    }
   ],
   "source": [
    "ratings['movie_id'].nunique()"
   ]
  },
  {
   "cell_type": "markdown",
   "id": "1c0deac1",
   "metadata": {},
   "source": [
    "### ratings 에 있는 유니크한 사용자 수"
   ]
  },
  {
   "cell_type": "code",
   "execution_count": 8,
   "id": "bc227392",
   "metadata": {},
   "outputs": [
    {
     "data": {
      "text/plain": [
       "6039"
      ]
     },
     "execution_count": 8,
     "metadata": {},
     "output_type": "execute_result"
    }
   ],
   "source": [
    "ratings['user_id'].nunique()"
   ]
  },
  {
   "cell_type": "markdown",
   "id": "1a04ee76",
   "metadata": {},
   "source": [
    "### 가장 인기있는 영화 30개 (인기순)"
   ]
  },
  {
   "cell_type": "code",
   "execution_count": 13,
   "id": "6d969d84",
   "metadata": {},
   "outputs": [
    {
     "data": {
      "text/html": [
       "<div>\n",
       "<style scoped>\n",
       "    .dataframe tbody tr th:only-of-type {\n",
       "        vertical-align: middle;\n",
       "    }\n",
       "\n",
       "    .dataframe tbody tr th {\n",
       "        vertical-align: top;\n",
       "    }\n",
       "\n",
       "    .dataframe thead th {\n",
       "        text-align: right;\n",
       "    }\n",
       "</style>\n",
       "<table border=\"1\" class=\"dataframe\">\n",
       "  <thead>\n",
       "    <tr style=\"text-align: right;\">\n",
       "      <th></th>\n",
       "      <th>user_id</th>\n",
       "      <th>title</th>\n",
       "      <th>counts</th>\n",
       "    </tr>\n",
       "  </thead>\n",
       "  <tbody>\n",
       "    <tr>\n",
       "      <th>0</th>\n",
       "      <td>1</td>\n",
       "      <td>Toy Story (1995)</td>\n",
       "      <td>5</td>\n",
       "    </tr>\n",
       "    <tr>\n",
       "      <th>1</th>\n",
       "      <td>6</td>\n",
       "      <td>Toy Story (1995)</td>\n",
       "      <td>4</td>\n",
       "    </tr>\n",
       "    <tr>\n",
       "      <th>2</th>\n",
       "      <td>8</td>\n",
       "      <td>Toy Story (1995)</td>\n",
       "      <td>4</td>\n",
       "    </tr>\n",
       "    <tr>\n",
       "      <th>3</th>\n",
       "      <td>9</td>\n",
       "      <td>Toy Story (1995)</td>\n",
       "      <td>5</td>\n",
       "    </tr>\n",
       "    <tr>\n",
       "      <th>4</th>\n",
       "      <td>10</td>\n",
       "      <td>Toy Story (1995)</td>\n",
       "      <td>5</td>\n",
       "    </tr>\n",
       "    <tr>\n",
       "      <th>5</th>\n",
       "      <td>18</td>\n",
       "      <td>Toy Story (1995)</td>\n",
       "      <td>4</td>\n",
       "    </tr>\n",
       "    <tr>\n",
       "      <th>6</th>\n",
       "      <td>19</td>\n",
       "      <td>Toy Story (1995)</td>\n",
       "      <td>5</td>\n",
       "    </tr>\n",
       "    <tr>\n",
       "      <th>7</th>\n",
       "      <td>21</td>\n",
       "      <td>Toy Story (1995)</td>\n",
       "      <td>3</td>\n",
       "    </tr>\n",
       "    <tr>\n",
       "      <th>8</th>\n",
       "      <td>23</td>\n",
       "      <td>Toy Story (1995)</td>\n",
       "      <td>4</td>\n",
       "    </tr>\n",
       "    <tr>\n",
       "      <th>9</th>\n",
       "      <td>26</td>\n",
       "      <td>Toy Story (1995)</td>\n",
       "      <td>3</td>\n",
       "    </tr>\n",
       "  </tbody>\n",
       "</table>\n",
       "</div>"
      ],
      "text/plain": [
       "   user_id             title  counts\n",
       "0        1  Toy Story (1995)       5\n",
       "1        6  Toy Story (1995)       4\n",
       "2        8  Toy Story (1995)       4\n",
       "3        9  Toy Story (1995)       5\n",
       "4       10  Toy Story (1995)       5\n",
       "5       18  Toy Story (1995)       4\n",
       "6       19  Toy Story (1995)       5\n",
       "7       21  Toy Story (1995)       3\n",
       "8       23  Toy Story (1995)       4\n",
       "9       26  Toy Story (1995)       3"
      ]
     },
     "execution_count": 13,
     "metadata": {},
     "output_type": "execute_result"
    }
   ],
   "source": [
    "data = pd.merge(movies, ratings)\n",
    "using_cols = ['user_id', 'title', 'counts']\n",
    "data = data[using_cols]\n",
    "data.head(10)"
   ]
  },
  {
   "cell_type": "code",
   "execution_count": 15,
   "id": "a63b5531",
   "metadata": {},
   "outputs": [
    {
     "data": {
      "text/plain": [
       "title\n",
       "american beauty (1999)                                   3211\n",
       "star wars: episode iv - a new hope (1977)                2910\n",
       "star wars: episode v - the empire strikes back (1980)    2885\n",
       "star wars: episode vi - return of the jedi (1983)        2716\n",
       "saving private ryan (1998)                               2561\n",
       "terminator 2: judgment day (1991)                        2509\n",
       "silence of the lambs, the (1991)                         2498\n",
       "raiders of the lost ark (1981)                           2473\n",
       "back to the future (1985)                                2460\n",
       "matrix, the (1999)                                       2434\n",
       "jurassic park (1993)                                     2413\n",
       "sixth sense, the (1999)                                  2385\n",
       "fargo (1996)                                             2371\n",
       "braveheart (1995)                                        2314\n",
       "men in black (1997)                                      2297\n",
       "schindler's list (1993)                                  2257\n",
       "princess bride, the (1987)                               2252\n",
       "shakespeare in love (1998)                               2213\n",
       "l.a. confidential (1997)                                 2210\n",
       "shawshank redemption, the (1994)                         2194\n",
       "godfather, the (1972)                                    2167\n",
       "groundhog day (1993)                                     2121\n",
       "e.t. the extra-terrestrial (1982)                        2102\n",
       "being john malkovich (1999)                              2066\n",
       "ghostbusters (1984)                                      2051\n",
       "pulp fiction (1994)                                      2030\n",
       "forrest gump (1994)                                      2022\n",
       "terminator, the (1984)                                   2019\n",
       "toy story (1995)                                         2000\n",
       "fugitive, the (1993)                                     1941\n",
       "Name: user_id, dtype: int64"
      ]
     },
     "execution_count": 15,
     "metadata": {},
     "output_type": "execute_result"
    }
   ],
   "source": [
    "data['title'] = data['title'].str.lower()\n",
    "\n",
    "movies_count = data.groupby('title')['user_id'].count()\n",
    "movies_count.sort_values(ascending=False).head(30)"
   ]
  },
  {
   "cell_type": "markdown",
   "id": "863bf40f",
   "metadata": {},
   "source": [
    "## 내가 선호하는 영화를 5가지 골라서 ratings에 추가해 줍시다"
   ]
  },
  {
   "cell_type": "code",
   "execution_count": 17,
   "id": "e5a29217",
   "metadata": {},
   "outputs": [
    {
     "data": {
      "text/html": [
       "<div>\n",
       "<style scoped>\n",
       "    .dataframe tbody tr th:only-of-type {\n",
       "        vertical-align: middle;\n",
       "    }\n",
       "\n",
       "    .dataframe tbody tr th {\n",
       "        vertical-align: top;\n",
       "    }\n",
       "\n",
       "    .dataframe thead th {\n",
       "        text-align: right;\n",
       "    }\n",
       "</style>\n",
       "<table border=\"1\" class=\"dataframe\">\n",
       "  <thead>\n",
       "    <tr style=\"text-align: right;\">\n",
       "      <th></th>\n",
       "      <th>user_id</th>\n",
       "      <th>title</th>\n",
       "      <th>counts</th>\n",
       "    </tr>\n",
       "  </thead>\n",
       "  <tbody>\n",
       "    <tr>\n",
       "      <th>836463</th>\n",
       "      <td>5074</td>\n",
       "      <td>contender, the (2000)</td>\n",
       "      <td>4</td>\n",
       "    </tr>\n",
       "    <tr>\n",
       "      <th>836464</th>\n",
       "      <td>5087</td>\n",
       "      <td>contender, the (2000)</td>\n",
       "      <td>4</td>\n",
       "    </tr>\n",
       "    <tr>\n",
       "      <th>836465</th>\n",
       "      <td>5100</td>\n",
       "      <td>contender, the (2000)</td>\n",
       "      <td>4</td>\n",
       "    </tr>\n",
       "    <tr>\n",
       "      <th>836466</th>\n",
       "      <td>5205</td>\n",
       "      <td>contender, the (2000)</td>\n",
       "      <td>4</td>\n",
       "    </tr>\n",
       "    <tr>\n",
       "      <th>836467</th>\n",
       "      <td>5304</td>\n",
       "      <td>contender, the (2000)</td>\n",
       "      <td>4</td>\n",
       "    </tr>\n",
       "    <tr>\n",
       "      <th>836468</th>\n",
       "      <td>5333</td>\n",
       "      <td>contender, the (2000)</td>\n",
       "      <td>4</td>\n",
       "    </tr>\n",
       "    <tr>\n",
       "      <th>836469</th>\n",
       "      <td>5359</td>\n",
       "      <td>contender, the (2000)</td>\n",
       "      <td>5</td>\n",
       "    </tr>\n",
       "    <tr>\n",
       "      <th>836470</th>\n",
       "      <td>5405</td>\n",
       "      <td>contender, the (2000)</td>\n",
       "      <td>4</td>\n",
       "    </tr>\n",
       "    <tr>\n",
       "      <th>836471</th>\n",
       "      <td>5475</td>\n",
       "      <td>contender, the (2000)</td>\n",
       "      <td>5</td>\n",
       "    </tr>\n",
       "    <tr>\n",
       "      <th>836472</th>\n",
       "      <td>5602</td>\n",
       "      <td>contender, the (2000)</td>\n",
       "      <td>3</td>\n",
       "    </tr>\n",
       "    <tr>\n",
       "      <th>836473</th>\n",
       "      <td>5682</td>\n",
       "      <td>contender, the (2000)</td>\n",
       "      <td>3</td>\n",
       "    </tr>\n",
       "    <tr>\n",
       "      <th>836474</th>\n",
       "      <td>5812</td>\n",
       "      <td>contender, the (2000)</td>\n",
       "      <td>4</td>\n",
       "    </tr>\n",
       "    <tr>\n",
       "      <th>836475</th>\n",
       "      <td>5831</td>\n",
       "      <td>contender, the (2000)</td>\n",
       "      <td>3</td>\n",
       "    </tr>\n",
       "    <tr>\n",
       "      <th>836476</th>\n",
       "      <td>5837</td>\n",
       "      <td>contender, the (2000)</td>\n",
       "      <td>4</td>\n",
       "    </tr>\n",
       "    <tr>\n",
       "      <th>836477</th>\n",
       "      <td>5998</td>\n",
       "      <td>contender, the (2000)</td>\n",
       "      <td>4</td>\n",
       "    </tr>\n",
       "    <tr>\n",
       "      <th>0</th>\n",
       "      <td>kiim</td>\n",
       "      <td>terminator, the (1984)</td>\n",
       "      <td>5</td>\n",
       "    </tr>\n",
       "    <tr>\n",
       "      <th>1</th>\n",
       "      <td>kiim</td>\n",
       "      <td>toy story (1995)</td>\n",
       "      <td>5</td>\n",
       "    </tr>\n",
       "    <tr>\n",
       "      <th>2</th>\n",
       "      <td>kiim</td>\n",
       "      <td>matrix, the (1999)</td>\n",
       "      <td>5</td>\n",
       "    </tr>\n",
       "    <tr>\n",
       "      <th>3</th>\n",
       "      <td>kiim</td>\n",
       "      <td>pulp fiction (1994)</td>\n",
       "      <td>5</td>\n",
       "    </tr>\n",
       "    <tr>\n",
       "      <th>4</th>\n",
       "      <td>kiim</td>\n",
       "      <td>ghostbusters (1984)</td>\n",
       "      <td>5</td>\n",
       "    </tr>\n",
       "  </tbody>\n",
       "</table>\n",
       "</div>"
      ],
      "text/plain": [
       "       user_id                   title  counts\n",
       "836463    5074   contender, the (2000)       4\n",
       "836464    5087   contender, the (2000)       4\n",
       "836465    5100   contender, the (2000)       4\n",
       "836466    5205   contender, the (2000)       4\n",
       "836467    5304   contender, the (2000)       4\n",
       "836468    5333   contender, the (2000)       4\n",
       "836469    5359   contender, the (2000)       5\n",
       "836470    5405   contender, the (2000)       4\n",
       "836471    5475   contender, the (2000)       5\n",
       "836472    5602   contender, the (2000)       3\n",
       "836473    5682   contender, the (2000)       3\n",
       "836474    5812   contender, the (2000)       4\n",
       "836475    5831   contender, the (2000)       3\n",
       "836476    5837   contender, the (2000)       4\n",
       "836477    5998   contender, the (2000)       4\n",
       "0         kiim  terminator, the (1984)       5\n",
       "1         kiim        toy story (1995)       5\n",
       "2         kiim      matrix, the (1999)       5\n",
       "3         kiim     pulp fiction (1994)       5\n",
       "4         kiim     ghostbusters (1984)       5"
      ]
     },
     "execution_count": 17,
     "metadata": {},
     "output_type": "execute_result"
    }
   ],
   "source": [
    "favorite = ['terminator, the (1984)', 'toy story (1995)', 'matrix, the (1999)', \n",
    "            'pulp fiction (1994)', 'ghostbusters (1984)']\n",
    "\n",
    "user = pd.DataFrame({'user_id' : ['kiim']*5, 'title' : favorite, 'counts' : [5]*5})\n",
    "\n",
    "if not data.isin({'user_id' : ['kiim']})['user_id'].any():\n",
    "    data = data.append(user)\n",
    "\n",
    "data.tail(20)"
   ]
  },
  {
   "cell_type": "markdown",
   "id": "8738d442",
   "metadata": {},
   "source": [
    "### 전처리"
   ]
  },
  {
   "cell_type": "code",
   "execution_count": 19,
   "id": "da2e2c0d",
   "metadata": {},
   "outputs": [
    {
     "name": "stdout",
     "output_type": "stream",
     "text": [
      "6039\n",
      "283\n"
     ]
    }
   ],
   "source": [
    "# 고유한 유저, 제목을 찾아내는 코드\n",
    "user_unique = data['user_id'].unique()\n",
    "title_unique = data['title'].unique()\n",
    "\n",
    "user_to_idx = {v:k for k, v in enumerate(user_unique)}\n",
    "title_to_idx = {v:k for k, v in enumerate(title_unique)}\n",
    "\n",
    "# 인덱싱이 잘 되었는지 확인해 봅니다.\n",
    "print(user_to_idx['kiim'])\n",
    "print(title_to_idx['pulp fiction (1994)'])"
   ]
  },
  {
   "cell_type": "code",
   "execution_count": 20,
   "id": "bac2d948",
   "metadata": {},
   "outputs": [
    {
     "name": "stdout",
     "output_type": "stream",
     "text": [
      "user_id column indexing OK!\n",
      "title column indexing OK!\n"
     ]
    },
    {
     "data": {
      "text/html": [
       "<div>\n",
       "<style scoped>\n",
       "    .dataframe tbody tr th:only-of-type {\n",
       "        vertical-align: middle;\n",
       "    }\n",
       "\n",
       "    .dataframe tbody tr th {\n",
       "        vertical-align: top;\n",
       "    }\n",
       "\n",
       "    .dataframe thead th {\n",
       "        text-align: right;\n",
       "    }\n",
       "</style>\n",
       "<table border=\"1\" class=\"dataframe\">\n",
       "  <thead>\n",
       "    <tr style=\"text-align: right;\">\n",
       "      <th></th>\n",
       "      <th>user_id</th>\n",
       "      <th>title</th>\n",
       "      <th>counts</th>\n",
       "    </tr>\n",
       "  </thead>\n",
       "  <tbody>\n",
       "    <tr>\n",
       "      <th>0</th>\n",
       "      <td>0</td>\n",
       "      <td>0</td>\n",
       "      <td>5</td>\n",
       "    </tr>\n",
       "    <tr>\n",
       "      <th>1</th>\n",
       "      <td>1</td>\n",
       "      <td>0</td>\n",
       "      <td>4</td>\n",
       "    </tr>\n",
       "    <tr>\n",
       "      <th>2</th>\n",
       "      <td>2</td>\n",
       "      <td>0</td>\n",
       "      <td>4</td>\n",
       "    </tr>\n",
       "    <tr>\n",
       "      <th>3</th>\n",
       "      <td>3</td>\n",
       "      <td>0</td>\n",
       "      <td>5</td>\n",
       "    </tr>\n",
       "    <tr>\n",
       "      <th>4</th>\n",
       "      <td>4</td>\n",
       "      <td>0</td>\n",
       "      <td>5</td>\n",
       "    </tr>\n",
       "    <tr>\n",
       "      <th>...</th>\n",
       "      <td>...</td>\n",
       "      <td>...</td>\n",
       "      <td>...</td>\n",
       "    </tr>\n",
       "    <tr>\n",
       "      <th>0</th>\n",
       "      <td>6039</td>\n",
       "      <td>1122</td>\n",
       "      <td>5</td>\n",
       "    </tr>\n",
       "    <tr>\n",
       "      <th>1</th>\n",
       "      <td>6039</td>\n",
       "      <td>0</td>\n",
       "      <td>5</td>\n",
       "    </tr>\n",
       "    <tr>\n",
       "      <th>2</th>\n",
       "      <td>6039</td>\n",
       "      <td>2325</td>\n",
       "      <td>5</td>\n",
       "    </tr>\n",
       "    <tr>\n",
       "      <th>3</th>\n",
       "      <td>6039</td>\n",
       "      <td>283</td>\n",
       "      <td>5</td>\n",
       "    </tr>\n",
       "    <tr>\n",
       "      <th>4</th>\n",
       "      <td>6039</td>\n",
       "      <td>2462</td>\n",
       "      <td>5</td>\n",
       "    </tr>\n",
       "  </tbody>\n",
       "</table>\n",
       "<p>836483 rows × 3 columns</p>\n",
       "</div>"
      ],
      "text/plain": [
       "    user_id  title  counts\n",
       "0         0      0       5\n",
       "1         1      0       4\n",
       "2         2      0       4\n",
       "3         3      0       5\n",
       "4         4      0       5\n",
       "..      ...    ...     ...\n",
       "0      6039   1122       5\n",
       "1      6039      0       5\n",
       "2      6039   2325       5\n",
       "3      6039    283       5\n",
       "4      6039   2462       5\n",
       "\n",
       "[836483 rows x 3 columns]"
      ]
     },
     "execution_count": 20,
     "metadata": {},
     "output_type": "execute_result"
    }
   ],
   "source": [
    "# indexing을 통해 데이터 컬럼 내 값을 바꾸는 코드\n",
    "\n",
    "# user_to_idx.get을 통해 user_id 컬럼의 모든 값을 인덱싱한 Series를 구해 봅시다. \n",
    "# 혹시 정상적으로 인덱싱되지 않은 row가 있다면 인덱스가 NaN이 될 테니 dropna()로 제거합니다.\n",
    "temp_user_data = data['user_id'].map(user_to_idx.get).dropna()\n",
    "if len(temp_user_data) == len(data):   # 모든 row가 정상적으로 인덱싱되었다면\n",
    "    print('user_id column indexing OK!')\n",
    "    data['user_id'] = temp_user_data   # data['user_id']을 인덱싱된 Series로 교체해 줍니다.\n",
    "else:\n",
    "    print('user_id column indexing Fail!')\n",
    "    \n",
    "# temp_title_data을 통해 title 컬럼도 동일한 방식으로 인덱싱해 줍니다. \n",
    "temp_title_data = data['title'].map(title_to_idx.get).dropna()\n",
    "if len(temp_title_data) == len(data):\n",
    "    print('title column indexing OK!')\n",
    "    data['title'] = temp_title_data\n",
    "else:\n",
    "    print('title column indexing Fail!')\n",
    "\n",
    "data"
   ]
  },
  {
   "cell_type": "markdown",
   "id": "7864d509",
   "metadata": {},
   "source": [
    "## CSR matrix 를 직접 만들어 봅시다"
   ]
  },
  {
   "cell_type": "code",
   "execution_count": 23,
   "id": "3461c1b8",
   "metadata": {},
   "outputs": [
    {
     "data": {
      "text/plain": [
       "<6040x3628 sparse matrix of type '<class 'numpy.int64'>'\n",
       "\twith 836483 stored elements in Compressed Sparse Row format>"
      ]
     },
     "execution_count": 23,
     "metadata": {},
     "output_type": "execute_result"
    }
   ],
   "source": [
    "from scipy.sparse import csr_matrix\n",
    "\n",
    "num_user = data['user_id'].nunique()\n",
    "num_movie = data['title'].nunique()\n",
    "\n",
    "csr_data = csr_matrix((data.counts, (data.user_id, data.title)), shape=(num_user, num_movie))\n",
    "csr_data"
   ]
  },
  {
   "cell_type": "markdown",
   "id": "f4043bb4",
   "metadata": {},
   "source": [
    "## als_model = AlternatingLeastSquares 모델을 직접 구성하여 훈련"
   ]
  },
  {
   "cell_type": "code",
   "execution_count": 24,
   "id": "8765f1e0",
   "metadata": {},
   "outputs": [],
   "source": [
    "from implicit.als import AlternatingLeastSquares\n",
    "import os\n",
    "import numpy as np\n",
    "\n",
    "# implicit 라이브러리에서 권장하고 있는 부분입니다. 학습 내용과는 무관합니다.\n",
    "os.environ['OPENBLAS_NUM_THREADS']='1'\n",
    "os.environ['KMP_DUPLICATE_LIB_OK']='True'\n",
    "os.environ['MKL_NUM_THREADS']='1'"
   ]
  },
  {
   "cell_type": "code",
   "execution_count": 25,
   "id": "0add3a26",
   "metadata": {},
   "outputs": [],
   "source": [
    "# Implicit AlternatingLeastSquares 모델의 선언\n",
    "als_model = AlternatingLeastSquares(factors=100, regularization=0.01, use_gpu=False, \n",
    "                                   iterations=30, dtype=np.float32)"
   ]
  },
  {
   "cell_type": "code",
   "execution_count": 26,
   "id": "9b32c735",
   "metadata": {},
   "outputs": [
    {
     "data": {
      "text/plain": [
       "<3628x6040 sparse matrix of type '<class 'numpy.int64'>'\n",
       "\twith 836483 stored elements in Compressed Sparse Column format>"
      ]
     },
     "execution_count": 26,
     "metadata": {},
     "output_type": "execute_result"
    }
   ],
   "source": [
    "# als 모델은 input으로 (item X user 꼴의 matrix를 받기 때문에 Transpose해줍니다.)\n",
    "csr_data_transpose = csr_data.T\n",
    "csr_data_transpose"
   ]
  },
  {
   "cell_type": "code",
   "execution_count": 27,
   "id": "69ec2d2c",
   "metadata": {},
   "outputs": [
    {
     "data": {
      "application/vnd.jupyter.widget-view+json": {
       "model_id": "654834387a4f4b649c067871363f02ec",
       "version_major": 2,
       "version_minor": 0
      },
      "text/plain": [
       "  0%|          | 0/30 [00:00<?, ?it/s]"
      ]
     },
     "metadata": {},
     "output_type": "display_data"
    }
   ],
   "source": [
    "als_model.fit(csr_data_transpose)"
   ]
  },
  {
   "cell_type": "code",
   "execution_count": 28,
   "id": "227b0935",
   "metadata": {},
   "outputs": [],
   "source": [
    "kiim, pulp_fiction = user_to_idx['kiim'], title_to_idx['pulp fiction (1994)']\n",
    "kiim_vector, pulp_fiction_vector = als_model.user_factors[kiim], als_model.item_factors[pulp_fiction]"
   ]
  },
  {
   "cell_type": "code",
   "execution_count": 29,
   "id": "9d8270aa",
   "metadata": {},
   "outputs": [
    {
     "data": {
      "text/plain": [
       "array([ 6.80094898e-01,  9.67151951e-03,  4.06058818e-01,  3.71326327e-01,\n",
       "       -1.73615202e-01,  9.67005908e-01,  4.19849515e-01,  7.07215741e-02,\n",
       "        5.45531220e-04,  3.80481392e-01, -1.24943733e-01, -1.47625327e-01,\n",
       "       -4.79380846e-01,  4.08991754e-01,  1.26154459e+00, -5.33981919e-01,\n",
       "       -4.35625792e-01, -3.95202935e-01,  2.58991212e-01,  5.44590533e-01,\n",
       "       -4.80468899e-01,  1.19961195e-01, -5.95639169e-01, -3.87701213e-01,\n",
       "       -1.39077500e-01,  3.60449791e-01, -6.98778391e-01, -3.87644559e-01,\n",
       "        2.27056399e-01,  5.92027716e-02, -9.94823575e-02, -1.89295933e-01,\n",
       "       -5.47365725e-01, -1.37062833e-01, -5.01883626e-01,  6.06560767e-01,\n",
       "        1.03531033e-01, -1.20902091e-01,  3.79745573e-01, -2.26586476e-01,\n",
       "       -5.46148717e-01, -8.17536488e-02,  7.47364402e-01, -5.85156918e-01,\n",
       "       -5.92535675e-01, -1.61319524e-01, -5.89459717e-01,  1.09395206e+00,\n",
       "       -2.33324975e-01,  6.12344146e-01, -1.09431811e-01,  6.02760203e-02,\n",
       "       -5.49740553e-01, -8.11922029e-02, -1.40113622e-01, -2.19292983e-01,\n",
       "       -2.32245177e-01,  4.64492083e-01,  3.01643610e-01, -1.79409966e-01,\n",
       "       -1.81216717e-01, -5.32099366e-01, -5.56043582e-03, -2.61502802e-01,\n",
       "       -2.16477036e-01,  1.50576815e-01,  2.82339215e-01, -1.24613188e-01,\n",
       "        6.99635923e-01,  1.17737424e+00,  1.99825212e-01, -7.75542157e-03,\n",
       "        5.19533530e-02,  6.39304280e-01, -9.63195935e-02,  6.37054026e-01,\n",
       "       -2.10344687e-01, -2.78694421e-01,  7.90477931e-01, -1.68241665e-01,\n",
       "        7.20606372e-02,  2.73932815e-01, -2.89302289e-01,  1.45782411e-01,\n",
       "       -6.72340766e-02,  3.40078861e-01,  4.04880084e-02,  2.84422957e-03,\n",
       "        4.04447138e-01,  3.42596099e-02, -9.32146832e-02, -3.09285045e-01,\n",
       "        3.05263460e-01, -4.38080996e-01,  7.57121265e-01, -1.17283948e-01,\n",
       "        8.05429071e-02, -1.03344142e-01, -3.98911804e-01, -5.52728474e-01],\n",
       "      dtype=float32)"
      ]
     },
     "execution_count": 29,
     "metadata": {},
     "output_type": "execute_result"
    }
   ],
   "source": [
    "kiim_vector"
   ]
  },
  {
   "cell_type": "code",
   "execution_count": 30,
   "id": "fe8756ac",
   "metadata": {},
   "outputs": [
    {
     "data": {
      "text/plain": [
       "array([ 9.69590154e-03,  9.52462293e-03,  5.43430150e-02,  2.53465958e-02,\n",
       "       -5.80639066e-03,  1.51276244e-02,  2.64340714e-02,  2.34771948e-02,\n",
       "       -1.15668774e-02,  1.42715650e-03,  7.84352701e-03, -5.59275923e-03,\n",
       "        6.40712539e-03,  2.39305403e-02,  2.50843707e-02, -1.57291815e-02,\n",
       "        1.47262705e-03,  6.87642116e-03,  1.15409335e-02,  2.56108586e-02,\n",
       "        9.96147137e-05, -3.44542190e-02,  1.19308652e-02, -2.79108062e-02,\n",
       "       -1.10010905e-02,  2.34090928e-02, -3.90790356e-03,  1.97645891e-02,\n",
       "       -8.50399956e-04,  2.72513181e-02, -3.22962180e-04,  1.74372010e-02,\n",
       "        3.25749032e-02, -1.26000047e-02,  1.68754149e-03,  2.31374800e-02,\n",
       "       -2.01385152e-02,  2.79344618e-02,  1.06373774e-02,  2.31128260e-02,\n",
       "        1.53368851e-02, -5.41146332e-03, -4.88965912e-03, -3.72545458e-02,\n",
       "        7.63704826e-04, -2.98927873e-02, -1.92026049e-02,  3.87465842e-02,\n",
       "        2.41849106e-02,  2.11392939e-02, -1.19580620e-03, -2.14932300e-02,\n",
       "       -2.84709949e-02, -6.87605236e-03, -3.94315133e-03, -1.25157051e-02,\n",
       "       -3.33197825e-02,  2.34467965e-02,  2.96580401e-04,  2.09728256e-02,\n",
       "       -7.91662745e-03, -7.05444394e-03, -2.17736773e-02, -1.55732101e-02,\n",
       "       -8.68958514e-03,  5.25661271e-05,  2.09628195e-02,  3.54578532e-02,\n",
       "        4.23066989e-02,  5.06037623e-02, -5.81574952e-03,  9.20598023e-03,\n",
       "        2.89328527e-02,  2.37403773e-02,  1.64033542e-03, -8.12590215e-03,\n",
       "        2.06276844e-03, -5.78147871e-03,  2.71656215e-02,  2.25243196e-02,\n",
       "        2.23525073e-02, -2.14255527e-02,  6.89230394e-03,  7.05055371e-02,\n",
       "        1.26621518e-02,  8.59431282e-04,  8.32662266e-03,  6.39252458e-03,\n",
       "        1.87645592e-02,  6.93041133e-04,  1.78339016e-02, -1.85167622e-02,\n",
       "        1.91886015e-02, -1.39829600e-02,  8.28954484e-03,  7.94918276e-04,\n",
       "        3.37256044e-02, -6.02783449e-03, -2.75695906e-03, -9.82884690e-03],\n",
       "      dtype=float32)"
      ]
     },
     "execution_count": 30,
     "metadata": {},
     "output_type": "execute_result"
    }
   ],
   "source": [
    "pulp_fiction_vector"
   ]
  },
  {
   "cell_type": "markdown",
   "id": "4f96f5ed",
   "metadata": {},
   "source": [
    "## 내가 선호하는 5가지 영화 중 하나와 그 외의 영화 하나를 골라 훈련된 모델이 예측한 나의 선호도를 파악해 보세요."
   ]
  },
  {
   "cell_type": "code",
   "execution_count": 31,
   "id": "ff109be0",
   "metadata": {},
   "outputs": [
    {
     "data": {
      "text/plain": [
       "0.40377474"
      ]
     },
     "execution_count": 31,
     "metadata": {},
     "output_type": "execute_result"
    }
   ],
   "source": [
    "np.dot(kiim_vector, pulp_fiction_vector)"
   ]
  },
  {
   "cell_type": "code",
   "execution_count": 33,
   "id": "40741303",
   "metadata": {},
   "outputs": [
    {
     "data": {
      "text/plain": [
       "0.11162939"
      ]
     },
     "execution_count": 33,
     "metadata": {},
     "output_type": "execute_result"
    }
   ],
   "source": [
    "other_movie = title_to_idx['e.t. the extra-terrestrial (1982)']\n",
    "other_movie_vector = als_model.item_factors[other_movie]\n",
    "np.dot(kiim_vector, other_movie_vector)"
   ]
  },
  {
   "cell_type": "markdown",
   "id": "a2b5d961",
   "metadata": {},
   "source": [
    "## 내가 좋아하는 영화와 비슷한 영화를 추천받아 봅시다."
   ]
  },
  {
   "cell_type": "code",
   "execution_count": 34,
   "id": "7f92329a",
   "metadata": {},
   "outputs": [],
   "source": [
    "idx_to_title = {v:k for k,v in title_to_idx.items()}\n",
    "\n",
    "def get_similar_title(title_name: str):\n",
    "    title_id = title_to_idx[title_name]\n",
    "    similar_title = als_model.similar_items(title_id)\n",
    "    similar_title = [idx_to_title[i[0]] for i in similar_title]\n",
    "    return similar_title"
   ]
  },
  {
   "cell_type": "code",
   "execution_count": 35,
   "id": "17f978d4",
   "metadata": {},
   "outputs": [
    {
     "data": {
      "text/plain": [
       "['pulp fiction (1994)',\n",
       " 'goodfellas (1990)',\n",
       " 'fargo (1996)',\n",
       " 'usual suspects, the (1995)',\n",
       " 'shawshank redemption, the (1994)',\n",
       " 'silence of the lambs, the (1991)',\n",
       " 'reservoir dogs (1992)',\n",
       " 'good will hunting (1997)',\n",
       " 'l.a. confidential (1997)',\n",
       " 'seven (se7en) (1995)']"
      ]
     },
     "execution_count": 35,
     "metadata": {},
     "output_type": "execute_result"
    }
   ],
   "source": [
    "get_similar_title('pulp fiction (1994)')"
   ]
  },
  {
   "cell_type": "code",
   "execution_count": 36,
   "id": "3ad4c3ec",
   "metadata": {},
   "outputs": [
    {
     "data": {
      "text/plain": [
       "['toy story (1995)',\n",
       " 'toy story 2 (1999)',\n",
       " 'babe (1995)',\n",
       " \"bug's life, a (1998)\",\n",
       " 'aladdin (1992)',\n",
       " 'groundhog day (1993)',\n",
       " 'lion king, the (1994)',\n",
       " 'pleasantville (1998)',\n",
       " 'beauty and the beast (1991)',\n",
       " \"there's something about mary (1998)\"]"
      ]
     },
     "execution_count": 36,
     "metadata": {},
     "output_type": "execute_result"
    }
   ],
   "source": [
    "get_similar_title('toy story (1995)')"
   ]
  },
  {
   "cell_type": "markdown",
   "id": "d00f4b1f",
   "metadata": {},
   "source": [
    "## 내가 가장 좋아할 만한 영화들을 추천받아 봅시다."
   ]
  },
  {
   "cell_type": "code",
   "execution_count": 38,
   "id": "6117b1c2",
   "metadata": {},
   "outputs": [
    {
     "name": "stdout",
     "output_type": "stream",
     "text": [
      "toy story 2 (1999) 0000.489\n",
      "terminator 2: judgment day (1991) 0000.484\n",
      "sixth sense, the (1999) 0000.481\n",
      "usual suspects, the (1995) 0000.381\n",
      "silence of the lambs, the (1991) 0000.345\n",
      "back to the future (1985) 0000.327\n",
      "fargo (1996) 0000.312\n",
      "aliens (1986) 0000.304\n",
      "reservoir dogs (1992) 0000.299\n",
      "twelve monkeys (1995) 0000.298\n",
      "alien (1979) 0000.292\n",
      "groundhog day (1993) 0000.290\n",
      "bug's life, a (1998) 0000.289\n",
      "princess bride, the (1987) 0000.288\n",
      "star wars: episode v - the empire strikes back (1980) 0000.287\n",
      "fugitive, the (1993) 0000.284\n",
      "shawshank redemption, the (1994) 0000.281\n",
      "total recall (1990) 0000.280\n",
      "raiders of the lost ark (1981) 0000.260\n",
      "l.a. confidential (1997) 0000.257\n"
     ]
    }
   ],
   "source": [
    "user = user_to_idx['kiim']\n",
    "# recommend에서는 user*item CSR Matrix를 받습니다.\n",
    "title_recommended = als_model.recommend(user, csr_data, N=20, filter_already_liked_items=True)\n",
    "for i in title_recommended: \n",
    "    print(\"{} {:08.3f}\".format(idx_to_title[i[0]], i[1]))"
   ]
  },
  {
   "cell_type": "code",
   "execution_count": 44,
   "id": "db103fa0",
   "metadata": {},
   "outputs": [
    {
     "data": {
      "text/plain": [
       "[('matrix, the (1999)', 0.2760907432111592),\n",
       " ('terminator, the (1984)', 0.18572543309601172),\n",
       " ('toy story (1995)', 0.03342757240497053),\n",
       " ('pulp fiction (1994)', 0.00027773753415425323),\n",
       " ('ghostbusters (1984)', -0.015644472989724205)]"
      ]
     },
     "execution_count": 44,
     "metadata": {},
     "output_type": "execute_result"
    }
   ],
   "source": [
    "rihanna = title_to_idx['terminator 2: judgment day (1991)']\n",
    "explain = als_model.explain(user, csr_data, itemid=rihanna)\n",
    "[(idx_to_title[i[0]], i[1]) for i in explain[1]]"
   ]
  },
  {
   "cell_type": "markdown",
   "id": "2ec9c5f2",
   "metadata": {},
   "source": [
    "# 회고"
   ]
  },
  {
   "cell_type": "markdown",
   "id": "33b7b7a1",
   "metadata": {},
   "source": [
    "이번 실습의 추천 시스템 모델 구성은 생각보다 간단했다.  \n",
    "그런데 정확도는 높지 않은 거 같다.  \n",
    "더 많은 영화 별점을 추가하면 정확도가 높아질까?  \n",
    "더 좋은 추천 시스템 모델이 있는지 궁금해졌다.  "
   ]
  }
 ],
 "metadata": {
  "kernelspec": {
   "display_name": "Python 3 (ipykernel)",
   "language": "python",
   "name": "python3"
  },
  "language_info": {
   "codemirror_mode": {
    "name": "ipython",
    "version": 3
   },
   "file_extension": ".py",
   "mimetype": "text/x-python",
   "name": "python",
   "nbconvert_exporter": "python",
   "pygments_lexer": "ipython3",
   "version": "3.9.7"
  }
 },
 "nbformat": 4,
 "nbformat_minor": 5
}
